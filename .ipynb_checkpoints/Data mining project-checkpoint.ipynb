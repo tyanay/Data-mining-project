{
 "cells": [
  {
   "cell_type": "markdown",
   "metadata": {},
   "source": [
    "# Data Mining Project\n",
    "\n",
    "**Authors:**\n",
    "<br>Yogev Matalon\n",
    "<br>Tomer Yanay\n",
    "<br>Noam Tor"
   ]
  },
  {
   "cell_type": "code",
   "execution_count": 3,
   "metadata": {
    "collapsed": true
   },
   "outputs": [],
   "source": [
    "import pandas as pd\n",
    "import numpy as np\n",
    "import seaborn as sns\n",
    "from matplotlib import pyplot as plt\n",
    "plt.style.use(\"ggplot\")\n",
    "from sklearn.decomposition import PCA\n",
    "from sklearn.discriminant_analysis import LinearDiscriminantAnalysis\n",
    "\n",
    "%matplotlib inline"
   ]
  },
  {
   "cell_type": "markdown",
   "metadata": {},
   "source": [
    "## Load Data"
   ]
  },
  {
   "cell_type": "code",
   "execution_count": 4,
   "metadata": {},
   "outputs": [
    {
     "data": {
      "text/html": [
       "<div>\n",
       "<style scoped>\n",
       "    .dataframe tbody tr th:only-of-type {\n",
       "        vertical-align: middle;\n",
       "    }\n",
       "\n",
       "    .dataframe tbody tr th {\n",
       "        vertical-align: top;\n",
       "    }\n",
       "\n",
       "    .dataframe thead th {\n",
       "        text-align: right;\n",
       "    }\n",
       "</style>\n",
       "<table border=\"1\" class=\"dataframe\">\n",
       "  <thead>\n",
       "    <tr style=\"text-align: right;\">\n",
       "      <th></th>\n",
       "      <th>feat_56</th>\n",
       "      <th>feat_7</th>\n",
       "      <th>feat_69</th>\n",
       "      <th>feat_12</th>\n",
       "      <th>feat_70</th>\n",
       "      <th>feat_51</th>\n",
       "      <th>feat_20</th>\n",
       "      <th>feat_21</th>\n",
       "      <th>feat_61</th>\n",
       "      <th>feat_23</th>\n",
       "      <th>target</th>\n",
       "    </tr>\n",
       "  </thead>\n",
       "  <tbody>\n",
       "    <tr>\n",
       "      <th>0</th>\n",
       "      <td>0</td>\n",
       "      <td>0</td>\n",
       "      <td>0</td>\n",
       "      <td>0</td>\n",
       "      <td>0</td>\n",
       "      <td>0</td>\n",
       "      <td>0</td>\n",
       "      <td>0</td>\n",
       "      <td>0</td>\n",
       "      <td>0</td>\n",
       "      <td>Class_2</td>\n",
       "    </tr>\n",
       "    <tr>\n",
       "      <th>1</th>\n",
       "      <td>1</td>\n",
       "      <td>0</td>\n",
       "      <td>0</td>\n",
       "      <td>0</td>\n",
       "      <td>0</td>\n",
       "      <td>0</td>\n",
       "      <td>0</td>\n",
       "      <td>0</td>\n",
       "      <td>0</td>\n",
       "      <td>0</td>\n",
       "      <td>Class_6</td>\n",
       "    </tr>\n",
       "    <tr>\n",
       "      <th>2</th>\n",
       "      <td>0</td>\n",
       "      <td>0</td>\n",
       "      <td>0</td>\n",
       "      <td>0</td>\n",
       "      <td>1</td>\n",
       "      <td>0</td>\n",
       "      <td>0</td>\n",
       "      <td>6</td>\n",
       "      <td>5</td>\n",
       "      <td>0</td>\n",
       "      <td>Class_6</td>\n",
       "    </tr>\n",
       "    <tr>\n",
       "      <th>3</th>\n",
       "      <td>0</td>\n",
       "      <td>0</td>\n",
       "      <td>0</td>\n",
       "      <td>0</td>\n",
       "      <td>6</td>\n",
       "      <td>0</td>\n",
       "      <td>0</td>\n",
       "      <td>0</td>\n",
       "      <td>0</td>\n",
       "      <td>0</td>\n",
       "      <td>Class_3</td>\n",
       "    </tr>\n",
       "    <tr>\n",
       "      <th>4</th>\n",
       "      <td>0</td>\n",
       "      <td>0</td>\n",
       "      <td>0</td>\n",
       "      <td>0</td>\n",
       "      <td>2</td>\n",
       "      <td>0</td>\n",
       "      <td>0</td>\n",
       "      <td>0</td>\n",
       "      <td>0</td>\n",
       "      <td>0</td>\n",
       "      <td>Class_3</td>\n",
       "    </tr>\n",
       "  </tbody>\n",
       "</table>\n",
       "</div>"
      ],
      "text/plain": [
       "   feat_56  feat_7  feat_69  feat_12  feat_70  feat_51  feat_20  feat_21  \\\n",
       "0        0       0        0        0        0        0        0        0   \n",
       "1        1       0        0        0        0        0        0        0   \n",
       "2        0       0        0        0        1        0        0        6   \n",
       "3        0       0        0        0        6        0        0        0   \n",
       "4        0       0        0        0        2        0        0        0   \n",
       "\n",
       "   feat_61  feat_23   target  \n",
       "0        0        0  Class_2  \n",
       "1        0        0  Class_6  \n",
       "2        5        0  Class_6  \n",
       "3        0        0  Class_3  \n",
       "4        0        0  Class_3  "
      ]
     },
     "execution_count": 4,
     "metadata": {},
     "output_type": "execute_result"
    }
   ],
   "source": [
    "df = pd.read_csv(\"train.csv\")\n",
    "df.head(5)"
   ]
  },
  {
   "cell_type": "markdown",
   "metadata": {},
   "source": [
    "# Step 1 - Data Exploration"
   ]
  },
  {
   "cell_type": "markdown",
   "metadata": {},
   "source": [
    "### Find the most common classes and filter the dataset"
   ]
  },
  {
   "cell_type": "code",
   "execution_count": 5,
   "metadata": {},
   "outputs": [
    {
     "data": {
      "image/png": "[encoded data removed]",
      "text/plain": [
       "<matplotlib.figure.Figure at 0x1f40ff28>"
      ]
     },
     "metadata": {},
     "output_type": "display_data"
    }
   ],
   "source": [
    "plt.figure(num=None, figsize=(10, 6), facecolor='w', edgecolor='k')\n",
    "h = sns.countplot(x=\"target\", data=df, order = df['target'].value_counts().index)"
   ]
  },
  {
   "cell_type": "markdown",
   "metadata": {},
   "source": [
    "We can see that the most commun classes are number 2 and 6. We will use these classes for our project, and remove all other rows with other classes."
   ]
  },
  {
   "cell_type": "code",
   "execution_count": 6,
   "metadata": {},
   "outputs": [
    {
     "name": "stdout",
     "output_type": "stream",
     "text": [
      "(23689, 'rows were removed.\\nNow we have ', '22719', ' rows in our data.')\n"
     ]
    }
   ],
   "source": [
    "old_row_num = df.shape[0]\n",
    "df = df[(df['target'] == 'Class_6') | (df['target'] == 'Class_2')]  # Select Features 2 and 6 only.\n",
    "df.head(5)\n",
    "df.index = range(0,df.shape[0],1)\n",
    "row_num = df.shape[0]\n",
    "print (old_row_num - row_num, \"rows were removed.\\nNow we have \", str(df.shape[0]) ,\" rows in our data.\")"
   ]
  },
  {
   "cell_type": "code",
   "execution_count": 7,
   "metadata": {
    "scrolled": false
   },
   "outputs": [
    {
     "name": "stdout",
     "output_type": "stream",
     "text": [
      "Data Label Distribution:\n",
      "\n",
      "         NumOfRows  RowsPercent\n",
      "Class_2      12059     0.530789\n",
      "Class_6      10660     0.469211\n"
     ]
    },
    {
     "data": {
      "image/png": "[encoded data removed]",
      "text/plain": [
       "<matplotlib.figure.Figure at 0x1f5a9358>"
      ]
     },
     "metadata": {},
     "output_type": "display_data"
    }
   ],
   "source": [
    "print('Data Label Distribution:\\n')\n",
    "classes_dist = pd.concat([pd.DataFrame(df.target.value_counts()), pd.DataFrame(df.target.value_counts())[\"target\"] / df.shape[0]], axis = 1)\n",
    "classes_dist.columns = [\"NumOfRows\" , \"RowsPercent\"]\n",
    "print (classes_dist)\n",
    "\n",
    "df.target.hist(bins=np.arange(3) - 0.5, width=1)\n",
    "plt.xticks(range(2))\n",
    "plt.xlim([-1, 2])\n",
    "plt.title('Data Targets Distribution')\n",
    "plt.xlabel('Target Class')\n",
    "plt.ylabel('Number of Records')\n",
    "plt.show()"
   ]
  },
  {
   "cell_type": "markdown",
   "metadata": {},
   "source": [
    "We can declare that the classes are well-balanced."
   ]
  },
  {
   "cell_type": "markdown",
   "metadata": {},
   "source": [
    "## Explore the Features\n",
    "### Description and Box Plot"
   ]
  },
  {
   "cell_type": "code",
   "execution_count": 8,
   "metadata": {},
   "outputs": [
    {
     "name": "stdout",
     "output_type": "stream",
     "text": [
      "<class 'pandas.core.frame.DataFrame'>\n",
      "Int64Index: 22719 entries, 0 to 22718\n",
      "Data columns (total 11 columns):\n",
      "feat_56    22719 non-null int64\n",
      "feat_7     22719 non-null int64\n",
      "feat_69    22719 non-null int64\n",
      "feat_12    22719 non-null int64\n",
      "feat_70    22719 non-null int64\n",
      "feat_51    22719 non-null int64\n",
      "feat_20    22719 non-null int64\n",
      "feat_21    22719 non-null int64\n",
      "feat_61    22719 non-null int64\n",
      "feat_23    22719 non-null int64\n",
      "target     22719 non-null object\n",
      "dtypes: int64(10), object(1)\n",
      "memory usage: 2.1+ MB\n"
     ]
    }
   ],
   "source": [
    "df.info()"
   ]
  },
  {
   "cell_type": "markdown",
   "metadata": {},
   "source": [
    "All features are non-null, int64 dtype."
   ]
  },
  {
   "cell_type": "code",
   "execution_count": 9,
   "metadata": {},
   "outputs": [
    {
     "data": {
      "text/html": [
       "<div>\n",
       "<style scoped>\n",
       "    .dataframe tbody tr th:only-of-type {\n",
       "        vertical-align: middle;\n",
       "    }\n",
       "\n",
       "    .dataframe tbody tr th {\n",
       "        vertical-align: top;\n",
       "    }\n",
       "\n",
       "    .dataframe thead th {\n",
       "        text-align: right;\n",
       "    }\n",
       "</style>\n",
       "<table border=\"1\" class=\"dataframe\">\n",
       "  <thead>\n",
       "    <tr style=\"text-align: right;\">\n",
       "      <th></th>\n",
       "      <th>feat_56</th>\n",
       "      <th>feat_7</th>\n",
       "      <th>feat_69</th>\n",
       "      <th>feat_12</th>\n",
       "      <th>feat_70</th>\n",
       "      <th>feat_51</th>\n",
       "      <th>feat_20</th>\n",
       "      <th>feat_21</th>\n",
       "      <th>feat_61</th>\n",
       "      <th>feat_23</th>\n",
       "    </tr>\n",
       "  </thead>\n",
       "  <tbody>\n",
       "    <tr>\n",
       "      <th>count</th>\n",
       "      <td>22719.000000</td>\n",
       "      <td>22719.000000</td>\n",
       "      <td>22719.000000</td>\n",
       "      <td>22719.000000</td>\n",
       "      <td>22719.000000</td>\n",
       "      <td>22719.000000</td>\n",
       "      <td>22719.000000</td>\n",
       "      <td>22719.000000</td>\n",
       "      <td>22719.000000</td>\n",
       "      <td>22719.000000</td>\n",
       "    </tr>\n",
       "    <tr>\n",
       "      <th>mean</th>\n",
       "      <td>0.177209</td>\n",
       "      <td>0.064704</td>\n",
       "      <td>0.116158</td>\n",
       "      <td>0.129143</td>\n",
       "      <td>0.678903</td>\n",
       "      <td>0.058629</td>\n",
       "      <td>0.229367</td>\n",
       "      <td>0.306087</td>\n",
       "      <td>0.455258</td>\n",
       "      <td>0.079801</td>\n",
       "    </tr>\n",
       "    <tr>\n",
       "      <th>std</th>\n",
       "      <td>0.850590</td>\n",
       "      <td>0.336531</td>\n",
       "      <td>0.594397</td>\n",
       "      <td>0.446203</td>\n",
       "      <td>1.562736</td>\n",
       "      <td>0.585949</td>\n",
       "      <td>0.714869</td>\n",
       "      <td>0.857623</td>\n",
       "      <td>1.377320</td>\n",
       "      <td>0.466895</td>\n",
       "    </tr>\n",
       "    <tr>\n",
       "      <th>min</th>\n",
       "      <td>0.000000</td>\n",
       "      <td>0.000000</td>\n",
       "      <td>0.000000</td>\n",
       "      <td>0.000000</td>\n",
       "      <td>0.000000</td>\n",
       "      <td>0.000000</td>\n",
       "      <td>0.000000</td>\n",
       "      <td>0.000000</td>\n",
       "      <td>0.000000</td>\n",
       "      <td>0.000000</td>\n",
       "    </tr>\n",
       "    <tr>\n",
       "      <th>25%</th>\n",
       "      <td>0.000000</td>\n",
       "      <td>0.000000</td>\n",
       "      <td>0.000000</td>\n",
       "      <td>0.000000</td>\n",
       "      <td>0.000000</td>\n",
       "      <td>0.000000</td>\n",
       "      <td>0.000000</td>\n",
       "      <td>0.000000</td>\n",
       "      <td>0.000000</td>\n",
       "      <td>0.000000</td>\n",
       "    </tr>\n",
       "    <tr>\n",
       "      <th>50%</th>\n",
       "      <td>0.000000</td>\n",
       "      <td>0.000000</td>\n",
       "      <td>0.000000</td>\n",
       "      <td>0.000000</td>\n",
       "      <td>0.000000</td>\n",
       "      <td>0.000000</td>\n",
       "      <td>0.000000</td>\n",
       "      <td>0.000000</td>\n",
       "      <td>0.000000</td>\n",
       "      <td>0.000000</td>\n",
       "    </tr>\n",
       "    <tr>\n",
       "      <th>75%</th>\n",
       "      <td>0.000000</td>\n",
       "      <td>0.000000</td>\n",
       "      <td>0.000000</td>\n",
       "      <td>0.000000</td>\n",
       "      <td>1.000000</td>\n",
       "      <td>0.000000</td>\n",
       "      <td>0.000000</td>\n",
       "      <td>0.000000</td>\n",
       "      <td>0.000000</td>\n",
       "      <td>0.000000</td>\n",
       "    </tr>\n",
       "    <tr>\n",
       "      <th>max</th>\n",
       "      <td>42.000000</td>\n",
       "      <td>9.000000</td>\n",
       "      <td>21.000000</td>\n",
       "      <td>12.000000</td>\n",
       "      <td>32.000000</td>\n",
       "      <td>44.000000</td>\n",
       "      <td>13.000000</td>\n",
       "      <td>13.000000</td>\n",
       "      <td>33.000000</td>\n",
       "      <td>15.000000</td>\n",
       "    </tr>\n",
       "  </tbody>\n",
       "</table>\n",
       "</div>"
      ],
      "text/plain": [
       "            feat_56        feat_7       feat_69       feat_12       feat_70  \\\n",
       "count  22719.000000  22719.000000  22719.000000  22719.000000  22719.000000   \n",
       "mean       0.177209      0.064704      0.116158      0.129143      0.678903   \n",
       "std        0.850590      0.336531      0.594397      0.446203      1.562736   \n",
       "min        0.000000      0.000000      0.000000      0.000000      0.000000   \n",
       "25%        0.000000      0.000000      0.000000      0.000000      0.000000   \n",
       "50%        0.000000      0.000000      0.000000      0.000000      0.000000   \n",
       "75%        0.000000      0.000000      0.000000      0.000000      1.000000   \n",
       "max       42.000000      9.000000     21.000000     12.000000     32.000000   \n",
       "\n",
       "            feat_51       feat_20       feat_21       feat_61       feat_23  \n",
       "count  22719.000000  22719.000000  22719.000000  22719.000000  22719.000000  \n",
       "mean       0.058629      0.229367      0.306087      0.455258      0.079801  \n",
       "std        0.585949      0.714869      0.857623      1.377320      0.466895  \n",
       "min        0.000000      0.000000      0.000000      0.000000      0.000000  \n",
       "25%        0.000000      0.000000      0.000000      0.000000      0.000000  \n",
       "50%        0.000000      0.000000      0.000000      0.000000      0.000000  \n",
       "75%        0.000000      0.000000      0.000000      0.000000      0.000000  \n",
       "max       44.000000     13.000000     13.000000     33.000000     15.000000  "
      ]
     },
     "execution_count": 9,
     "metadata": {},
     "output_type": "execute_result"
    }
   ],
   "source": [
    "df.describe()  # Ge thte mathematical description of the data"
   ]
  },
  {
   "cell_type": "markdown",
   "metadata": {},
   "source": [
    "for all the features the mean is very close to 0 and the 75% is 0 <br>\n",
    "the data very sparse."
   ]
  },
  {
   "cell_type": "code",
   "execution_count": 10,
   "metadata": {},
   "outputs": [
    {
     "data": {
      "text/plain": [
       "<matplotlib.axes._subplots.AxesSubplot at 0x1f7025f8>"
      ]
     },
     "execution_count": 10,
     "metadata": {},
     "output_type": "execute_result"
    },
    {
     "data": {
      "image/png": "[encoded data removed]",
      "text/plain": [
       "<matplotlib.figure.Figure at 0x1f8f5cf8>"
      ]
     },
     "metadata": {},
     "output_type": "display_data"
    }
   ],
   "source": [
    "plt.figure(figsize=(10, 4))\n",
    "df.boxplot()"
   ]
  },
  {
   "cell_type": "markdown",
   "metadata": {},
   "source": [
    "We can see that in most features, most of our data is 0. The Box Plots have no size, and \"stuck\" at 0, and the data which is not zero is marked as outliers."
   ]
  },
  {
   "cell_type": "markdown",
   "metadata": {},
   "source": [
    "### Distribution of each feature within the classes"
   ]
  },
  {
   "cell_type": "code",
   "execution_count": 11,
   "metadata": {
    "scrolled": false
   },
   "outputs": [
    {
     "data": {
      "image/png": "[encoded data removed]",
      "text/plain": [
       "<matplotlib.figure.Figure at 0x1fe34e80>"
      ]
     },
     "metadata": {},
     "output_type": "display_data"
    },
    {
     "data": {
      "image/png": "[encoded data removed]",
      "text/plain": [
       "<matplotlib.figure.Figure at 0x22d35668>"
      ]
     },
     "metadata": {},
     "output_type": "display_data"
    },
    {
     "data": {
      "image/png": "[encoded data removed]",
      "text/plain": [
       "<matplotlib.figure.Figure at 0x22d356d8>"
      ]
     },
     "metadata": {},
     "output_type": "display_data"
    },
    {
     "data": {
      "image/png": "[encoded data removed]",
      "text/plain": [
       "<matplotlib.figure.Figure at 0x22e008d0>"
      ]
     },
     "metadata": {},
     "output_type": "display_data"
    },
    {
     "data": {
      "image/png": "[encoded data removed]",
      "text/plain": [
       "<matplotlib.figure.Figure at 0x1fd54b70>"
      ]
     },
     "metadata": {},
     "output_type": "display_data"
    },
    {
     "data": {
      "image/png": "[encoded data removed]",
      "text/plain": [
       "<matplotlib.figure.Figure at 0x230df588>"
      ]
     },
     "metadata": {},
     "output_type": "display_data"
    },
    {
     "data": {
      "image/png": "[encoded data removed]",
      "text/plain": [
       "<matplotlib.figure.Figure at 0x230df978>"
      ]
     },
     "metadata": {},
     "output_type": "display_data"
    },
    {
     "data": {
      "image/png": "[encoded data removed]",
      "text/plain": [
       "<matplotlib.figure.Figure at 0x230df2b0>"
      ]
     },
     "metadata": {},
     "output_type": "display_data"
    },
    {
     "data": {
      "image/png": "[encoded data removed]",
      "text/plain": [
       "<matplotlib.figure.Figure at 0x1f47d208>"
      ]
     },
     "metadata": {},
     "output_type": "display_data"
    },
    {
     "data": {
      "image/png": "[encoded data removed]",
      "text/plain": [
       "<matplotlib.figure.Figure at 0x1f879908>"
      ]
     },
     "metadata": {},
     "output_type": "display_data"
    }
   ],
   "source": [
    "for col in df.columns[:-1]:\n",
    "    plt.figure(figsize=(10,3))\n",
    "    sns.kdeplot(df.loc[df.target=='Class_2', col], label='Class_2')  # KDE of class 2\n",
    "    sns.kdeplot(df.loc[df.target=='Class_6', col], label='Class_6')  # KDE of class 6\n",
    "    plt.legend(fontsize=22)\n",
    "    plt.title(col, fontsize=22);"
   ]
  },
  {
   "cell_type": "markdown",
   "metadata": {},
   "source": [
    "we can see that in most of the features the distributions of class6 and class 2 are similar. <br>\n",
    "it means that it will be difficult to seperate between the classes and maybe 100% accuracy is not even not possible."
   ]
  },
  {
   "cell_type": "markdown",
   "metadata": {},
   "source": [
    "### Understand the sparse of each feature"
   ]
  },
  {
   "cell_type": "code",
   "execution_count": 81,
   "metadata": {},
   "outputs": [
    {
     "name": "stdout",
     "output_type": "stream",
     "text": [
      "Non zeros percent in each feture:\n"
     ]
    },
    {
     "data": {
      "image/png": "[encoded data removed]",
      "text/plain": [
       "<matplotlib.figure.Figure at 0x2891e048>"
      ]
     },
     "metadata": {},
     "output_type": "display_data"
    },
    {
     "name": "stdout",
     "output_type": "stream",
     "text": [
      "feat_56    0.110304\n",
      "feat_7     0.050574\n",
      "feat_69    0.073155\n",
      "feat_12    0.103350\n",
      "feat_70    0.311413\n",
      "feat_51    0.030327\n",
      "feat_20    0.148818\n",
      "feat_21    0.171530\n",
      "feat_61    0.169990\n",
      "feat_23    0.047889\n",
      "dtype: float64\n"
     ]
    }
   ],
   "source": [
    "print \"Non zeros percent in each feture:\"\n",
    "y = ((df[:-1] !=0).sum() / row_num)[:-1]\n",
    "x = df.columns[:-1]\n",
    "plt.figure(figsize=(10,3))\n",
    "width = 1/1.5\n",
    "plt.bar(x, y, width, color=\"darkblue\")\n",
    "plt.show()\n",
    "print (y)"
   ]
  },
  {
   "cell_type": "markdown",
   "metadata": {},
   "source": [
    "We can see that the data is **very sparse**, places withot zero are very important, and we will build new features based on this insight."
   ]
  },
  {
   "cell_type": "markdown",
   "metadata": {},
   "source": [
    "### Understand the features correlation"
   ]
  },
  {
   "cell_type": "code",
   "execution_count": 13,
   "metadata": {
    "scrolled": false
   },
   "outputs": [
    {
     "data": {
      "text/plain": [
       "<matplotlib.axes._subplots.AxesSubplot at 0x25c534e0>"
      ]
     },
     "execution_count": 13,
     "metadata": {},
     "output_type": "execute_result"
    },
    {
     "data": {
      "image/png": "[encoded data removed]",
      "text/plain": [
       "<matplotlib.figure.Figure at 0x1fe34b00>"
      ]
     },
     "metadata": {},
     "output_type": "display_data"
    }
   ],
   "source": [
    "cor_mat = df.corr()\n",
    "sns.heatmap(cor_mat)"
   ]
  },
  {
   "cell_type": "markdown",
   "metadata": {},
   "source": [
    "We cannot see any significant correlation."
   ]
  },
  {
   "cell_type": "code",
   "execution_count": 14,
   "metadata": {
    "collapsed": true
   },
   "outputs": [],
   "source": [
    "# For ease of use, lets declare an array called X that will include the features columns names, and Y, the target.\n",
    "\n",
    "X = df[list(df.columns)[:-1]]\n",
    "original_col = list(df.columns)[:-1] # list with the original features names\n",
    "Y =  df['target']=='Class_2' #True (1) if the target is class_2, False (0) if the target is class_6"
   ]
  },
  {
   "cell_type": "markdown",
   "metadata": {},
   "source": [
    "----------"
   ]
  },
  {
   "cell_type": "markdown",
   "metadata": {},
   "source": [
    "# Step 2 - Pre-Processing"
   ]
  },
  {
   "cell_type": "markdown",
   "metadata": {},
   "source": [
    "### Outliers Removal\n",
    "No Outliers Removal needed. Explanation can be find in the attached pdf."
   ]
  },
  {
   "cell_type": "markdown",
   "metadata": {},
   "source": [
    "### Feature extraction"
   ]
  },
  {
   "cell_type": "code",
   "execution_count": 15,
   "metadata": {},
   "outputs": [
    {
     "data": {
      "text/html": [
       "<div>\n",
       "<style scoped>\n",
       "    .dataframe tbody tr th:only-of-type {\n",
       "        vertical-align: middle;\n",
       "    }\n",
       "\n",
       "    .dataframe tbody tr th {\n",
       "        vertical-align: top;\n",
       "    }\n",
       "\n",
       "    .dataframe thead th {\n",
       "        text-align: right;\n",
       "    }\n",
       "</style>\n",
       "<table border=\"1\" class=\"dataframe\">\n",
       "  <thead>\n",
       "    <tr style=\"text-align: right;\">\n",
       "      <th></th>\n",
       "      <th>feat_56</th>\n",
       "      <th>feat_7</th>\n",
       "      <th>feat_69</th>\n",
       "      <th>feat_12</th>\n",
       "      <th>feat_70</th>\n",
       "      <th>feat_51</th>\n",
       "      <th>feat_20</th>\n",
       "      <th>feat_21</th>\n",
       "      <th>feat_61</th>\n",
       "      <th>feat_23</th>\n",
       "      <th>zeros_number</th>\n",
       "    </tr>\n",
       "  </thead>\n",
       "  <tbody>\n",
       "    <tr>\n",
       "      <th>0</th>\n",
       "      <td>0</td>\n",
       "      <td>0</td>\n",
       "      <td>0</td>\n",
       "      <td>0</td>\n",
       "      <td>0</td>\n",
       "      <td>0</td>\n",
       "      <td>0</td>\n",
       "      <td>0</td>\n",
       "      <td>0</td>\n",
       "      <td>0</td>\n",
       "      <td>10</td>\n",
       "    </tr>\n",
       "    <tr>\n",
       "      <th>1</th>\n",
       "      <td>1</td>\n",
       "      <td>0</td>\n",
       "      <td>0</td>\n",
       "      <td>0</td>\n",
       "      <td>0</td>\n",
       "      <td>0</td>\n",
       "      <td>0</td>\n",
       "      <td>0</td>\n",
       "      <td>0</td>\n",
       "      <td>0</td>\n",
       "      <td>9</td>\n",
       "    </tr>\n",
       "  </tbody>\n",
       "</table>\n",
       "</div>"
      ],
      "text/plain": [
       "   feat_56  feat_7  feat_69  feat_12  feat_70  feat_51  feat_20  feat_21  \\\n",
       "0        0       0        0        0        0        0        0        0   \n",
       "1        1       0        0        0        0        0        0        0   \n",
       "\n",
       "   feat_61  feat_23  zeros_number  \n",
       "0        0        0            10  \n",
       "1        0        0             9  "
      ]
     },
     "execution_count": 15,
     "metadata": {},
     "output_type": "execute_result"
    }
   ],
   "source": [
    "# insert a feature with the number of zeros for each row\n",
    "X['zeros_number'] = (X[original_col] == 0).astype(int).sum(axis=1)\n",
    "extraction_col = ['zeros_number'] #list with the extraction features names\n",
    "X.head(2)"
   ]
  },
  {
   "cell_type": "code",
   "execution_count": 16,
   "metadata": {},
   "outputs": [
    {
     "data": {
      "text/html": [
       "<div>\n",
       "<style scoped>\n",
       "    .dataframe tbody tr th:only-of-type {\n",
       "        vertical-align: middle;\n",
       "    }\n",
       "\n",
       "    .dataframe tbody tr th {\n",
       "        vertical-align: top;\n",
       "    }\n",
       "\n",
       "    .dataframe thead th {\n",
       "        text-align: right;\n",
       "    }\n",
       "</style>\n",
       "<table border=\"1\" class=\"dataframe\">\n",
       "  <thead>\n",
       "    <tr style=\"text-align: right;\">\n",
       "      <th></th>\n",
       "      <th>feat_56</th>\n",
       "      <th>feat_7</th>\n",
       "      <th>feat_69</th>\n",
       "      <th>feat_12</th>\n",
       "      <th>feat_70</th>\n",
       "      <th>feat_51</th>\n",
       "      <th>feat_20</th>\n",
       "      <th>feat_21</th>\n",
       "      <th>feat_61</th>\n",
       "      <th>feat_23</th>\n",
       "      <th>zeros_number</th>\n",
       "      <th>smart_multi</th>\n",
       "    </tr>\n",
       "  </thead>\n",
       "  <tbody>\n",
       "    <tr>\n",
       "      <th>0</th>\n",
       "      <td>0</td>\n",
       "      <td>0</td>\n",
       "      <td>0</td>\n",
       "      <td>0</td>\n",
       "      <td>0</td>\n",
       "      <td>0</td>\n",
       "      <td>0</td>\n",
       "      <td>0</td>\n",
       "      <td>0</td>\n",
       "      <td>0</td>\n",
       "      <td>10</td>\n",
       "      <td>1</td>\n",
       "    </tr>\n",
       "    <tr>\n",
       "      <th>1</th>\n",
       "      <td>1</td>\n",
       "      <td>0</td>\n",
       "      <td>0</td>\n",
       "      <td>0</td>\n",
       "      <td>0</td>\n",
       "      <td>0</td>\n",
       "      <td>0</td>\n",
       "      <td>0</td>\n",
       "      <td>0</td>\n",
       "      <td>0</td>\n",
       "      <td>9</td>\n",
       "      <td>1</td>\n",
       "    </tr>\n",
       "  </tbody>\n",
       "</table>\n",
       "</div>"
      ],
      "text/plain": [
       "   feat_56  feat_7  feat_69  feat_12  feat_70  feat_51  feat_20  feat_21  \\\n",
       "0        0       0        0        0        0        0        0        0   \n",
       "1        1       0        0        0        0        0        0        0   \n",
       "\n",
       "   feat_61  feat_23  zeros_number  smart_multi  \n",
       "0        0        0            10            1  \n",
       "1        0        0             9            1  "
      ]
     },
     "execution_count": 16,
     "metadata": {},
     "output_type": "execute_result"
    }
   ],
   "source": [
    "# insert a feature with the multiplication of all the row, to avoid from 0 to all- if the value is 0 we multiple with 1\n",
    "# the idea- give greater meaning to number that are not 0 and appearing in the same row\n",
    "\n",
    "def smart_multi(row):\n",
    "    temp = 1\n",
    "    for col in row:\n",
    "        if col != 0:\n",
    "            temp *= col\n",
    "    return temp\n",
    "X['smart_multi'] = X[original_col].apply(smart_multi, axis = 1)\n",
    "extraction_col.append('smart_multi')\n",
    "X.head(2)"
   ]
  },
  {
   "cell_type": "markdown",
   "metadata": {},
   "source": [
    "### Data Normalization"
   ]
  },
  {
   "cell_type": "code",
   "execution_count": 17,
   "metadata": {},
   "outputs": [
    {
     "name": "stdout",
     "output_type": "stream",
     "text": [
      "(22719, 24)\n"
     ]
    },
    {
     "data": {
      "text/html": [
       "<div>\n",
       "<style scoped>\n",
       "    .dataframe tbody tr th:only-of-type {\n",
       "        vertical-align: middle;\n",
       "    }\n",
       "\n",
       "    .dataframe tbody tr th {\n",
       "        vertical-align: top;\n",
       "    }\n",
       "\n",
       "    .dataframe thead th {\n",
       "        text-align: right;\n",
       "    }\n",
       "</style>\n",
       "<table border=\"1\" class=\"dataframe\">\n",
       "  <thead>\n",
       "    <tr style=\"text-align: right;\">\n",
       "      <th></th>\n",
       "      <th>feat_56</th>\n",
       "      <th>feat_7</th>\n",
       "      <th>feat_69</th>\n",
       "      <th>feat_12</th>\n",
       "      <th>feat_70</th>\n",
       "      <th>feat_51</th>\n",
       "      <th>feat_20</th>\n",
       "      <th>feat_21</th>\n",
       "      <th>feat_61</th>\n",
       "      <th>feat_23</th>\n",
       "      <th>...</th>\n",
       "      <th>feat_69_norm</th>\n",
       "      <th>feat_12_norm</th>\n",
       "      <th>feat_70_norm</th>\n",
       "      <th>feat_51_norm</th>\n",
       "      <th>feat_20_norm</th>\n",
       "      <th>feat_21_norm</th>\n",
       "      <th>feat_61_norm</th>\n",
       "      <th>feat_23_norm</th>\n",
       "      <th>zeros_number_norm</th>\n",
       "      <th>smart_multi_norm</th>\n",
       "    </tr>\n",
       "  </thead>\n",
       "  <tbody>\n",
       "    <tr>\n",
       "      <th>0</th>\n",
       "      <td>0</td>\n",
       "      <td>0</td>\n",
       "      <td>0</td>\n",
       "      <td>0</td>\n",
       "      <td>0</td>\n",
       "      <td>0</td>\n",
       "      <td>0</td>\n",
       "      <td>0</td>\n",
       "      <td>0</td>\n",
       "      <td>0</td>\n",
       "      <td>...</td>\n",
       "      <td>0.0</td>\n",
       "      <td>0.0</td>\n",
       "      <td>0.0</td>\n",
       "      <td>0.0</td>\n",
       "      <td>0.0</td>\n",
       "      <td>0.0</td>\n",
       "      <td>0.0</td>\n",
       "      <td>0.0</td>\n",
       "      <td>1.000</td>\n",
       "      <td>0.0</td>\n",
       "    </tr>\n",
       "    <tr>\n",
       "      <th>1</th>\n",
       "      <td>1</td>\n",
       "      <td>0</td>\n",
       "      <td>0</td>\n",
       "      <td>0</td>\n",
       "      <td>0</td>\n",
       "      <td>0</td>\n",
       "      <td>0</td>\n",
       "      <td>0</td>\n",
       "      <td>0</td>\n",
       "      <td>0</td>\n",
       "      <td>...</td>\n",
       "      <td>0.0</td>\n",
       "      <td>0.0</td>\n",
       "      <td>0.0</td>\n",
       "      <td>0.0</td>\n",
       "      <td>0.0</td>\n",
       "      <td>0.0</td>\n",
       "      <td>0.0</td>\n",
       "      <td>0.0</td>\n",
       "      <td>0.875</td>\n",
       "      <td>0.0</td>\n",
       "    </tr>\n",
       "  </tbody>\n",
       "</table>\n",
       "<p>2 rows × 24 columns</p>\n",
       "</div>"
      ],
      "text/plain": [
       "   feat_56  feat_7  feat_69  feat_12  feat_70  feat_51  feat_20  feat_21  \\\n",
       "0        0       0        0        0        0        0        0        0   \n",
       "1        1       0        0        0        0        0        0        0   \n",
       "\n",
       "   feat_61  feat_23        ...         feat_69_norm  feat_12_norm  \\\n",
       "0        0        0        ...                  0.0           0.0   \n",
       "1        0        0        ...                  0.0           0.0   \n",
       "\n",
       "   feat_70_norm  feat_51_norm  feat_20_norm  feat_21_norm  feat_61_norm  \\\n",
       "0           0.0           0.0           0.0           0.0           0.0   \n",
       "1           0.0           0.0           0.0           0.0           0.0   \n",
       "\n",
       "   feat_23_norm  zeros_number_norm  smart_multi_norm  \n",
       "0           0.0              1.000               0.0  \n",
       "1           0.0              0.875               0.0  \n",
       "\n",
       "[2 rows x 24 columns]"
      ]
     },
     "execution_count": 17,
     "metadata": {},
     "output_type": "execute_result"
    }
   ],
   "source": [
    "# MinMax normaliztion\n",
    "from sklearn.preprocessing import MinMaxScaler\n",
    "\n",
    "scaler = MinMaxScaler()\n",
    "df_norm = pd.DataFrame(scaler.fit_transform(X))\n",
    "df_norm.columns = [col + \"_norm\" for col in X.columns]\n",
    "minmax_norm_col = df_norm.columns\n",
    "X = pd.concat([X, df_norm], axis=1)\n",
    "print X.shape\n",
    "X.head(2)\n"
   ]
  },
  {
   "cell_type": "code",
   "execution_count": 18,
   "metadata": {},
   "outputs": [
    {
     "name": "stdout",
     "output_type": "stream",
     "text": [
      "(22719, 36)\n",
      "Index([u'feat_56', u'feat_7', u'feat_69', u'feat_12', u'feat_70', u'feat_51',\n",
      "       u'feat_20', u'feat_21', u'feat_61', u'feat_23', u'zeros_number',\n",
      "       u'smart_multi', u'feat_56_norm', u'feat_7_norm', u'feat_69_norm',\n",
      "       u'feat_12_norm', u'feat_70_norm', u'feat_51_norm', u'feat_20_norm',\n",
      "       u'feat_21_norm', u'feat_61_norm', u'feat_23_norm', u'zeros_number_norm',\n",
      "       u'smart_multi_norm', u'feat_56_z_norm', u'feat_7_z_norm',\n",
      "       u'feat_69_z_norm', u'feat_12_z_norm', u'feat_70_z_norm',\n",
      "       u'feat_51_z_norm', u'feat_20_z_norm', u'feat_21_z_norm',\n",
      "       u'feat_61_z_norm', u'feat_23_z_norm', u'zeros_number_z_norm',\n",
      "       u'smart_multi_z_norm'],\n",
      "      dtype='object')\n"
     ]
    },
    {
     "data": {
      "text/html": [
       "<div>\n",
       "<style scoped>\n",
       "    .dataframe tbody tr th:only-of-type {\n",
       "        vertical-align: middle;\n",
       "    }\n",
       "\n",
       "    .dataframe tbody tr th {\n",
       "        vertical-align: top;\n",
       "    }\n",
       "\n",
       "    .dataframe thead th {\n",
       "        text-align: right;\n",
       "    }\n",
       "</style>\n",
       "<table border=\"1\" class=\"dataframe\">\n",
       "  <thead>\n",
       "    <tr style=\"text-align: right;\">\n",
       "      <th></th>\n",
       "      <th>feat_56</th>\n",
       "      <th>feat_7</th>\n",
       "      <th>feat_69</th>\n",
       "      <th>feat_12</th>\n",
       "      <th>feat_70</th>\n",
       "      <th>feat_51</th>\n",
       "      <th>feat_20</th>\n",
       "      <th>feat_21</th>\n",
       "      <th>feat_61</th>\n",
       "      <th>feat_23</th>\n",
       "      <th>...</th>\n",
       "      <th>feat_69_z_norm</th>\n",
       "      <th>feat_12_z_norm</th>\n",
       "      <th>feat_70_z_norm</th>\n",
       "      <th>feat_51_z_norm</th>\n",
       "      <th>feat_20_z_norm</th>\n",
       "      <th>feat_21_z_norm</th>\n",
       "      <th>feat_61_z_norm</th>\n",
       "      <th>feat_23_z_norm</th>\n",
       "      <th>zeros_number_z_norm</th>\n",
       "      <th>smart_multi_z_norm</th>\n",
       "    </tr>\n",
       "  </thead>\n",
       "  <tbody>\n",
       "    <tr>\n",
       "      <th>0</th>\n",
       "      <td>0</td>\n",
       "      <td>0</td>\n",
       "      <td>0</td>\n",
       "      <td>0</td>\n",
       "      <td>0</td>\n",
       "      <td>0</td>\n",
       "      <td>0</td>\n",
       "      <td>0</td>\n",
       "      <td>0</td>\n",
       "      <td>0</td>\n",
       "      <td>...</td>\n",
       "      <td>-0.195426</td>\n",
       "      <td>-0.289433</td>\n",
       "      <td>-0.434442</td>\n",
       "      <td>-0.100061</td>\n",
       "      <td>-0.320859</td>\n",
       "      <td>-0.35691</td>\n",
       "      <td>-0.330546</td>\n",
       "      <td>-0.170922</td>\n",
       "      <td>0.939273</td>\n",
       "      <td>-0.111817</td>\n",
       "    </tr>\n",
       "    <tr>\n",
       "      <th>1</th>\n",
       "      <td>1</td>\n",
       "      <td>0</td>\n",
       "      <td>0</td>\n",
       "      <td>0</td>\n",
       "      <td>0</td>\n",
       "      <td>0</td>\n",
       "      <td>0</td>\n",
       "      <td>0</td>\n",
       "      <td>0</td>\n",
       "      <td>0</td>\n",
       "      <td>...</td>\n",
       "      <td>-0.195426</td>\n",
       "      <td>-0.289433</td>\n",
       "      <td>-0.434442</td>\n",
       "      <td>-0.100061</td>\n",
       "      <td>-0.320859</td>\n",
       "      <td>-0.35691</td>\n",
       "      <td>-0.330546</td>\n",
       "      <td>-0.170922</td>\n",
       "      <td>0.167730</td>\n",
       "      <td>-0.111817</td>\n",
       "    </tr>\n",
       "  </tbody>\n",
       "</table>\n",
       "<p>2 rows × 36 columns</p>\n",
       "</div>"
      ],
      "text/plain": [
       "   feat_56  feat_7  feat_69  feat_12  feat_70  feat_51  feat_20  feat_21  \\\n",
       "0        0       0        0        0        0        0        0        0   \n",
       "1        1       0        0        0        0        0        0        0   \n",
       "\n",
       "   feat_61  feat_23         ...          feat_69_z_norm  feat_12_z_norm  \\\n",
       "0        0        0         ...               -0.195426       -0.289433   \n",
       "1        0        0         ...               -0.195426       -0.289433   \n",
       "\n",
       "   feat_70_z_norm  feat_51_z_norm  feat_20_z_norm  feat_21_z_norm  \\\n",
       "0       -0.434442       -0.100061       -0.320859        -0.35691   \n",
       "1       -0.434442       -0.100061       -0.320859        -0.35691   \n",
       "\n",
       "   feat_61_z_norm  feat_23_z_norm  zeros_number_z_norm  smart_multi_z_norm  \n",
       "0       -0.330546       -0.170922             0.939273           -0.111817  \n",
       "1       -0.330546       -0.170922             0.167730           -0.111817  \n",
       "\n",
       "[2 rows x 36 columns]"
      ]
     },
     "execution_count": 18,
     "metadata": {},
     "output_type": "execute_result"
    }
   ],
   "source": [
    "# z normalization (for PCA)\n",
    "from scipy.stats.mstats import zscore\n",
    "\n",
    "df_z_norm = pd.DataFrame(zscore(X[original_col + extraction_col]))\n",
    "df_z_norm.columns = [col + \"_z_norm\" for col in X[original_col + extraction_col].columns]\n",
    "z_norm_col = df_z_norm.columns\n",
    "X = pd.concat([X, df_z_norm], axis=1)\n",
    "print X.shape\n",
    "print X.columns\n",
    "X.head(2)\n"
   ]
  },
  {
   "cell_type": "markdown",
   "metadata": {},
   "source": [
    "### Another Feature Extraction - Distance to closest neighbor per class"
   ]
  },
  {
   "cell_type": "code",
   "execution_count": 19,
   "metadata": {
    "scrolled": false
   },
   "outputs": [
    {
     "data": {
      "text/plain": [
       "'from sklearn.neighbors import NearestNeighbors\\n\\ndef distance_nn_per_class1(row):\\n    #print  X[minmax_norm_col][X[minmax_norm_col] == row]\\n    print row.name\\n    X_temp = X[minmax_norm_col].drop(X[minmax_norm_col].index[[row.name]])\\n    #print X\\n    X_temp = X[minmax_norm_col][X[minmax_norm_col] != row]\\n    X_temp = X_temp[Y == 1]\\n    #print X_temp\\n    neigh = NearestNeighbors(n_neighbords = 1)\\n    neigh.fit(X_temp)\\n    return neigh.kneighbors([row])[0]\\n\\ndef distance_nn_per_class0(row):\\n    X_temp = X.drop(df.index[[row.index]])\\n    X_temp = X_temp[[Y == 0]]\\n    neigh = NearestNeighbors(n_neighbords = 1)\\n    neigh.fit(X_temp)\\n    return neigh.kneighbors([row])[0]\\n\\nw = X[minmax_norm_col].apply(distance_nn_per_class1, axis = 1)\\nw\\n# pd.concat(X_temp, Y)\\n#X_class'"
      ]
     },
     "execution_count": 19,
     "metadata": {},
     "output_type": "execute_result"
    }
   ],
   "source": [
    "'''from sklearn.neighbors import NearestNeighbors\n",
    "\n",
    "def distance_nn_per_class1(row):\n",
    "    #print  X[minmax_norm_col][X[minmax_norm_col] == row]\n",
    "    print row.name\n",
    "    X_temp = X[minmax_norm_col].drop(X[minmax_norm_col].index[[row.name]])\n",
    "    #print X\n",
    "    X_temp = X[minmax_norm_col][X[minmax_norm_col] != row]\n",
    "    X_temp = X_temp[Y == 1]\n",
    "    #print X_temp\n",
    "    neigh = NearestNeighbors(n_neighbords = 1)\n",
    "    neigh.fit(X_temp)\n",
    "    return neigh.kneighbors([row])[0]\n",
    "\n",
    "def distance_nn_per_class0(row):\n",
    "    X_temp = X.drop(df.index[[row.index]])\n",
    "    X_temp = X_temp[[Y == 0]]\n",
    "    neigh = NearestNeighbors(n_neighbords = 1)\n",
    "    neigh.fit(X_temp)\n",
    "    return neigh.kneighbors([row])[0]\n",
    "\n",
    "w = X[minmax_norm_col].apply(distance_nn_per_class1, axis = 1)\n",
    "w\n",
    "# pd.concat(X_temp, Y)\n",
    "#X_class'''"
   ]
  },
  {
   "cell_type": "markdown",
   "metadata": {},
   "source": [
    "now the feature extraction phase have completed <br>\n",
    "we created main data frame with all the features named X <br>\n",
    "in the next phases we will choose each time the slice from X we want to use <br>\n",
    "we have 4 parts in X <br>\n",
    "\"original_col\" <br>\n",
    "\"extraction_col\" <br>\n",
    "\"minmax_norm_col\" <br>\n",
    "\"z_norm_col\" <br>"
   ]
  },
  {
   "cell_type": "markdown",
   "metadata": {},
   "source": [
    "----------------"
   ]
  },
  {
   "cell_type": "markdown",
   "metadata": {},
   "source": [
    "# Step 3 - Feature Selection"
   ]
  },
  {
   "cell_type": "markdown",
   "metadata": {
    "collapsed": true
   },
   "source": [
    "### PCA"
   ]
  },
  {
   "cell_type": "code",
   "execution_count": 20,
   "metadata": {},
   "outputs": [
    {
     "name": "stdout",
     "output_type": "stream",
     "text": [
      "Two first component with respect to class\n"
     ]
    },
    {
     "data": {
      "image/png": "[encoded data removed]",
      "text/plain": [
       "<matplotlib.figure.Figure at 0x25ed0d30>"
      ]
     },
     "metadata": {},
     "output_type": "display_data"
    },
    {
     "name": "stdout",
     "output_type": "stream",
     "text": [
      "explained variance ratio:\n"
     ]
    },
    {
     "data": {
      "text/plain": [
       "<function matplotlib.pyplot.show>"
      ]
     },
     "execution_count": 20,
     "metadata": {},
     "output_type": "execute_result"
    },
    {
     "data": {
      "image/png": "[encoded data removed]",
      "text/plain": [
       "<matplotlib.figure.Figure at 0x1fb3b978>"
      ]
     },
     "metadata": {},
     "output_type": "display_data"
    }
   ],
   "source": [
    "x = X[z_norm_col]\n",
    "pca = PCA(n_components=12)\n",
    "pca.fit(x)\n",
    "\n",
    "#plot the two first component\n",
    "print \"Two first component with respect to class\"\n",
    "reduced_data_PCA = pca.transform(x)[:,:2]\n",
    "plt.scatter(reduced_data_PCA[:, 0], reduced_data_PCA[:, 1], c=Y, s=5, cmap = \"bwr\")\n",
    "plt.show()\n",
    "\n",
    "# Plot the explained variance ration of the principal components\n",
    "print \"explained variance ratio:\"\n",
    "exp_var =  pd.DataFrame(pca.explained_variance_ratio_)\n",
    "pd.DataFrame(pca.explained_variance_ratio_).plot.bar(title='PCA Explained Variance', legend=False, figsize=(10,7))\n",
    "plt.xlabel('Principal Component')\n",
    "plt.ylabel('Explained Variance Ratio')\n",
    "plt.show"
   ]
  },
  {
   "cell_type": "markdown",
   "metadata": {},
   "source": [
    "we can see that the PCA components are not very effective to seperate between the two classes. <br>\n",
    "if we want to explain 90% of the variance we need to select 10 components within 12 <br>\n"
   ]
  },
  {
   "cell_type": "markdown",
   "metadata": {},
   "source": [
    "### LDA"
   ]
  },
  {
   "cell_type": "code",
   "execution_count": 21,
   "metadata": {},
   "outputs": [
    {
     "data": {
      "image/png": "[encoded data removed]",
      "text/plain": [
       "<matplotlib.figure.Figure at 0x2615f2b0>"
      ]
     },
     "metadata": {},
     "output_type": "display_data"
    }
   ],
   "source": [
    "LDA = LinearDiscriminantAnalysis()\n",
    "LDA.fit(X[minmax_norm_col] , Y)\n",
    "reduced_data_LDA = LDA.transform(X[minmax_norm_col])\n",
    "plt.scatter(reduced_data_LDA[:, 0], Y, c=Y, s=1, cmap = \"bwr\")\n",
    "plt.show()"
   ]
  },
  {
   "cell_type": "markdown",
   "metadata": {},
   "source": [
    "also LDA not very effective to seperate between the two classes. <br>"
   ]
  },
  {
   "cell_type": "markdown",
   "metadata": {},
   "source": [
    "### Desicion tree"
   ]
  },
  {
   "cell_type": "code",
   "execution_count": 22,
   "metadata": {},
   "outputs": [
    {
     "name": "stdout",
     "output_type": "stream",
     "text": [
      "Feature ranking:\n",
      "1. feat_61_norm (56.33%)\n",
      "2. feat_20_norm (9.62%)\n",
      "3. feat_51_norm (5.74%)\n",
      "4. feat_70_norm (5.52%)\n",
      "5. smart_multi_norm (5.06%)\n",
      "6. feat_7_norm (3.22%)\n",
      "7. feat_56_norm (2.95%)\n",
      "8. feat_69_norm (2.75%)\n",
      "9. feat_23_norm (2.62%)\n",
      "10. zeros_number_norm (2.17%)\n",
      "11. feat_12_norm (2.10%)\n",
      "12. feat_21_norm (1.93%)\n"
     ]
    },
    {
     "data": {
      "image/png": "[encoded data removed]",
      "text/plain": [
       "<matplotlib.figure.Figure at 0x1f4f4eb8>"
      ]
     },
     "metadata": {},
     "output_type": "display_data"
    }
   ],
   "source": [
    "from sklearn.tree import DecisionTreeClassifier\n",
    "\n",
    "# Create a Decision tree classifier\n",
    "tree = DecisionTreeClassifier(criterion= 'gini', splitter='best', max_depth=24, min_samples_split=2)\n",
    "\n",
    "# Train the classifier\n",
    "tree = tree.fit(X[minmax_norm_col], Y)\n",
    "\n",
    "# Get the feature's importance\n",
    "importances = tree.feature_importances_\n",
    "indices = np.argsort(importances)[::-1]\n",
    "\n",
    "# Print the feature ranking\n",
    "print(\"Feature ranking:\")\n",
    "for i, feature in enumerate(X[minmax_norm_col].columns[indices]):\n",
    "    print(\"{}. {} ({:.2f}%)\").format(i+1, feature, importances[indices][i]*100)\n",
    "    \n",
    "# Plot the feature importances\n",
    "plt.figure(figsize=(10,7))\n",
    "#plt.title('Feature importances')\n",
    "plt.bar(range(X[minmax_norm_col].shape[1]), importances[indices],\n",
    "       color=\"r\", align=\"center\")\n",
    "plt.xticks(range(X[minmax_norm_col].shape[1]), X[minmax_norm_col].columns[indices], rotation='vertical')\n",
    "plt.xlim([-1, X[minmax_norm_col].shape[1]])\n",
    "plt.show()"
   ]
  },
  {
   "cell_type": "markdown",
   "metadata": {},
   "source": [
    "according to the desicion tree feature importance we will defined reduced data with the most important 5 feature: <br>\n",
    "\"reduced_col\"\n",
    "<br> \n",
    "\n",
    "As a default we will use the minmax_norm_col features that include 12 dimensions"
   ]
  },
  {
   "cell_type": "code",
   "execution_count": 23,
   "metadata": {
    "collapsed": true
   },
   "outputs": [],
   "source": [
    "reduced_col = ['feat_61_norm', 'feat_20_norm', 'feat_70_norm', 'feat_51_norm', 'smart_multi_norm']\n",
    "train_default = X[minmax_norm_col]\n",
    "train_reduced = X[reduced_col]"
   ]
  },
  {
   "cell_type": "markdown",
   "metadata": {},
   "source": [
    "----------------"
   ]
  },
  {
   "cell_type": "markdown",
   "metadata": {},
   "source": [
    "# Models"
   ]
  },
  {
   "cell_type": "markdown",
   "metadata": {},
   "source": [
    "**The models we have used in the project:**\n",
    "- KNN\n",
    "- Logistic Regression\n",
    "- Random Forest\n",
    "- FF Neural Network"
   ]
  },
  {
   "cell_type": "markdown",
   "metadata": {},
   "source": [
    "### Preperations\n",
    "#### K-fold - Cross Validation"
   ]
  },
  {
   "cell_type": "code",
   "execution_count": 24,
   "metadata": {},
   "outputs": [
    {
     "data": {
      "text/plain": [
       "[(array([    0,     1,     2, ..., 22716, 22717, 22718]),\n",
       "  array([   14,    19,    20, ..., 22700, 22707, 22708])),\n",
       " (array([    0,     1,     3, ..., 22715, 22716, 22717]),\n",
       "  array([    2,     7,     8, ..., 22709, 22712, 22718])),\n",
       " (array([    0,     1,     2, ..., 22716, 22717, 22718]),\n",
       "  array([    3,     6,    11, ..., 22704, 22706, 22715])),\n",
       " (array([    1,     2,     3, ..., 22716, 22717, 22718]),\n",
       "  array([    0,     4,    29, ..., 22701, 22703, 22711])),\n",
       " (array([    0,     2,     3, ..., 22712, 22715, 22718]),\n",
       "  array([    1,     5,    13, ..., 22714, 22716, 22717]))]"
      ]
     },
     "execution_count": 24,
     "metadata": {},
     "output_type": "execute_result"
    }
   ],
   "source": [
    "from sklearn.model_selection import KFold\n",
    "\n",
    "# Create a K-Fold object\n",
    "k_fold = KFold(n_splits=5, shuffle=True, random_state=123)\n",
    "\n",
    "# Split the train set into 5 sets of train and test\n",
    "k_fold.split(train_default)\n",
    "\n",
    "# Save the indices of the train and test of for each fold\n",
    "k_fold_indices = []\n",
    "for train_index, test_index in k_fold.split(train_default):\n",
    "    k_fold_indices.append((train_index, test_index))\n",
    "k_fold_indices"
   ]
  },
  {
   "cell_type": "markdown",
   "metadata": {},
   "source": [
    "#### ROC Plot"
   ]
  },
  {
   "cell_type": "markdown",
   "metadata": {},
   "source": [
    "In order to easily plot an ROC for every model, we will create a function for plotting.<br>\n",
    "http://scikit-learn.org/stable/auto_examples/model_selection/plot_roc.html"
   ]
  },
  {
   "cell_type": "code",
   "execution_count": 25,
   "metadata": {
    "collapsed": true
   },
   "outputs": [],
   "source": [
    "def plot_ROC(fpr, tpr, auc):\n",
    "    plt.figure(figsize=(10,7))\n",
    "    plt.plot(fpr, tpr,lw=2, label='ROC Curve (AUC = {:.3f})'.format(auc))\n",
    "    plt.plot([0, 1], [0, 1], color='navy', lw=2, linestyle='--')\n",
    "    plt.xlim([0, 1])\n",
    "    plt.ylim([0, 1.05])\n",
    "    plt.xlabel('False Positive Rate')\n",
    "    plt.ylabel('True Positive Rate')\n",
    "    #plt.title('ROC Curve')\n",
    "    plt.legend(loc=\"lower right\")\n",
    "    plt.show()"
   ]
  },
  {
   "cell_type": "code",
   "execution_count": 42,
   "metadata": {
    "collapsed": true
   },
   "outputs": [],
   "source": [
    "# plot multi graph of ROC\\\n",
    "def plot_multi_ROC(fpr_list, tpr_list, auc_list):\n",
    "    plt.figure(figsize=(10,7))\n",
    "    \n",
    "    colors = ['aqua', 'darkorange', 'cornflowerblue', 'red', 'green']\n",
    "    lw = 2\n",
    "    \n",
    "    for i in range(len(fpr_list)):\n",
    "        plt.plot(fpr_list[i], tpr_list[i], color=colors[i], lw=lw,\n",
    "                 label='ROC curve of fold {0} (area = {1:0.2f})'\n",
    "                 ''.format(i, auc_list[i]))\n",
    "        \n",
    "    plt.plot([0, 1], [0, 1], color='navy', lw=2, linestyle='--')\n",
    "    plt.xlim([0, 1])\n",
    "    plt.ylim([0, 1.05])\n",
    "    plt.xlabel('False Positive Rate')\n",
    "    plt.ylabel('True Positive Rate')\n",
    "    #plt.title('ROC Curve')\n",
    "    plt.legend(loc=\"lower right\")\n",
    "    plt.show()"
   ]
  },
  {
   "cell_type": "code",
   "execution_count": 27,
   "metadata": {
    "collapsed": true
   },
   "outputs": [],
   "source": [
    "fpr, tpr, thresholds, auc = {}, {}, {}, {}  # We will use these dictionaries for the plotting, and finaly for comparing the models' ROC.\n",
    "                                            # Key = model name.\n",
    "                                            # Value = the relevant value from the model"
   ]
  },
  {
   "cell_type": "markdown",
   "metadata": {},
   "source": [
    "------"
   ]
  },
  {
   "cell_type": "markdown",
   "metadata": {},
   "source": [
    "## KNN"
   ]
  },
  {
   "cell_type": "code",
   "execution_count": 28,
   "metadata": {},
   "outputs": [],
   "source": [
    "from sklearn.neighbors import KNeighborsClassifier\n",
    "from sklearn.metrics import roc_curve\n",
    "from sklearn.metrics import roc_auc_score\n",
    "def KNN_k_fold(k):\n",
    "    accuracy = []\n",
    "    auc = []\n",
    "    \n",
    "    for fold in range(len(k_fold_indices)):\n",
    "        x_train = train_default.iloc[k_fold_indices[fold][0]]\n",
    "        #print x_train.shape\n",
    "        y_train = Y.iloc[k_fold_indices[fold][0]]\n",
    "        #print y_train.shape\n",
    "        knn = KNeighborsClassifier(n_neighbors=k, p=2, metric='minkowski', algorithm = 'brute')\n",
    "        knn.fit(x_train,y_train)\n",
    "        x_test = train_default.iloc[k_fold_indices[fold][1]]\n",
    "        y_test = Y.iloc[k_fold_indices[fold][1]]\n",
    "        accuracy.append(knn.score(x_test, y_test))\n",
    "        probs = knn.predict_proba(x_test)[:,1]\n",
    "        auc.append(roc_auc_score(y_test, probs, average=None))\n",
    "    return np.mean(np.array(accuracy)), np.mean(np.array(auc))\n",
    "        \n",
    "#KNN_k_fold(5) # For testing   "
   ]
  },
  {
   "cell_type": "code",
   "execution_count": 29,
   "metadata": {},
   "outputs": [
    {
     "name": "stdout",
     "output_type": "stream",
     "text": [
      "[2, 4, 8, 16, 32, 64]\n",
      "Starting KNN for k = 2\n",
      "accuracy : 0.563800309562 \n",
      "auc : 0.705345604294 \n",
      "\n",
      "Starting KNN for k = 4\n",
      "accuracy : 0.655314446386 \n",
      "auc : 0.744843110156 \n",
      "\n",
      "Starting KNN for k = 8\n",
      "accuracy : 0.737576944719 \n",
      "auc : 0.764173417396 \n",
      "\n",
      "Starting KNN for k = 16\n",
      "accuracy : 0.740349938615 \n",
      "auc : 0.77318894526 \n",
      "\n",
      "Starting KNN for k = 32\n",
      "accuracy : 0.743430934219 \n",
      "auc : 0.775696532348 \n",
      "\n",
      "Starting KNN for k = 64\n",
      "accuracy : 0.740525946511 \n",
      "auc : 0.776841300307 \n",
      "\n",
      "K with Maximum Accuracy: 32 \n",
      "K with Maximum AUC:  64\n"
     ]
    }
   ],
   "source": [
    "# find the best k\n",
    "k_accuracy = []\n",
    "k_auc =[]\n",
    "\n",
    "k_range = [2**i for i in range(1,7,1)]\n",
    "print k_range\n",
    "\n",
    "for k in k_range:\n",
    "    print \"Starting KNN for k =\", k\n",
    "    knn_result = KNN_k_fold(k)\n",
    "    k_accuracy.append(knn_result[0])\n",
    "    k_auc.append(knn_result[1])\n",
    "    print \"accuracy :\", knn_result[0], \"\\nauc :\", knn_result[1], \"\\n\"\n",
    "    \n",
    "print \"K with Maximum Accuracy:\", 2**(np.argmax(k_accuracy)+1),\"\\nK with Maximum AUC: \", 2**(np.argmax(k_auc)+1)"
   ]
  },
  {
   "cell_type": "markdown",
   "metadata": {},
   "source": [
    "the results for K=32 and K=64 are very close. the difference in the accuracy is little bit bigger, so we will take K=32"
   ]
  },
  {
   "cell_type": "code",
   "execution_count": 30,
   "metadata": {
    "scrolled": false
   },
   "outputs": [
    {
     "name": "stdout",
     "output_type": "stream",
     "text": [
      "                  Condition positive  Condition negative\n",
      "Predict positive                1282                 841\n",
      "Predict negative                 327                2094\n"
     ]
    },
    {
     "data": {
      "image/png": "[encoded data removed]",
      "text/plain": [
       "<matplotlib.figure.Figure at 0x26156828>"
      ]
     },
     "metadata": {},
     "output_type": "display_data"
    }
   ],
   "source": [
    "from sklearn.metrics import confusion_matrix\n",
    "from sklearn.metrics import roc_curve\n",
    "\n",
    "# plot the metrics of the winning K, we will use random fold from k-fold to train and test our model\n",
    "fold = 1\n",
    "x_train = train_default.iloc[k_fold_indices[fold][0]]\n",
    "#print x_train.shape\n",
    "y_train = Y.iloc[k_fold_indices[fold][0]]\n",
    "#print y_train.shape\n",
    "\n",
    "knn = KNeighborsClassifier(n_neighbors=32, p=2, metric='minkowski', algorithm = 'brute')\n",
    "knn.fit(x_train, y_train)\n",
    "x_test = train_default.iloc[k_fold_indices[fold][1]]\n",
    "y_test = Y.iloc[k_fold_indices[fold][1]]\n",
    "predict = knn.predict(x_test)\n",
    "probs = knn.predict_proba(x_test)[:,1]\n",
    "\n",
    "cm = pd.DataFrame(confusion_matrix(y_test, predict, labels=None, sample_weight=None), index = [\"Predict positive\",\"Predict negative\"])\n",
    "cm.columns = ['Condition positive', 'Condition negative' ]\n",
    "print cm\n",
    "fpr[\"knn\"], tpr[\"knn\"], thresholds[\"knn\"]  = roc_curve(y_test, probs, pos_label=1)\n",
    "auc[\"knn\"] = roc_auc_score(y_test, probs, average=None)\n",
    "plot_ROC(fpr[\"knn\"], tpr[\"knn\"], auc[\"knn\"])"
   ]
  },
  {
   "cell_type": "markdown",
   "metadata": {},
   "source": [
    "-----------"
   ]
  },
  {
   "cell_type": "markdown",
   "metadata": {},
   "source": [
    "## Logistic Regression"
   ]
  },
  {
   "cell_type": "code",
   "execution_count": 44,
   "metadata": {
    "scrolled": false
   },
   "outputs": [
    {
     "name": "stdout",
     "output_type": "stream",
     "text": [
      "[LibLinear]\n",
      "Confusion Matrix for fold 0 \n",
      "                  Condition positive  Condition negative\n",
      "Predict positive                1165                 974\n",
      "Predict negative                 279                2126 \n",
      "\n",
      "[LibLinear]\n",
      "Confusion Matrix for fold 1 \n",
      "                  Condition positive  Condition negative\n",
      "Predict positive                1181                 942\n",
      "Predict negative                 312                2109 \n",
      "\n",
      "[LibLinear]\n",
      "Confusion Matrix for fold 2 \n",
      "                  Condition positive  Condition negative\n",
      "Predict positive                1187                 980\n",
      "Predict negative                 327                2050 \n",
      "\n",
      "[LibLinear]\n",
      "Confusion Matrix for fold 3 \n",
      "                  Condition positive  Condition negative\n",
      "Predict positive                1177                 929\n",
      "Predict negative                 306                2132 \n",
      "\n",
      "[LibLinear]\n",
      "Confusion Matrix for fold 4 \n",
      "                  Condition positive  Condition negative\n",
      "Predict positive                1169                 956\n",
      "Predict negative                 263                2155 \n",
      "\n",
      "\n",
      "mean accuracy =  0.724767815485 \n",
      "\n"
     ]
    }
   ],
   "source": [
    "from sklearn.linear_model import LogisticRegression\n",
    "\n",
    "accuracy = []\n",
    "auc_list = []\n",
    "fpr_list = [None] * len(k_fold_indices)\n",
    "tpr_list =[None] * len(k_fold_indices)\n",
    "threshold_list = [None] * len(k_fold_indices)\n",
    "predict_list = [None] * len(k_fold_indices)\n",
    "for fold in range(len(k_fold_indices)):\n",
    "    x_train = train_default.iloc[k_fold_indices[fold][0]]\n",
    "    #print x_train.shape\n",
    "    y_train = Y.iloc[k_fold_indices[fold][0]]\n",
    "    #print y_train.shape\n",
    "    lr = LogisticRegression(penalty=\"l2\", #What is our loss function? l2 stands for quad_distances, l1 stands for abs distance.\n",
    "                             dual=False, #How to define our objective function, as the primal or the dual?\n",
    "                             tol=0.0001, #Stopping critiria\n",
    "                             C=1, #Inverse regularization parameter, large C means less regularization.\n",
    "                             fit_intercept=True, #As it sounds, do we want to learn an intercept?\n",
    "                             intercept_scaling=1, #What is the initialization of the intercept parameter\n",
    "                             class_weight=None, #How to treat different classes?\n",
    "                             random_state=123, #The seed\n",
    "                             solver=\"liblinear\", #What is the algorithm used to solve the problem?\n",
    "                             max_iter=1000, #For some optimization algorithms, the algorithm solves it with iterations.\n",
    "                             verbose=2, \n",
    "                             warm_start=False, \n",
    "                             n_jobs=1)\n",
    "    lr.fit(x_train,y_train)\n",
    "    x_test = train_default.iloc[k_fold_indices[fold][1]]\n",
    "    y_test = Y.iloc[k_fold_indices[fold][1]]\n",
    "    accuracy.append(knn.score(x_test, y_test))\n",
    "    probs = knn.predict_proba(x_test)[:,1]\n",
    "    auc_list.append(roc_auc_score(y_test, probs, average=None))\n",
    "    fpr_list[fold], tpr_list[fold], threshold_list[fold]  = roc_curve(y_test, probs, pos_label=1)\n",
    "    predict_list[fold] = lr.predict(x_test)\n",
    "    cm = pd.DataFrame(confusion_matrix(y_test, predict_list[fold], labels=None, sample_weight=None), index = [\"Predict positive\",\"Predict negative\"])\n",
    "    cm.columns = ['Condition positive', 'Condition negative' ]\n",
    "    print '\\nConfusion Matrix for fold', fold,'\\n', cm, '\\n'\n",
    "\n",
    "accuracy_mean, auc_mean = np.mean(np.array(accuracy)), np.mean(np.array(auc))\n",
    "print \"\\nmean accuracy = \", lr.score(train_default, Y), \"\\n\""
   ]
  },
  {
   "cell_type": "code",
   "execution_count": 45,
   "metadata": {},
   "outputs": [
    {
     "data": {
      "image/png": "[encoded data removed]",
      "text/plain": [
       "<matplotlib.figure.Figure at 0x239e8a20>"
      ]
     },
     "metadata": {},
     "output_type": "display_data"
    }
   ],
   "source": [
    "plot_multi_ROC(fpr_list, tpr_list, auc_list)"
   ]
  },
  {
   "cell_type": "markdown",
   "metadata": {},
   "source": [
    "Let's see the Coefficient of the features in the decision function (for the last fold), in order to see if we can get any information about the relation between the prediction and the features:"
   ]
  },
  {
   "cell_type": "code",
   "execution_count": 83,
   "metadata": {
    "scrolled": true
   },
   "outputs": [
    {
     "data": {
      "text/html": [
       "<div>\n",
       "<style scoped>\n",
       "    .dataframe tbody tr th:only-of-type {\n",
       "        vertical-align: middle;\n",
       "    }\n",
       "\n",
       "    .dataframe tbody tr th {\n",
       "        vertical-align: top;\n",
       "    }\n",
       "\n",
       "    .dataframe thead th {\n",
       "        text-align: right;\n",
       "    }\n",
       "</style>\n",
       "<table border=\"1\" class=\"dataframe\">\n",
       "  <thead>\n",
       "    <tr style=\"text-align: right;\">\n",
       "      <th></th>\n",
       "      <th>feat_56_norm</th>\n",
       "      <th>feat_7_norm</th>\n",
       "      <th>feat_69_norm</th>\n",
       "      <th>feat_12_norm</th>\n",
       "      <th>feat_70_norm</th>\n",
       "      <th>feat_51_norm</th>\n",
       "      <th>feat_20_norm</th>\n",
       "      <th>feat_21_norm</th>\n",
       "      <th>feat_61_norm</th>\n",
       "      <th>feat_23_norm</th>\n",
       "      <th>zeros_number_norm</th>\n",
       "      <th>smart_multi_norm</th>\n",
       "    </tr>\n",
       "  </thead>\n",
       "  <tbody>\n",
       "    <tr>\n",
       "      <th>0</th>\n",
       "      <td>0.849586</td>\n",
       "      <td>-3.717321</td>\n",
       "      <td>-1.563031</td>\n",
       "      <td>0.968974</td>\n",
       "      <td>9.7948</td>\n",
       "      <td>-3.612202</td>\n",
       "      <td>-2.635996</td>\n",
       "      <td>0.907706</td>\n",
       "      <td>-19.269266</td>\n",
       "      <td>-2.312197</td>\n",
       "      <td>4.986614</td>\n",
       "      <td>0.495379</td>\n",
       "    </tr>\n",
       "  </tbody>\n",
       "</table>\n",
       "</div>"
      ],
      "text/plain": [
       "   feat_56_norm  feat_7_norm  feat_69_norm  feat_12_norm  feat_70_norm  \\\n",
       "0      0.849586    -3.717321     -1.563031      0.968974        9.7948   \n",
       "\n",
       "   feat_51_norm  feat_20_norm  feat_21_norm  feat_61_norm  feat_23_norm  \\\n",
       "0     -3.612202     -2.635996      0.907706    -19.269266     -2.312197   \n",
       "\n",
       "   zeros_number_norm  smart_multi_norm  \n",
       "0           4.986614          0.495379  "
      ]
     },
     "execution_count": 83,
     "metadata": {},
     "output_type": "execute_result"
    }
   ],
   "source": [
    "log_coef = pd.DataFrame(lr.coef_, columns = train_default.columns)\n",
    "log_coef"
   ]
  },
  {
   "cell_type": "code",
   "execution_count": 86,
   "metadata": {},
   "outputs": [],
   "source": [
    "# width = 1/1.5\n",
    "# x = train_default.columns\n",
    "# y = log_coef\n",
    "\n",
    "# plt.bar(x, y, width, color=\"darkblue\")\n",
    "# plt.show()"
   ]
  },
  {
   "cell_type": "markdown",
   "metadata": {},
   "source": [
    "-----------"
   ]
  },
  {
   "cell_type": "markdown",
   "metadata": {},
   "source": [
    "## Random Forest"
   ]
  },
  {
   "cell_type": "markdown",
   "metadata": {},
   "source": [
    "Choose Random Forest Parameters:<br>\n",
    "In order to find the best parameters (out of a set of options), we will use a class from sklearn called GridSearchCV. <br>\n",
    "GridSearchCV will do an exhaustive search over the specified parameter values, and will estimate the best ones.<br>\n",
    "for more information: http://scikit-learn.org/stable/modules/generated/sklearn.model_selection.GridSearchCV.html"
   ]
  },
  {
   "cell_type": "code",
   "execution_count": null,
   "metadata": {},
   "outputs": [],
   "source": [
    "from sklearn.ensemble import RandomForestClassifier\n",
    "from sklearn.model_selection import GridSearchCV\n",
    "\n",
    "# Parmeters grid to be checked\n",
    "parametersOptions = {'min_samples_split':[4, 8, 16, 20], 'max_depth':[5,8,10,20,30],'criterion':['gini', 'entropy'],\n",
    "                   'n_estimators':[50], 'random_state':[1]}\n",
    "\n",
    "# GridSearchCV will create different Forests from the different parameters,\n",
    "#  and will eventually choose the model with the best AUC score\n",
    "RF = GridSearchCV(RandomForestClassifier(), parametersOptions, cv=5, scoring='roc_auc')\n",
    "\n",
    "RF.fit(train_default, Y)\n",
    "\n",
    "params = RF.best_params_\n",
    "\n",
    "print ('Random Forest chosen parameters (recieved best AUC): {}'.format(params))\n",
    "print \"Random Forest AUC score with the chosen parameters: \", RF.best_score_"
   ]
  },
  {
   "cell_type": "markdown",
   "metadata": {},
   "source": [
    "In order to plot the ROC curve and show the confusion matrix, we will train a new Random Forest Model, with the chosen parameters, on one of our K-Folds."
   ]
  },
  {
   "cell_type": "code",
   "execution_count": null,
   "metadata": {},
   "outputs": [],
   "source": [
    "chosenRF = RandomForestClassifier(min_samples_split= 8,\n",
    "                                  n_estimators= 50,\n",
    "                                  random_state= 1,\n",
    "                                  criterion= 'gini',\n",
    "                                  max_depth= 10)\n",
    "\n",
    "\n",
    "fold = 1\n",
    "x_train = train_default.iloc[k_fold_indices[fold][0]]\n",
    "#print x_train.shape\n",
    "y_train = Y.iloc[k_fold_indices[fold][0]]\n",
    "#print y_train.shape\n",
    "\n",
    "chosenRF.fit(x_train, y_train)\n",
    "x_test = train_default.iloc[k_fold_indices[fold][1]]\n",
    "y_test = Y.iloc[k_fold_indices[fold][1]]\n",
    "predict = chosenRF.predict(x_test)\n",
    "probs = chosenRF.predict_proba(x_test)[:,1]\n",
    "\n",
    "cm = pd.DataFrame(confusion_matrix(y_test, predict, labels=None, sample_weight=None), index = [\"Predict positive\",\"Predict negative\"])\n",
    "cm.columns = ['Condition positive', 'Condition negative' ]\n",
    "print cm\n",
    "fpr[\"rf\"], tpr[\"rf\"], thresholds[\"rf\"]  = roc_curve(y_test, probs, pos_label=1)\n",
    "auc[\"rf\"] = roc_auc_score(y_test, probs, average=None)\n",
    "plot_ROC(fpr[\"rf\"], tpr[\"rf\"], auc[\"rf\"])"
   ]
  },
  {
   "cell_type": "markdown",
   "metadata": {},
   "source": [
    "# Neural Network"
   ]
  },
  {
   "cell_type": "code",
   "execution_count": null,
   "metadata": {},
   "outputs": [],
   "source": [
    "from sklearn.neural_network import MLPClassifier, MLPRegressor\n",
    "\n",
    "# As shown before, we will start searching our hyper parameters with GridSearchCV\n",
    "\n",
    "parametersOptions = {'activation' : [\"logistic\",\"relu\", \"tanh\"], #\n",
    "                     'hidden_layer_sizes' : [(1000,), # 1 large hidden layer\n",
    "                                            (500, 500,), # 2 medium size layers\n",
    "                                            (200, 200, 100, 100, 100,)], # multiple small sized layers\n",
    "                     'batch_size' : [5, 50, 200],\n",
    "                     'max_iter' : [500]}\n",
    "                     \n",
    "GS = GridSearchCV(MLPClassifier(), parametersOptions, cv=2, scoring='roc_auc')\n",
    "\n",
    "GS.fit(train_default, Y)\n",
    "\n",
    "params = GS.best_params_\n",
    "\n",
    "print ('Neural Network chosen parameters (recieved best AUC): {}'.format(params))\n",
    "print \"Neural Network AUC score with the chosen parameters: \", GS.best_score_"
   ]
  },
  {
   "cell_type": "code",
   "execution_count": null,
   "metadata": {},
   "outputs": [],
   "source": [
    "from sklearn.neural_network import MLPClassifier, MLPRegressor\n",
    "NN_classifier = MLPClassifier(\n",
    "                    #-----The ARCHITECTURE:------#                \n",
    "                    activation=\"logistic\", #We will use a logistic function, in order to\n",
    "                    hidden_layer_sizes = (500,),  #What is the architecture? what happens if we add more layers?\n",
    "                    alpha = 0.0001, #The regularization: loss + alpha*W^2\n",
    "                    batch_size = 50, # Size of minibatches for stochastic optimizers. Our dataset is not huge, so we chose a smaller size then the auto (200)\n",
    "    \n",
    "                    #-----The OPTIMIZER:------#\n",
    "                    solver = \"sgd\", #Stochastic Gradient Descent\n",
    "                    learning_rate = \"adaptive\", #How does the learning rate update itself? {‘constant’, ‘invscaling’, ‘adaptive’}\n",
    "                    learning_rate_init = 0.1, #What is the initial learning rate? in some optimizers the learning rate changes.\n",
    "                    power_t = 0.5, #When we choose learning rate to be invscaling, it means that we multiply this number each epoch.\n",
    "                    momentum = 0.9, #Whats the fraction of the updated dedicated to the momentum? the \"friction\".\n",
    "                    nesterovs_momentum = False, #Out of the scope of the course, leave false.\n",
    "                    early_stopping = False, #Do we set a validation data aside?\n",
    "                    tol = 1e-4, #A broad concept of converges, when we can say the algorithm converged?\n",
    "                    warm_start = False, #if we fit bat the second time, do we start from the last fit?\n",
    "                    max_iter = 500)\n",
    "\n",
    "\n",
    "fold = 1\n",
    "x_train = train_default.iloc[k_fold_indices[fold][0]]\n",
    "#print x_train.shape\n",
    "y_train = Y.iloc[k_fold_indices[fold][0]]\n",
    "#print y_train.shape\n",
    "\n",
    "NN_classifier.fit(x_train, y_train)\n",
    "x_test = train_default.iloc[k_fold_indices[fold][1]]\n",
    "y_test = Y.iloc[k_fold_indices[fold][1]]\n",
    "predict = NN_classifier.predict(x_test)\n",
    "probs = NN_classifier.predict_proba(x_test)[:,1]\n",
    "\n",
    "cm = pd.DataFrame(confusion_matrix(y_test, predict, labels=None, sample_weight=None), index = [\"Predict positive\",\"Predict negative\"])\n",
    "cm.columns = ['Condition positive', 'Condition negative' ]\n",
    "print cm\n",
    "fpr[\"nn\"], tpr[\"nn\"], thresholds[\"nn\"]  = roc_curve(y_test, probs, pos_label=1)\n",
    "auc[\"nn\"] = roc_auc_score(y_test, probs, average=None)\n",
    "plot_ROC(fpr[\"nn\"], tpr[\"nn\"], auc[\"nn\"])"
   ]
  },
  {
   "cell_type": "markdown",
   "metadata": {},
   "source": [
    "# Models Evaluation and Comparison"
   ]
  },
  {
   "cell_type": "markdown",
   "metadata": {},
   "source": [
    "- Compare mean AUC and Accuracy from K-Fold\n",
    "- Plot ROC for all the models\n",
    "- Compare to non-Machine Learning Models"
   ]
  },
  {
   "cell_type": "markdown",
   "metadata": {},
   "source": [
    "### Models AUC Comparison"
   ]
  },
  {
   "cell_type": "code",
   "execution_count": null,
   "metadata": {},
   "outputs": [],
   "source": [
    "# Plot the bar plot\n",
    "plt.figure(figsize=(10,7))\n",
    "\n",
    "y = [auc[\"knn\"], 0 ,auc[\"rf\"], auc[\"nn\"]]\n",
    "\n",
    "auc_plot = plt.bar(np.arange(0.5,5.5,1.5), y, width=0.5, color=\"darkblue\")\n",
    "\n",
    "plt.title('Model Comparison - AUC')\n",
    "plt.ylabel('AUC')\n",
    "plt.xlabel('Model')\n",
    "\n",
    "plt.xticks(np.arange(0.5,5.5,1.5), ['KNN', 'Logistic Regression', 'Random Forest', 'Neural Network'])\n",
    "plt.xlim([-0.5, 6])\n",
    "plt.ylim([0,1])\n",
    "plt.legend([auc_plot], ['AUC Value'], loc='upper left')\n",
    "plt.show()\n",
    "\n",
    "print \"AUC Values: \\n\\nKNN:\", auc[\"knn\"], \"\\nLogistic Regression: ___\", \"\\nRandom Forest:\", auc[\"rf\"], \"\\nNeural Network:\", auc[\"nn\"]"
   ]
  },
  {
   "cell_type": "markdown",
   "metadata": {},
   "source": [
    "### ROC Plots"
   ]
  },
  {
   "cell_type": "code",
   "execution_count": null,
   "metadata": {},
   "outputs": [],
   "source": [
    "# Plot all ROC curves\n",
    "from itertools import cycle\n",
    "\n",
    "plt.figure(figsize=(10,7))\n",
    "\n",
    "lw = 2\n",
    "colors = cycle(['aqua', 'darkorange', 'cornflowerblue'])\n",
    "\n",
    "for i, color in zip([\"knn\", \"rf\", \"nn\"], colors):\n",
    "    plt.plot(fpr[i], tpr[i], color=color, lw=lw,\n",
    "             label='ROC curve of class {0} (area = {1:0.2f})'\n",
    "             ''.format(i.upper(), auc[i]))\n",
    "\n",
    "plt.plot([0, 1], [0, 1], 'k--', lw=lw)\n",
    "plt.xlim([0.0, 1.0])\n",
    "plt.ylim([0.0, 1.05])\n",
    "plt.xlabel('False Positive Rate')\n",
    "plt.ylabel('True Positive Rate')\n",
    "plt.title('Some extension of Receiver operating characteristic to multi-class')\n",
    "plt.legend(loc=\"lower right\")\n",
    "plt.show()"
   ]
  },
  {
   "cell_type": "markdown",
   "metadata": {},
   "source": [
    "### Chosen Model - Random Forest"
   ]
  },
  {
   "cell_type": "markdown",
   "metadata": {},
   "source": [
    "We will run the chosen Model on the entier Train set , in order to get better result in the unlabled test set."
   ]
  },
  {
   "cell_type": "markdown",
   "metadata": {},
   "source": [
    "#### Fit Model to the entire Train Data Set"
   ]
  },
  {
   "cell_type": "code",
   "execution_count": null,
   "metadata": {
    "collapsed": true
   },
   "outputs": [],
   "source": [
    "chosenRF = RandomForestClassifier(min_samples_split= 8,\n",
    "                                  n_estimators= 50,\n",
    "                                  random_state= 1,\n",
    "                                  criterion= 'gini',\n",
    "                                  max_depth= 10)\n",
    "\n",
    "chosenRF.fit(train_default, Y)"
   ]
  },
  {
   "cell_type": "markdown",
   "metadata": {},
   "source": [
    "#### Create Predictions for the Test Data set"
   ]
  },
  {
   "cell_type": "code",
   "execution_count": null,
   "metadata": {},
   "outputs": [],
   "source": [
    "df = pd.read_csv(\"test_no_target.csv\")\n",
    "df.head(5)"
   ]
  }
 ],
 "metadata": {
  "kernelspec": {
   "display_name": "Python 2",
   "language": "python",
   "name": "python2"
  },
  "language_info": {
   "codemirror_mode": {
    "name": "ipython",
    "version": 2
   },
   "file_extension": ".py",
   "mimetype": "text/x-python",
   "name": "python",
   "nbconvert_exporter": "python",
   "pygments_lexer": "ipython2",
   "version": "2.7.14"
  }
 },
 "nbformat": 4,
 "nbformat_minor": 2
}
