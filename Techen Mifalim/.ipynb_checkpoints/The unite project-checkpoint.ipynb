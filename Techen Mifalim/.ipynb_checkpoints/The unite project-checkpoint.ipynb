{
 "cells": [
  {
   "cell_type": "markdown",
   "metadata": {},
   "source": [
    "# Bucket Brigade"
   ]
  },
  {
   "cell_type": "markdown",
   "metadata": {},
   "source": [
    "**Authors:**\n",
    "- Tomer Yanay\n",
    "- Yogev Matalon\n",
    "- Noam Tor"
   ]
  },
  {
   "cell_type": "code",
   "execution_count": 35,
   "metadata": {
    "collapsed": true
   },
   "outputs": [],
   "source": [
    "import pulp\n",
    "import time\n",
    "import numpy as np\n",
    "import pandas as pd\n",
    "import random\n",
    "import simpy\n",
    "from pylab import plot, show, bar\n",
    "import matplotlib.pyplot as plt\n",
    "plt.style.use(\"ggplot\")\n",
    "import math"
   ]
  },
  {
   "cell_type": "markdown",
   "metadata": {},
   "source": [
    "# Part 1 - Create the Seed for the Genetic Algorithm"
   ]
  },
  {
   "cell_type": "markdown",
   "metadata": {},
   "source": [
    "### 1.A. \"Super Parent\" - Linear Programming Solution"
   ]
  },
  {
   "cell_type": "code",
   "execution_count": 36,
   "metadata": {},
   "outputs": [
    {
     "data": {
      "text/plain": [
       "[1, 18, 18, 18, 17, 7, 14, 3, 3, 17, 3, 18, 1, 14, 14, 14, 7, 3, 17, 1]"
      ]
     },
     "execution_count": 36,
     "metadata": {},
     "output_type": "execute_result"
    }
   ],
   "source": [
    "def lp_Heuristic(filename, sheetname, capacity_num):\n",
    "\n",
    "#load the data\n",
    "    data = pd.read_excel(filename, sheetname)\n",
    "    orders = data.drop(['capacity1', 'capacity2'], axis=1)\n",
    "    sum_products = orders.apply(sum, axis=1)\n",
    "    if capacity_num == 1:\n",
    "        capacity = data['capacity1'][0]\n",
    "    else:\n",
    "        capacity = data['capacity2'][0]\n",
    "    i_orders = list(orders.index.values)\n",
    "    i_batch = list(orders.index.values)\n",
    "    i_order_batch = []\n",
    "    for order in i_orders:\n",
    "        for batch in i_batch:\n",
    "            i_order_batch.append((batch, order))\n",
    "            \n",
    "#initialise the model\n",
    "    model = pulp.LpProblem('The orders to batches problem', pulp.LpMinimize)\n",
    "\n",
    "\n",
    "# initialise the variables\n",
    "    x = pulp.LpVariable.dict('x', i_batch, lowBound =0, upBound = 1, cat = pulp.LpInteger) #x_1 = 1 if we use bin 1, 0 else\n",
    "    y = pulp.LpVariable.dicts('y', i_order_batch ,lowBound = 0, upBound = 1, cat = pulp.LpInteger) #y_(1,1)- 1 if order 1 in batch 1, 0 else \n",
    "\n",
    "# create the objective\n",
    "    model += pulp.lpSum( [x[batch] for batch in i_batch])\n",
    "\n",
    "# First constraint: For every item, the sum of bins in which it appears must be 1\n",
    "    for order in i_orders:\n",
    "        model += pulp.lpSum([y[(batch, order)] for batch in i_batch]) == 1\n",
    "\n",
    "# Second constraint: desicion variables connection\n",
    "    for order in i_orders:\n",
    "        for batch in i_batch:\n",
    "            model += x[batch] >= y[(batch, order)] \n",
    "\n",
    "# third constraint: capacity\n",
    "    for batch in i_batch:\n",
    "        model += sum([sum_products[order]*y[(batch, order)] for order in i_orders]) <= capacity\n",
    "    \n",
    "# Solve the optimization.\n",
    "    start_time = time.time()\n",
    "    model.solve()\n",
    "\n",
    "# return results as chromozom\n",
    "    results = {}\n",
    "    for key in y.keys():\n",
    "        if y[key].value()==1:\n",
    "            results[key[1]]=key[0]\n",
    "    lst = [None]*(orders.shape[0]) #list for the final solution in chromozom format\n",
    "    for key in results.keys():\n",
    "        lst[key] = results[key]\n",
    "    return lst\n",
    "\n",
    "lp_Heuristic('input.xlsx', '20 orders new format', 1)"
   ]
  },
  {
   "cell_type": "markdown",
   "metadata": {},
   "source": [
    "### 1.B. Random-Greedy Seed Generator"
   ]
  },
  {
   "cell_type": "code",
   "execution_count": 37,
   "metadata": {},
   "outputs": [
    {
     "data": {
      "text/plain": [
       "[2, 0, 0, 4, 4, 1, 5, 2, 3, 4, 0, 1, 6, 2, 2, 3, 5, 0, 1, 3]"
      ]
     },
     "execution_count": 37,
     "metadata": {},
     "output_type": "execute_result"
    }
   ],
   "source": [
    "def create_naive_solution(filename, sheetname, capacity = 1):\n",
    "\n",
    "# load dada and shuffle the orders\n",
    "    data = pd.read_excel(filename, sheetname)\n",
    "    orders = data.drop(['capacity1', 'capacity2'], axis=1)\n",
    "    capacity = data['capacity'+ str(capacity)][0]\n",
    "    orders = orders.sample(frac=1).reset_index(drop=False) #randomly shuffle the orders to get new solution each time\n",
    "    old_index = orders['index'] #seave the original order index\n",
    "    orders = orders.drop('index', axis = 1)\n",
    "    sum_products = orders.apply(sum, axis=1) #create vector with the total amount of products in each order\n",
    "\n",
    "#unite the orders to batches \n",
    "    lst = [None]*(orders.shape[0]) #list for the final solution in chromozom format\n",
    "    i=0 #variablre for the loop\n",
    "    batches = [] #list of lists- will contain the batches\n",
    "    while i < (len(sum_products)):\n",
    "        if sum_products[i] < capacity:\n",
    "            batch = [i]\n",
    "            product_counter = sum_products[i]\n",
    "            for j in range(i+1, len(sum_products), 1):\n",
    "                if product_counter + sum_products[j] <= capacity:\n",
    "                    product_counter += sum_products[j]\n",
    "                    batch.append(j)\n",
    "                    sum_products[j]= capacity+1\n",
    "            batches.append(batch)\n",
    "        i += 1\n",
    "\n",
    "# wtire the solution in chromozom format\n",
    "    for i in range(len(batches)):\n",
    "        for order in batches[i]:\n",
    "            lst[old_index[order]] = i\n",
    "    return lst\n",
    "create_naive_solution('input.xlsx', '20 orders new format', 1)"
   ]
  },
  {
   "cell_type": "markdown",
   "metadata": {},
   "source": [
    "# Part 2 - Bucket Brigade Simulation"
   ]
  },
  {
   "cell_type": "code",
   "execution_count": 38,
   "metadata": {
    "collapsed": true
   },
   "outputs": [],
   "source": [
    "class factory(object):\n",
    "    \"\"\"\n",
    "    \"\"\"\n",
    "    def __init__(self, env, items_number, workers_number, collect_rate, forward_rate, back_rate, batches):\n",
    "        self.env = env\n",
    "        self.item = []\n",
    "        self.workers = []\n",
    "        self.batch_order = batches\n",
    "        self.finish_all = env.event()\n",
    "        self.time_to_finish = 0\n",
    "        for i in range(items_number):\n",
    "            self.item.append(simpy.Resource(env, 1))\n",
    "        for j in range(workers_number):\n",
    "            self.workers.append(worker(env,j+1, collect_rate[j],forward_rate[j],back_rate[j]))"
   ]
  },
  {
   "cell_type": "code",
   "execution_count": 39,
   "metadata": {
    "collapsed": true
   },
   "outputs": [],
   "source": [
    "class box():\n",
    "    def __init__(self, env, capacity,batch,worker,factory):\n",
    "        self.capacity = capacity            #capacity of the box\n",
    "        self.batch = batch                  #dictinary of items and their quantity\n",
    "        self.finished = env.event()         #batch is finished?\n",
    "        self.status = worker                #which worker is with the batch box\n",
    "        self.change = {worker: env.event() for worker in factory.workers}\n",
    "        \n",
    "    def create_forward(self,env,factory):\n",
    "        self.status.direction = 1\n",
    "        i = self.status.name\n",
    "        t = max(0,np.random.normal(self.status.forward_rate[0],self.status.forward_rate[1]))\n",
    "        if self.status.location<list(self.batch.keys())[-1]:\n",
    "            if i!=len(factory.workers):\n",
    "                with factory.item[self.status.location].request() as request:\n",
    "                    factory.workers[i].name\n",
    "                    Result = yield request| self.change[self.status]  \n",
    "                    if request in Result:\n",
    "                        if self.status.location+1 in self.batch.keys(): \n",
    "                            yield env.timeout(t)\n",
    "                            self.status.location+=1\n",
    "                            yield env.timeout(max(0,np.random.normal(self.status.collect_rate[0],self.status.collect_rate[1]))*(self.batch.get(self.status.location)))\n",
    "                            if factory.workers[i].location!=self.status.location:\n",
    "                                env.process(self.create_forward(env,factory))\n",
    "                            else:\n",
    "                                env.process(self.status.create_back(env,factory))\n",
    "                                self.status = factory.workers[i]\n",
    "                                env.process(self.create_forward(env,factory))\n",
    "                        else:\n",
    "                            yield env.timeout(t)\n",
    "                            self.status.location+=1\n",
    "                            env.process(self.create_forward(env,factory))\n",
    "                    else:\n",
    "                        env.process(self.status.create_back(env,factory))\n",
    "                        self.status = factory.workers[i]\n",
    "                        env.process(self.create_forward(env,factory))\n",
    "            else:\n",
    "                with factory.item[self.status.location].request() as request:\n",
    "                    yield request \n",
    "                    if self.status.location+1 in self.batch.keys():\n",
    "                        yield env.timeout(t)\n",
    "                        self.status.location+=1\n",
    "                        yield env.timeout(max(0,np.random.normal(self.status.collect_rate[0],self.status.collect_rate[1]))*(self.batch.get(self.status.location)))\n",
    "                        env.process(self.create_forward(env,factory))\n",
    "                    else:\n",
    "                        yield env.timeout(t)\n",
    "                        self.status.location+=1\n",
    "                        env.process(self.create_forward(env,factory))\n",
    "        else:\n",
    "            self.finished.succeed()\n",
    "            if len(factory.batch_order)==0 and factory.workers[i-2].finish.processed==True:\n",
    "                factory.finish_all.succeed()\n",
    "                factory.time_to_finish = env.now\n",
    "            else:\n",
    "                env.process(self.status.create_back(env,factory))   "
   ]
  },
  {
   "cell_type": "code",
   "execution_count": 40,
   "metadata": {
    "collapsed": true
   },
   "outputs": [],
   "source": [
    "class worker():\n",
    "    def __init__(self, env,name, collect_rate,forward_rate,back_rate):\n",
    "        self.name = name\n",
    "        self.collect_rate = collect_rate\n",
    "        self.forward_rate = forward_rate\n",
    "        self.back_rate = back_rate             \n",
    "        self.location = 0                      #worker location by axis x\n",
    "        self.finish = env.event()\n",
    "        self.with_box = None\n",
    "        self.direction = 1              #1 forward/ 0 backward\n",
    "        \n",
    "    def create_back(self,env,factory):\n",
    "        self.direction = 0\n",
    "        t = max(0,np.random.normal(self.back_rate[0],self.back_rate[1]))\n",
    "        i = self.name\n",
    "        if self.location>1:\n",
    "            if i!=1:\n",
    "                if factory.workers[i-2].finish.processed==True:\n",
    "                    self.finish.succeed()\n",
    "                else:\n",
    "                    with factory.item[self.location-1].request() as request:\n",
    "                        Result = yield request | self.with_box.change[self] \n",
    "                        if request in Result:\n",
    "                            yield env.timeout(t)\n",
    "                            self.location -=1\n",
    "                        else:\n",
    "                            env.process(self.create_back(env,factory))\n",
    "                            env.process(self.with_box.create_forward(env,factory))\n",
    "            else:\n",
    "                if len(factory.batch_order)>0:\n",
    "                    with factory.item[self.location-1].request() as request:\n",
    "                        yield request\n",
    "                        yield env.timeout(t)\n",
    "                        self.location -=1\n",
    "                else:\n",
    "                    self.finish.succeed()\n",
    "        elif self.location==1:\n",
    "            yield env.timeout(t)\n",
    "            self.location -=1\n",
    "        else:\n",
    "            if len(factory.batch_order)>0:\n",
    "                k = factory.batch_order.pop()\n",
    "                bucket = box(env,30,k,self,factory)\n",
    "                self.with_box = bucket\n",
    "                env.process(bucket.create_forward(env,factory))\n",
    "            else:\n",
    "                self.finish.succeed()   "
   ]
  },
  {
   "cell_type": "code",
   "execution_count": 41,
   "metadata": {
    "collapsed": true
   },
   "outputs": [],
   "source": [
    "def change_cheking(env,factory,workers_number):\n",
    "    \"\"\"\n",
    "    \"\"\"\n",
    "    while True:\n",
    "        for w in range(len(factory.workers)-1): \n",
    "            if factory.workers[w].location==factory.workers[w+1].location and factory.workers[w+1].direction==0 and factory.workers[w].with_box.change[factory.workers[w]].triggered!=True:\n",
    "            # We need to change buckets\n",
    "                factory.workers[w].with_box.change[factory.workers[w]].succeed()\n",
    "        yield env.timeout(0.01)  # Check every 10 seconds"
   ]
  },
  {
   "cell_type": "code",
   "execution_count": 42,
   "metadata": {
    "collapsed": true
   },
   "outputs": [],
   "source": [
    "def setup(env,factory,workers_number, collect_rate, forward_rate, back_rate):\n",
    "    \"\"\"\n",
    "    \"\"\"\n",
    "    for w in range(workers_number,0,-1):\n",
    "        new_worker = factory.workers[w-1]\n",
    "        k = factory.batch_order.pop()\n",
    "        bucket = box(env, 30,k,new_worker,factory)\n",
    "        new_worker.with_box = bucket\n",
    "        env.process(bucket.create_forward(env,factory))\n",
    "        yield env.timeout(0.001)"
   ]
  },
  {
   "cell_type": "code",
   "execution_count": 43,
   "metadata": {
    "collapsed": true
   },
   "outputs": [],
   "source": [
    "def main_sim(items_number, workers_number, collect_rate, forward_rate, back_rate, batches):    \n",
    "    # Create an environment and start the setup process\n",
    "    RANDOM_SEED = 42\n",
    "    # ----------Setup and start the simulation-------------------\n",
    "\n",
    "    env = simpy.Environment()\n",
    "    # Create the factory\n",
    "    Factory = factory(env, items_number, workers_number, collect_rate, forward_rate, back_rate, batches)\n",
    "\n",
    "    # start the simulation\n",
    "    random.seed(RANDOM_SEED)  # This helps reproducing the results\n",
    "\n",
    "    env.process(change_cheking(env,Factory,workers_number))\n",
    "    env.process(setup(env,Factory,workers_number, collect_rate, forward_rate, back_rate))\n",
    "    # Execute!\n",
    "    env.run(until=Factory.finish_all)\n",
    "    return Factory.time_to_finish"
   ]
  },
  {
   "cell_type": "code",
   "execution_count": 44,
   "metadata": {},
   "outputs": [
    {
     "data": {
      "text/plain": [
       "58.85465239730308"
      ]
     },
     "execution_count": 44,
     "metadata": {},
     "output_type": "execute_result"
    }
   ],
   "source": [
    "items_number = 5  # Number of items\n",
    "workers_number = 3  # Number of workers\n",
    "collect_rate = [(1.4,0.2),(1,0.2),(1.2,0.2)]\n",
    "forward_rate = [(1,0.2),(1,0.2),(1,0.1)]\n",
    "back_rate = [(0.5,0.1),(0.5,0.1),(0.7,0.1)]\n",
    "batches = [{1:6,2:2,3:9,4:10,5:1},{1:1,2:11,3:5,5:5},{2:3,3:10,4:10}]\n",
    "\n",
    "main_sim(items_number, workers_number, collect_rate, forward_rate, back_rate, batches)"
   ]
  },
  {
   "cell_type": "markdown",
   "metadata": {},
   "source": [
    "## Simulation Parameter - Read Excel File"
   ]
  },
  {
   "cell_type": "code",
   "execution_count": 64,
   "metadata": {
    "collapsed": true
   },
   "outputs": [],
   "source": [
    "def getParameters_fromExcel(filename, sheetname, capacity = 1):\n",
    "    '''\n",
    "    :param: filename, sheetname: the name of the excel file and the relvant sheet for the given simulation.\n",
    "    :param: capacity: can be 1 or 2 (each sheet has 2 capacity options)\n",
    "    :return: the orders DataFrame, and the capacity integer \n",
    "    '''\n",
    "    data = pd.read_excel(filename, sheetname)\n",
    "    orders = data.drop(['capacity1', 'capacity2'], axis=1)\n",
    "    capacity = data['capacity'+ str(capacity)][0]\n",
    "    sum_products = orders.apply(sum, axis=1) #create vector with the total amount of products in each order\n",
    "    return orders, capacity"
   ]
  },
  {
   "cell_type": "markdown",
   "metadata": {},
   "source": [
    "------------\n"
   ]
  },
  {
   "cell_type": "markdown",
   "metadata": {},
   "source": [
    "# Part 3 - The Genetic Algorithm"
   ]
  },
  {
   "cell_type": "markdown",
   "metadata": {},
   "source": [
    "## Chromozom to Buckets (\"Batches\") and their orders"
   ]
  },
  {
   "cell_type": "code",
   "execution_count": 84,
   "metadata": {},
   "outputs": [
    {
     "data": {
      "text/plain": [
       "[{1: 29, 2: 42, 3: 38, 4: 15, 5: 26, 6: 48},\n",
       " {1: 28, 2: 34, 3: 15, 4: 35, 5: 18, 6: 28}]"
      ]
     },
     "execution_count": 84,
     "metadata": {},
     "output_type": "execute_result"
    }
   ],
   "source": [
    "def chromozom_to_batches(chromozom, data):\n",
    "    # deal with empty buckets\n",
    "    uniqueSortedChrom = list(np.unique(chromozom)) \n",
    "    for gene in range(len(chromozom)):\n",
    "        chromozom[gene] = uniqueSortedChrom.index(chromozom[gene])        \n",
    "    \n",
    "    # the number of batches is similar to the maximum number in the buckets (+1, because we star with zero)\n",
    "    batches = [{item:0 for item in range(1, data.shape[1]+1, 1)} for d in range(max(chromozom)+1)]  # batches is a list of dictionaries. [{itemType : quantity}, {} ...]. The last dictionary represents the first bucket to be done.\n",
    "    #print (batches)\n",
    "    #print (data)\n",
    "    \n",
    "    for j in range(len(chromozom)):\n",
    "        for i in range(data.shape[1]):\n",
    "            batches[chromozom[j]][i+1] += data[i][j] \n",
    "    \n",
    "    # delete items with zero value in all dictionaries    \n",
    "    for bucket in range(len(batches)):\n",
    "        for item in range(1, data.shape[1], 1):\n",
    "            if batches[bucket][item] == 0:\n",
    "                del batches[bucket][item]\n",
    "        \n",
    "    return batches\n",
    "\n",
    "# TEST ONLY !\n",
    "data, capacity = getParameters_fromExcel('input.xlsx', '20 orders new format', 1)\n",
    "chromozom_to_batches([1,1,1,1,1,1,1,1,1,1,2,2,2,2,2,2,2,2,2,2], data)"
   ]
  },
  {
   "cell_type": "markdown",
   "metadata": {},
   "source": [
    "# Genetic algorithem"
   ]
  },
  {
   "cell_type": "code",
   "execution_count": 21,
   "metadata": {
    "scrolled": true
   },
   "outputs": [
    {
     "ename": "SyntaxError",
     "evalue": "invalid syntax (<ipython-input-21-1813eae7fcaf>, line 38)",
     "output_type": "error",
     "traceback": [
      "\u001b[1;36m  File \u001b[1;32m\"<ipython-input-21-1813eae7fcaf>\"\u001b[1;36m, line \u001b[1;32m38\u001b[0m\n\u001b[1;33m    buckets[j] = [] for j in chromozom  # create the buckets\u001b[0m\n\u001b[1;37m                      ^\u001b[0m\n\u001b[1;31mSyntaxError\u001b[0m\u001b[1;31m:\u001b[0m invalid syntax\n"
     ]
    }
   ],
   "source": [
    "def f(x):\n",
    "    # returns the avarage time from the simulations, due to inputs x\n",
    "    return random.int(100,200)  # This is only for testing!!!\n",
    "########################################################################################\n",
    "\n",
    "########################################################################################\n",
    "# Convert simulation arrangement inputs to a chromozom\n",
    "def x_to_chromozom(x):\n",
    "    # The returned chromozom is an array, that represents the arrangement.\n",
    "    # Position j in the array represent order j, and the number in this position represent the number of the box for this order.\n",
    "    chromozom = []\n",
    "    return chromozom\n",
    "########################################################################################\n",
    "\n",
    "########################################################################################\n",
    "# Convert a chromozom to the simulation arrangement inputs\n",
    "def chromozom_to_x(chromozom):\n",
    "    x = []\n",
    "    return x\n",
    "########################################################################################\n",
    "\n",
    "\n",
    "# Generate a random chromozom\n",
    "def random_chromozom(ordersLen):\n",
    "    '''\n",
    "    :param ordersLen: the length of the orders array.\n",
    "    :return: a random chromozom.\n",
    "    '''\n",
    "    J = ordersLen # get the number of orders\n",
    "    for i in range(J):\n",
    "        temp[i]= random.randint(0, J)\n",
    "    return x_to_chromozom(temp)\n",
    "\n",
    "\n",
    "# Check if the chromozom is valid\n",
    "def validate_chromozom(chromozom, capacity):\n",
    "    buckets = chromozom_to_batches(chromozom)\n",
    "    for bucket in buckets:\n",
    "        totalItemsNum = 0\n",
    "        for item in bucket.keys():\n",
    "            totalItemsNum += bucket[item]\n",
    "        if totalItemsNum > capacity:\n",
    "            return False\n",
    "    return True\n",
    "\n",
    "\n",
    "#Create the initial Population\n",
    "def init_pop(num_of_population, parametersSheet):\n",
    "    list_of_chromozoms = []\n",
    "    for i in range(num_of_population):\n",
    "        list_of_chromozoms.append(random_chromozom())\n",
    "    list_of_chromozoms.append(LP_Solution(parametersSheet))  # Add the LP solution to the population\n",
    "    return list_of_chromozoms\n",
    "\n",
    "\n",
    "# Calculate the Fit Function for all the given population\n",
    "# returns the probability to choose each chromozom from the population\n",
    "def calc_fit(pop):\n",
    "    # pop - The Population. An array of all the chromozoms to calculate.\n",
    "    pop_values = []  # the values of the chromozoms in the population (according to the simulations)\n",
    "    for i in range(len(pop)):\n",
    "        # if the chromozom is not valid, give it a very low fit\n",
    "        if not validate_chromozom(pop[i]):\n",
    "            pop_values.append(0.001)\n",
    "        else:\n",
    "            pop_values.append(f(chromozom_to_x(pop[i])))  # add to the population values list the value of the current chromozom   \n",
    "    p_list = []  # A list of the probabilities to choose chromozom i from the population\n",
    "    for i in range(len(pop_values)):\n",
    "        p_list.append(1 - (pop_values[i] / sum(pop_values)))  # We want to give higher probability to lower solution, thus the (1 - value / sum_of_values)\n",
    "    return p_list\n",
    "    \n",
    "    \n",
    "def mutate(chromozom):\n",
    "    for i in range(len(chromozom)):\n",
    "        temp_random = random.randint(0, J-1)  # every gene in the chromozom has a 1/J probability to be mutated\n",
    "        if temp_random == 1:\n",
    "            chromozom[i] += 1\n",
    "            if chromozom[i] == J:  # if the order is now in box J+1 (there are only J boxes). Notice - written in Python, boxes are from 0 to J-1\n",
    "                chromozom[i] = 0\n",
    "    return chromozom\n",
    "\n",
    "\n",
    "def select_parents(pop):\n",
    "    list_of_parents = []\n",
    "    i = 0\n",
    "    while i < (len(pop) / 2):\n",
    "        first_parent = pop[int(np.random.choice(len(pop), 1, replace=False, p = calc_fit(pop)))]  # the first parent is chosen accourding to the Fit Function Probability\n",
    "        second_parent = pop[int(np.random.choice(len(pop), 1, replace=False))]  # the second parent is chosen randomly.\n",
    "        if np.any(first_parent != second_parent):  # if the same chromozom was chosen twice, select again.\n",
    "            i += 1\n",
    "            list_of_parents.append([first_parent, second_parent])\n",
    "    return list_of_parents\n",
    "\n",
    "\n",
    "def crossover(chromozom1, chromozom2):\n",
    "    crossPoint = np.random.randint(1, len(chromozom1))\n",
    "    baby_gene = np.zeros(len(chromozom1))\n",
    "    baby_gene[:crossPoint] = chromozom1[:crossPoint]\n",
    "    baby_gene[crossPoint:] = chromozom2[crossPoint:]\n",
    "    return baby_gene\n",
    "\n",
    "#############################################################\n",
    "def get_key(item): #function for the sort key\n",
    "    return f(chromozom_to_x(item))\n",
    "#############################################################\n",
    "\n",
    "def survival(pop, offspring):\n",
    "    new_generation=[]\n",
    "    num_survive=int(0.1*len(pop))  # NEED TO CHECK IF 10% IS GOOD\n",
    "    sorted_pop = sorted(pop, key = get_key)\n",
    "    sorted_offspring= sorted(offspring, key= get_key)\n",
    "    new_pop_2=sorted_offspring[num_survive:]\n",
    "    new_pop_1=sorted_pop[(len(pop)-num_survive):]\n",
    "    new_pop=new_pop_1+new_pop_2\n",
    "    return new_pop\n",
    "\n"
   ]
  },
  {
   "cell_type": "markdown",
   "metadata": {},
   "source": [
    "# Part 4 - The Main Code"
   ]
  },
  {
   "cell_type": "code",
   "execution_count": null,
   "metadata": {
    "collapsed": true
   },
   "outputs": [],
   "source": [
    "def MainGeneticAlgo(optionDict)\n",
    "    pop = init_pop(10, 20)\n",
    "\n",
    "    iter_num= 100 #number off generations\n",
    "    best_list=[]\n",
    "    for i in range(iter_num):\n",
    "        parents_pairs= select_parents(pop)\n",
    "        new_offspring=[]\n",
    "        for i in range(len(parents_pairs)): #creates 2 child from each pair\n",
    "            for j in range(2):\n",
    "                new_offspring.append(mutate(crossover(parents_pairs[i][0], parents_pairs[i][1])))\n",
    "        pop=survival(pop,new_offspring)\n",
    "        best= np.argmax(map(lambda x: get_key(x), pop)) #save the best solution\n",
    "        best_list.append(get_key(pop[best]))\n",
    "        print 'the best solution is ' + str(chromozom_to_x(pop[best]))+ 'with' + str(get_key(pop[best]))+ ' happiness units'\n",
    "\n",
    "#-----------------------------------------------------------------------------------------------------------------------\n",
    "#create graph\n",
    "\n",
    "\n",
    "t = np.arange(0.0, float(iter_num), 1.0)\n",
    "x= range(1,iter_num+1,1)\n",
    "plt.plot(x, best_list, 'b')\n",
    "plt.ylabel('Hppiness units')\n",
    "plt.title('Gene project')\n",
    "plt.xlabel('Generetion')\n",
    "plt.grid(True)\n",
    "\n",
    "plt.show()"
   ]
  },
  {
   "cell_type": "code",
   "execution_count": null,
   "metadata": {
    "collapsed": true
   },
   "outputs": [],
   "source": [
    "sheetNames = ['20 orders new format', '50 orders new format', '100 orders new format']\n",
    "\n",
    "data1 =\n",
    "    {\n",
    "        2:\n",
    "        {\n",
    "            'tf' : [(1, 0.2), (1,0.2)],\n",
    "            'tb': [(0.5, 0.1), (0.5, 0.1)],\n",
    "            'tp' : [(1.4, 0.2), (1, 0.2)]\n",
    "        },\n",
    "        3:\n",
    "        {\n",
    "            'tf' : [(1, 0.2), (1,0.2), (1,0.2)],\n",
    "            'tb': [(0.5, 0.1), (0.5, 0.1), (0.5,0.1)],\n",
    "            'tp' : [(1.5, 0.2), (1.2, 0.2), (0.9,0.2)]\n",
    "        }\n",
    "        4:\n",
    "        {\n",
    "            'tf' : [(1, 0.2), (1,0.2), (1,0.2), (1, 0.2)],\n",
    "            'tb': [(0.5, 0.1), (0.5, 0.1), (0.5,0.1), (0.5, 0.1)],\n",
    "            'tp' : [(1.9, 0.2), (1.6, 0.2), (1.3,0.2), (0.9,0.2)]\n",
    "        }\n",
    "    }\n",
    "\n",
    "data2 =\n",
    "    {\n",
    "        2:\n",
    "        {\n",
    "           'tf' : [(1, 0.2), (1,0.2)],\n",
    "            'tb': [(0.5, 0.1), (0.5, 0.1)],\n",
    "            'tp' : [(1.1, 0.2), (1, 0.2)]\n",
    "        },\n",
    "        3:\n",
    "        {\n",
    "        'tf' : [(1, 0.2), (1,0.2), (1, 0.2)],\n",
    "        'tb': [(0.5, 0.1), (0.5, 0.1), (0.5,0.1)],\n",
    "        'tp' : [(1.2, 0.2), (1.2, 0.2), (1.1,0.2)]\n",
    "        },\n",
    "        4:\n",
    "        {\n",
    "            'tf' : [(1, 0.2), (1,0.2), (1,0.2), (1, 0.2)],\n",
    "            'tb': [(0.5, 0.1), (0.5, 0.1), (0.5,0.1), (0.5, 0.1)],\n",
    "            'tp' : [(1.2, 0.2), (1.1, 0.2), (1,0.2), (1,0.2)]\n",
    "        }\n",
    "    }\n",
    "\n",
    "\n",
    "\n",
    "sheetParameters = {'20 orders new format': {\n",
    "                                            'Number of pickers': [2],\n",
    "                                            'Picker performance':['data1','data2'],                   \n",
    "                                            'Total capacity' : [1,2]\n",
    "                                            }\n",
    "                   '50 orders new format': {\n",
    "                                            'Number of pickers': [2, 3],\n",
    "                                            'Picker performance': [1,2],                   \n",
    "                                            'Total capacity' : [1,2]\n",
    "                                            }\n",
    "                   '100 orders new format': {\n",
    "                                            'Number of pickers': [3, 4],\n",
    "                                            'Picker performance': [1,2],\n",
    "                                            'Total capacity' : [1,2]\n",
    "                                            }\n",
    "                  }\n",
    "\n",
    "orders, capacity = getParameters_fromExcel('input.xlsx', '20 orders new format', 1)\n",
    "\n",
    "\n",
    "optionDict = {\n",
    "                items_number = 5  # Number of items\n",
    "                workers_number = 3  # Number of workers\n",
    "                collect_rate = [(1.4,0.2),(1,0.2),(1.2,0.2)]\n",
    "                forward_rate = [(1,0.2),(1,0.2),(1,0.1)]\n",
    "                back_rate = [(0.5,0.1),(0.5,0.1),(0.7,0.1)]\n",
    "                batches = [{1:6,2:2,3:9,4:10,5:1},{1:1,2:11,3:5,5:5},{2:3,3:10,4:10}]\n",
    "\n",
    "            }\n",
    "\n",
    "MainGeneticAlgo(\n",
    "\n",
    ")"
   ]
  }
 ],
 "metadata": {
  "kernelspec": {
   "display_name": "Python 3",
   "language": "python",
   "name": "python3"
  },
  "language_info": {
   "codemirror_mode": {
    "name": "ipython",
    "version": 3
   },
   "file_extension": ".py",
   "mimetype": "text/x-python",
   "name": "python",
   "nbconvert_exporter": "python",
   "pygments_lexer": "ipython3",
   "version": "3.6.2"
  }
 },
 "nbformat": 4,
 "nbformat_minor": 2
}
