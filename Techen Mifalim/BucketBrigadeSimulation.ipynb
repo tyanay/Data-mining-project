{
 "cells": [
  {
   "cell_type": "markdown",
   "metadata": {
    "collapsed": true
   },
   "source": [
    "# Bucket brigade\n",
    "---\n"
   ]
  },
  {
   "cell_type": "code",
   "execution_count": null,
   "metadata": {
    "collapsed": true
   },
   "outputs": [],
   "source": [
    "import random\n",
    "import numpy as np\n",
    "import simpy\n",
    "from pylab import plot, show, bar\n",
    "import matplotlib.pyplot as plt\n",
    "plt.style.use(\"ggplot\")"
   ]
  },
  {
   "cell_type": "code",
   "execution_count": null,
   "metadata": {
    "collapsed": true
   },
   "outputs": [],
   "source": [
    "class factory(object):\n",
    "    \"\"\"\n",
    "    \"\"\"\n",
    "    def __init__(self, env,items_number,workers_number,collect_rate,forward_rate,back_rate,batches):\n",
    "        self.env = env\n",
    "        self.item = []\n",
    "        self.workers = []\n",
    "        self.batch_order = batches\n",
    "        self.finish_all = env.event()\n",
    "        self.time_to_finish = 0\n",
    "        for i in range(items_number):\n",
    "            self.item.append(simpy.Resource(env, 1))\n",
    "        for j in range(workers_number):\n",
    "            self.workers.append(worker(j, collect_rate[j],forward_rate[j],back_rate[j]))"
   ]
  },
  {
   "cell_type": "code",
   "execution_count": null,
   "metadata": {
    "collapsed": true
   },
   "outputs": [],
   "source": [
    "class box():\n",
    "    def __init__(self, capacity,batch,worker):\n",
    "        self.capacity = capacity            #capacity of the box\n",
    "        self.batch = batch                  #dictinary of items and their quantity\n",
    "        self.finished = env.event()         #batch is finished?\n",
    "        self.status = worker                #which worker is with the batch box\n",
    "        \n",
    "    def create_forward(self,env,factory):\n",
    "        i = self.status.name()\n",
    "        t = max(0,np.random.normal(self.status.forward_rate[0],self.status.forward_rate[1]))\n",
    "        if self.status.location<self.batch[-1]:\n",
    "            with self.item[self.status.location+1].request() as request:\n",
    "                Result = yield request| factory.workers[i+1].location==self.status.location \n",
    "                if request in results:\n",
    "                    if self.status.location in batch:\n",
    "                        yield env.timeout(t)\n",
    "                        self.status.location+=1\n",
    "                        yield env.timeout(max(0,np.random.normal(self.status.collect_rate[0],self.status.collect_rate[1])))\n",
    "                        if factory.workers[i+1].location!=self.status.location:\n",
    "                            env.process(create_forward(self,env,factory))\n",
    "                        else:\n",
    "                            env.process(create_back(self.status,env,factory))\n",
    "                            self.status = factory.workers[i+1]\n",
    "                            env.process(create_forward(self,env,factory))\n",
    "                    else:\n",
    "                        yield env.timeout(t)\n",
    "                        self.status.location+=1\n",
    "                        env.process(create_forward(self,env,factory))\n",
    "                else:\n",
    "                    env.process(create_back(self.status))\n",
    "                    self.status = factory.workers[i+1]\n",
    "                    env.process(create_forward(self,env,factory))\n",
    "        else:\n",
    "            self.finished.succeed()\n",
    "            if len(factory.batch_order)==0:\n",
    "                factory.finish_all.succeed()\n",
    "            else:\n",
    "                env.process(create_back(self.status,env,factory))        "
   ]
  },
  {
   "cell_type": "code",
   "execution_count": null,
   "metadata": {
    "collapsed": true
   },
   "outputs": [],
   "source": [
    "class worker():\n",
    "    def __init__(self, name, collect_rate,forward_rate,back_rate):\n",
    "        self.name = name\n",
    "        self.collect_rate = collect_rate\n",
    "        self.forward_rate = forward_rate\n",
    "        self.back_rate = back_rate             \n",
    "        self.location = 0                      #worker location by axis x\n",
    "        self.finish = env.event()\n",
    "        self.with_box = None\n",
    "        \n",
    "    def create_back(self,env,factory):\n",
    "        t = max(0,np.random.normal(self.back_rate[0],self.back_rate[1]))\n",
    "        i = self.name()\n",
    "        if self.location!=0:\n",
    "            with factory.item[self.location-1].request() as request:\n",
    "                Result = yield request| factory.workers[i-1].location==self.location\n",
    "                if request in results:\n",
    "                    yield env.timeout(t)\n",
    "                    self.location -=1\n",
    "                else:\n",
    "                    env.process(create_back(self,env,factory))\n",
    "                    env.process(create_forward(self.with_box,env,factory))\n",
    "        else:\n",
    "            if len(factory.batch_order)>0:\n",
    "                k = factory.batch_order.pop()\n",
    "                bucket = box(30,k,self)\n",
    "                self.with_box = bucket\n",
    "                env.process(create_forward(bucket,env,factory))\n",
    "            else:\n",
    "                self.finish.succeed()               "
   ]
  },
  {
   "cell_type": "code",
   "execution_count": null,
   "metadata": {
    "collapsed": true
   },
   "outputs": [],
   "source": [
    "def setup(env,factory,workers_number):\n",
    "    \"\"\"\n",
    "    \"\"\"\n",
    "    for w in range(workers_number):\n",
    "        new_worker = worker(w+workers_number, collect_rate[w],forward_rate[w],back_rate[w])\n",
    "        k = Factory.batch_order.pop()\n",
    "        bucket = box(30,k,new_worker)\n",
    "        new_worker.with_box = bucket\n",
    "        env.process(create_forward(bucket,env,factory))"
   ]
  },
  {
   "cell_type": "code",
   "execution_count": null,
   "metadata": {
    "collapsed": true
   },
   "outputs": [],
   "source": [
    "def main_sim():    \n",
    "    # Create an environment and start the setup process\n",
    "    RANDOM_SEED = 42\n",
    "    # ----------Setup and start the simulation-------------------\n",
    "    items_number = 5  # Number of items\n",
    "    workers_number = 2  # Number of workers\n",
    "    collect_rate = []\n",
    "    forward_rate = []\n",
    "    back_rate = []\n",
    "    batches = []\n",
    "    \n",
    "    # Create the factory\n",
    "    Factory = factory(env,items_number,workers_number,collect_rate,forward_rate,back_rate,batches)\n",
    "\n",
    "    # start the simulation\n",
    "    print('Factory')\n",
    "    random.seed(RANDOM_SEED)  # This helps reproducing the results\n",
    "\n",
    "    env = simpy.Environment()\n",
    "    env.process(setup(env,Factory,workers_number))\n",
    "    # Execute!\n",
    "    env.run(until=Factory.finish_all)\n",
    "    return Factory.time_to_finish"
   ]
  }
 ],
 "metadata": {
  "anaconda-cloud": {},
  "kernelspec": {
   "display_name": "Python 3",
   "language": "python",
   "name": "python3"
  },
  "language_info": {
   "codemirror_mode": {
    "name": "ipython",
    "version": 3
   },
   "file_extension": ".py",
   "mimetype": "text/x-python",
   "name": "python",
   "nbconvert_exporter": "python",
   "pygments_lexer": "ipython3",
   "version": "3.6.3"
  }
 },
 "nbformat": 4,
 "nbformat_minor": 1
}
