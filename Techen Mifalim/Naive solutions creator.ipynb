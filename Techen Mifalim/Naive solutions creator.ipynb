{
 "cells": [
  {
   "cell_type": "code",
   "execution_count": 1,
   "metadata": {
    "collapsed": true
   },
   "outputs": [],
   "source": [
    "import numpy as np\n",
    "import pandas as pd"
   ]
  },
  {
   "cell_type": "code",
   "execution_count": 61,
   "metadata": {},
   "outputs": [],
   "source": [
    "def create_naive_solution(filename, sheetname, capacity = 1):\n",
    "\n",
    "# load dada and shuffle the orders\n",
    "    data = pd.read_excel(filename, sheetname)\n",
    "    orders = data.drop(['capacity1', 'capacity2'], axis=1)\n",
    "    capacity = data['capacity'+ str(capacity)][0]\n",
    "    orders = orders.sample(frac=1).reset_index(drop=False) #randomly shuffle the orders to get new solution each time\n",
    "    old_index = orders['index'] #seave the original order index\n",
    "    orders = orders.drop('index', axis = 1)\n",
    "    sum_products = orders.apply(sum, axis=1) #create vector with the total amount of products in each order\n",
    "\n",
    "#unite the orders to batches \n",
    "    lst = [None]*(orders.shape[0]) #list for the final solution in chromozom format\n",
    "    i=0 #variablre for the loop\n",
    "    batches = [] #list of lists- will contain the batches\n",
    "    while i < (len(sum_products)):\n",
    "        if sum_products[i] < capacity:\n",
    "            batch = [i]\n",
    "            product_counter = sum_products[i]\n",
    "            for j in range(i+1, len(sum_products), 1):\n",
    "                if product_counter + sum_products[j] <= capacity:\n",
    "                    product_counter += sum_products[j]\n",
    "                    batch.append(j)\n",
    "                    sum_products[j]= capacity+1\n",
    "            batches.append(batch)\n",
    "        i += 1\n",
    "\n",
    "# wtire the solution in chromozom format\n",
    "    for i in range(len(batches)):\n",
    "        for order in batches[i]:\n",
    "            lst[old_index[order]] = i\n",
    "    return lst\n",
    "    \n",
    "    \n",
    "    \n",
    "    \n"
   ]
  },
  {
   "cell_type": "code",
   "execution_count": 68,
   "metadata": {},
   "outputs": [
    {
     "data": {
      "text/plain": [
       "[0, 1, 1, 2, 4, 3, 6, 1, 4, 5, 5, 2, 2, 2, 0, 0, 3, 4, 5, 1]"
      ]
     },
     "execution_count": 68,
     "metadata": {},
     "output_type": "execute_result"
    }
   ],
   "source": [
    "#validation\n",
    "create_naive_solution('input.xlsx', '20 orders new format')"
   ]
  }
 ],
 "metadata": {
  "kernelspec": {
   "display_name": "Python 3",
   "language": "python",
   "name": "python3"
  },
  "language_info": {
   "codemirror_mode": {
    "name": "ipython",
    "version": 3
   },
   "file_extension": ".py",
   "mimetype": "text/x-python",
   "name": "python",
   "nbconvert_exporter": "python",
   "pygments_lexer": "ipython3",
   "version": "3.6.2"
  }
 },
 "nbformat": 4,
 "nbformat_minor": 2
}
