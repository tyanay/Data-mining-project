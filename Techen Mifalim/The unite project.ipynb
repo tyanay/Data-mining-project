{
 "cells": [
  {
   "cell_type": "markdown",
   "metadata": {},
   "source": [
    "# Bucket Brigade"
   ]
  },
  {
   "cell_type": "markdown",
   "metadata": {},
   "source": [
    "**Authors:**\n",
    "- Tomer Yanay\n",
    "- Yogev Matalon\n",
    "- Noam Tor"
   ]
  },
  {
   "cell_type": "code",
<<<<<<< HEAD
   "execution_count": 131,
   "metadata": {},
=======
   "execution_count": 17,
   "metadata": {
    "collapsed": true
   },
>>>>>>> bcb6b0a2c8bb56478eb403505956de75c55e8adc
   "outputs": [],
   "source": [
    "import pulp\n",
    "import time\n",
    "import numpy as np\n",
    "import pandas as pd\n",
    "import random\n",
    "import simpy\n",
    "from pylab import plot, show, bar\n",
    "import matplotlib.pyplot as plt\n",
    "plt.style.use(\"ggplot\")\n",
    "import math"
   ]
  },
  {
   "cell_type": "markdown",
   "metadata": {},
   "source": [
    "# Part 1 - Create the Seed for the Genetic Algorithm"
   ]
  },
  {
   "cell_type": "markdown",
   "metadata": {},
   "source": [
    "### 1.A. \"Super Parent\" - Linear Programming Solution"
   ]
  },
  {
   "cell_type": "code",
<<<<<<< HEAD
   "execution_count": 141,
=======
   "execution_count": 18,
>>>>>>> bcb6b0a2c8bb56478eb403505956de75c55e8adc
   "metadata": {
    "scrolled": true
   },
   "outputs": [
    {
     "data": {
      "text/plain": [
       "[1, 18, 18, 18, 17, 7, 14, 3, 3, 17, 3, 18, 1, 14, 14, 14, 7, 3, 17, 1]"
      ]
     },
<<<<<<< HEAD
     "execution_count": 141,
=======
     "execution_count": 18,
>>>>>>> bcb6b0a2c8bb56478eb403505956de75c55e8adc
     "metadata": {},
     "output_type": "execute_result"
    }
   ],
   "source": [
    "def lp_Heuristic(filename, sheetname, capacity_num):\n",
    "\n",
    "#load the data\n",
    "    data = pd.read_excel(filename, sheetname)\n",
    "    orders = data[[0,1,2,3,4,5]]\n",
    "    sum_products = orders.apply(sum, axis=1)\n",
    "    if capacity_num == 1:\n",
    "        capacity = data['capacity1'][0]\n",
    "    else:\n",
    "        capacity = data['capacity2'][0]\n",
    "    i_orders = list(orders.index.values)\n",
    "    i_batch = list(orders.index.values)\n",
    "    i_order_batch = []\n",
    "    for order in i_orders:\n",
    "        for batch in i_batch:\n",
    "            i_order_batch.append((batch, order))\n",
    "            \n",
    "#initialise the model\n",
    "    model = pulp.LpProblem('The orders to batches problem', pulp.LpMinimize)\n",
    "\n",
    "\n",
    "# initialise the variables\n",
    "    x = pulp.LpVariable.dict('x', i_batch, lowBound =0, upBound = 1, cat = pulp.LpInteger) #x_1 = 1 if we use bin 1, 0 else\n",
    "    y = pulp.LpVariable.dicts('y', i_order_batch ,lowBound = 0, upBound = 1, cat = pulp.LpInteger) #y_(1,1)- 1 if order 1 in batch 1, 0 else \n",
    "\n",
    "# create the objective\n",
    "    model += pulp.lpSum( [x[batch] for batch in i_batch])\n",
    "\n",
    "# First constraint: For every item, the sum of bins in which it appears must be 1\n",
    "    for order in i_orders:\n",
    "        model += pulp.lpSum([y[(batch, order)] for batch in i_batch]) == 1\n",
    "\n",
    "# Second constraint: desicion variables connection\n",
    "    for order in i_orders:\n",
    "        for batch in i_batch:\n",
    "            model += x[batch] >= y[(batch, order)] \n",
    "\n",
    "# third constraint: capacity\n",
    "    for batch in i_batch:\n",
    "        model += sum([sum_products[order]*y[(batch, order)] for order in i_orders]) <= capacity\n",
    "    \n",
    "# Solve the optimization.\n",
    "    start_time = time.time()\n",
    "    model.solve()\n",
    "\n",
    "# return results as chromozom\n",
    "    results = {}\n",
    "    for key in y.keys():\n",
    "        if y[key].value()==1:\n",
    "            results[key[1]]=key[0]\n",
    "    lst = [None]*20\n",
    "    for key in results.keys():\n",
    "        lst[key] = results[key]\n",
    "    return lst\n",
    "\n",
    "lp_Heuristic('input.xlsx', '20 orders new format', 1)"
   ]
  },
  {
   "cell_type": "markdown",
   "metadata": {},
   "source": [
    "### 1.B. Random-Greedy Seed Generator"
   ]
  },
  {
   "cell_type": "code",
<<<<<<< HEAD
   "execution_count": 143,
=======
   "execution_count": 19,
>>>>>>> bcb6b0a2c8bb56478eb403505956de75c55e8adc
   "metadata": {},
   "outputs": [
    {
     "data": {
      "text/plain": [
<<<<<<< HEAD
       "[0, 4, 2, 2, 5, 3, 4, 2, 5, 0, 1, 0, 6, 4, 4, 1, 3, 2, 1, 1]"
      ]
     },
     "execution_count": 143,
=======
       "[4, 3, 3, 4, 6, 0, 4, 3, 5, 5, 2, 1, 2, 0, 0, 1, 2, 3, 1, 1]"
      ]
     },
     "execution_count": 19,
>>>>>>> bcb6b0a2c8bb56478eb403505956de75c55e8adc
     "metadata": {},
     "output_type": "execute_result"
    }
   ],
   "source": [
    "def create_naive_solution(filename = 'input.xlsx', sheetname='20 orders new format' , capacity = 1):\n",
    "\n",
    "# load dada and shuffle the orders\n",
    "    data = pd.read_excel(filename, sheetname)\n",
    "    orders = data.drop(['capacity1', 'capacity2'], axis=1)\n",
    "    capacity = data['capacity'+ str(capacity)][0]\n",
    "    orders = orders.sample(frac=1).reset_index(drop=False) #randomly shuffle the orders to get new solution each time\n",
    "    old_index = orders['index'] #seave the original order index\n",
    "    orders = orders.drop('index', axis = 1)\n",
    "    sum_products = orders.apply(sum, axis=1) #create vector with the total amount of products in each order\n",
    "\n",
    "#unite the orders to batches \n",
    "    lst = [None]*(orders.shape[0]) #list for the final solution in chromozom format\n",
    "    i=0 #variablre for the loop\n",
    "    batches = [] #list of lists- will contain the batches\n",
    "    while i < (len(sum_products)):\n",
    "        if sum_products[i] < capacity:\n",
    "            batch = [i]\n",
    "            product_counter = sum_products[i]\n",
    "            for j in range(i+1, len(sum_products), 1):\n",
    "                if product_counter + sum_products[j] <= capacity:\n",
    "                    product_counter += sum_products[j]\n",
    "                    batch.append(j)\n",
    "                    sum_products[j]= capacity+1\n",
    "            batches.append(batch)\n",
    "        i += 1\n",
    "\n",
    "# wtire the solution in chromozom format\n",
    "    for i in range(len(batches)):\n",
    "        for order in batches[i]:\n",
    "            lst[old_index[order]] = i\n",
    "    return lst\n",
    "create_naive_solution('input.xlsx', '20 orders new format', 1)"
   ]
  },
  {
   "cell_type": "markdown",
   "metadata": {},
   "source": [
    "# Part 2 - Bucket Brigade Simulation"
   ]
  },
  {
   "cell_type": "code",
<<<<<<< HEAD
   "execution_count": 144,
=======
   "execution_count": 20,
>>>>>>> bcb6b0a2c8bb56478eb403505956de75c55e8adc
   "metadata": {
    "collapsed": true
   },
   "outputs": [],
   "source": [
    "class factory(object):\n",
    "    \"\"\"\n",
    "    \"\"\"\n",
    "    def __init__(self, env, items_number, workers_number, collect_rate, forward_rate, back_rate, batches):\n",
    "        self.env = env\n",
    "        self.item = []\n",
    "        self.workers = []\n",
    "        self.batch_order = batches\n",
    "        self.finish_all = env.event()\n",
    "        self.time_to_finish = 0\n",
    "        for i in range(items_number):\n",
    "            self.item.append(simpy.Resource(env, 1))\n",
    "        for j in range(workers_number):\n",
    "            self.workers.append(worker(env,j+1, collect_rate[j],forward_rate[j],back_rate[j]))"
   ]
  },
  {
   "cell_type": "code",
<<<<<<< HEAD
   "execution_count": 145,
=======
   "execution_count": 28,
>>>>>>> bcb6b0a2c8bb56478eb403505956de75c55e8adc
   "metadata": {
    "collapsed": true
   },
   "outputs": [],
   "source": [
    "class box():\n",
    "    def __init__(self, env, capacity,batch,worker,factory):\n",
    "        self.capacity = capacity            #capacity of the box\n",
    "        self.batch = batch                  #dictinary of items and their quantity\n",
    "        self.finished = env.event()         #batch is finished?\n",
    "        self.status = worker                #which worker is with the batch box\n",
    "        self.change = {worker: env.event() for worker in factory.workers}\n",
    "        \n",
    "    def create_forward(self,env,factory):\n",
    "        self.status.direction = 1\n",
    "        i = self.status.name\n",
    "        t = max(0,np.random.normal(self.status.forward_rate[0],self.status.forward_rate[1]))\n",
    "        if self.status.location<list(self.batch.keys())[-1]:\n",
    "            if i!=len(factory.workers):\n",
    "                with factory.item[self.status.location].request() as request:\n",
    "                    factory.workers[i].name\n",
    "                    Result = yield request| self.change[self.status]  \n",
    "                    if request in Result:\n",
    "                        if self.status.location+1 in self.batch.keys(): \n",
    "                            yield env.timeout(t)\n",
    "                            self.status.location+=1\n",
    "                            yield env.timeout(max(0,np.random.normal(self.status.collect_rate[0],self.status.collect_rate[1]))*(self.batch.get(self.status.location)))\n",
    "                            if factory.workers[i].location!=self.status.location:\n",
    "                                env.process(self.create_forward(env,factory))\n",
    "                            else:\n",
    "                                env.process(self.status.create_back(env,factory))\n",
    "                                self.status = factory.workers[i]\n",
    "                                env.process(self.create_forward(env,factory))\n",
    "                        else:\n",
    "                            yield env.timeout(t)\n",
    "                            self.status.location+=1\n",
    "                            env.process(self.create_forward(env,factory))\n",
    "                    else:\n",
    "                        env.process(self.status.create_back(env,factory))\n",
    "                        self.status = factory.workers[i]\n",
    "                        env.process(self.create_forward(env,factory))\n",
    "            else:\n",
    "                with factory.item[self.status.location].request() as request:\n",
    "                    yield request \n",
    "                    if self.status.location+1 in self.batch.keys():\n",
    "                        yield env.timeout(t)\n",
    "                        self.status.location+=1\n",
    "                        yield env.timeout(max(0,np.random.normal(self.status.collect_rate[0],self.status.collect_rate[1]))*(self.batch.get(self.status.location)))\n",
    "                        env.process(self.create_forward(env,factory))\n",
    "                    else:\n",
    "                        yield env.timeout(t)\n",
    "                        self.status.location+=1\n",
    "                        env.process(self.create_forward(env,factory))\n",
    "        else:\n",
<<<<<<< HEAD
    "            self.finished.succeed()\n",
    "            if len(factory.batch_order)==0 and factory.workers[i-2].finish.processed==True:\n",
    "                factory.finish_all.succeed()\n",
    "                factory.time_to_finish = env.now\n",
    "            else:\n",
    "                env.process(self.status.create_back(env,factory))   "
=======
    "            if self.finished.triggered!=True:\n",
    "                self.finished.succeed()\n",
    "                print(\"worker {} has finished\".format(i))\n",
    "                if len(factory.batch_order)==0 and factory.workers[i-2].finish.processed==True:\n",
    "                    factory.finish_all.succeed()\n",
    "                    factory.time_to_finish = env.now\n",
    "                else:\n",
    "                    env.process(self.status.create_back(env,factory))   "
>>>>>>> bcb6b0a2c8bb56478eb403505956de75c55e8adc
   ]
  },
  {
   "cell_type": "code",
<<<<<<< HEAD
   "execution_count": 146,
=======
   "execution_count": 29,
>>>>>>> bcb6b0a2c8bb56478eb403505956de75c55e8adc
   "metadata": {
    "collapsed": true
   },
   "outputs": [],
   "source": [
    "class worker():\n",
    "    def __init__(self, env,name, collect_rate,forward_rate,back_rate):\n",
    "        self.name = name\n",
    "        self.collect_rate = collect_rate\n",
    "        self.forward_rate = forward_rate\n",
    "        self.back_rate = back_rate             \n",
    "        self.location = 0                      #worker location by axis x\n",
    "        self.finish = env.event()\n",
    "        self.with_box = None\n",
    "        self.direction = 1              #1 forward/ 0 backward\n",
    "        \n",
    "    def create_back(self,env,factory):\n",
    "        self.direction = 0\n",
    "        t = max(0,np.random.normal(self.back_rate[0],self.back_rate[1]))\n",
    "        i = self.name\n",
    "        if self.location>1:\n",
    "            if i!=1:\n",
    "                if factory.workers[i-2].finish.processed==True:\n",
    "                    self.finish.succeed()\n",
    "                else:\n",
    "                    with factory.item[self.location-1].request() as request:\n",
    "                        Result = yield request | self.with_box.change[self] \n",
    "                        if request in Result:\n",
    "                            yield env.timeout(t)\n",
    "                            self.location -=1\n",
    "                        else:\n",
    "                            env.process(self.create_back(env,factory))\n",
    "                            env.process(self.with_box.create_forward(env,factory))\n",
    "            else:\n",
    "                if len(factory.batch_order)>0:\n",
    "                    with factory.item[self.location-1].request() as request:\n",
    "                        yield request\n",
    "                        yield env.timeout(t)\n",
    "                        self.location -=1\n",
    "                else:\n",
    "                    self.finish.succeed()\n",
    "        elif self.location==1:\n",
    "            yield env.timeout(t)\n",
    "            self.location -=1\n",
    "        else:\n",
    "            if len(factory.batch_order)>0:\n",
<<<<<<< HEAD
    "                k = factory.batch_order.pop()\n",
    "                bucket = box(env,30,k,self,factory)\n",
=======
    "                k = factory.batch_order.pop(0)\n",
    "                bucket = box(env,30,k,self,factory)\n",
    "                print(bucket.batch, bucket.status)\n",
>>>>>>> bcb6b0a2c8bb56478eb403505956de75c55e8adc
    "                self.with_box = bucket\n",
    "                env.process(bucket.create_forward(env,factory))\n",
    "            else:\n",
    "                self.finish.succeed()   "
   ]
  },
  {
   "cell_type": "code",
<<<<<<< HEAD
   "execution_count": 147,
=======
   "execution_count": 23,
>>>>>>> bcb6b0a2c8bb56478eb403505956de75c55e8adc
   "metadata": {
    "collapsed": true
   },
   "outputs": [],
   "source": [
    "def change_cheking(env,factory,workers_number):\n",
    "    \"\"\"\n",
    "    \"\"\"\n",
    "    while True:\n",
    "        for w in range(len(factory.workers)-1): \n",
    "            if factory.workers[w].location==factory.workers[w+1].location and factory.workers[w+1].direction==0 and factory.workers[w].with_box.change[factory.workers[w]].triggered!=True:\n",
    "            # We need to change buckets\n",
    "                factory.workers[w].with_box.change[factory.workers[w]].succeed()\n",
<<<<<<< HEAD
    "        yield env.timeout(0.01)  # Check every 10 seconds"
=======
    "        yield env.timeout(0.001)  # Check every 10 seconds"
>>>>>>> bcb6b0a2c8bb56478eb403505956de75c55e8adc
   ]
  },
  {
   "cell_type": "code",
<<<<<<< HEAD
   "execution_count": 148,
=======
   "execution_count": 24,
>>>>>>> bcb6b0a2c8bb56478eb403505956de75c55e8adc
   "metadata": {
    "collapsed": true
   },
   "outputs": [],
   "source": [
    "def setup(env,factory,workers_number, collect_rate, forward_rate, back_rate):\n",
    "    \"\"\"\n",
    "    \"\"\"\n",
    "    for w in range(workers_number,0,-1):\n",
    "        new_worker = factory.workers[w-1]\n",
<<<<<<< HEAD
    "        k = factory.batch_order.pop()\n",
    "        bucket = box(env, 30,k,new_worker,factory)\n",
    "        new_worker.with_box = bucket\n",
    "        env.process(bucket.create_forward(env,factory))\n",
    "        yield env.timeout(0.001)"
=======
    "        k = factory.batch_order.pop(0)\n",
    "        bucket = box(env, 30,k,new_worker,factory)\n",
    "        print(bucket.batch, bucket.status)\n",
    "        new_worker.with_box = bucket\n",
    "        env.process(bucket.create_forward(env,factory))\n",
    "        yield env.timeout(0.01)"
>>>>>>> bcb6b0a2c8bb56478eb403505956de75c55e8adc
   ]
  },
  {
   "cell_type": "code",
<<<<<<< HEAD
   "execution_count": 149,
=======
   "execution_count": 25,
>>>>>>> bcb6b0a2c8bb56478eb403505956de75c55e8adc
   "metadata": {
    "collapsed": true
   },
   "outputs": [],
   "source": [
    "def main_sim(items_number, workers_number, collect_rate, forward_rate, back_rate, batches):    \n",
    "    # Create an environment and start the setup process\n",
    "    RANDOM_SEED = 42\n",
    "    # ----------Setup and start the simulation-------------------\n",
    "\n",
    "    env = simpy.Environment()\n",
    "    # Create the factory\n",
    "    Factory = factory(env, items_number, workers_number, collect_rate, forward_rate, back_rate, batches)\n",
    "\n",
    "    # start the simulation\n",
    "    random.seed(RANDOM_SEED)  # This helps reproducing the results\n",
    "\n",
    "    env.process(change_cheking(env,Factory,workers_number))\n",
    "    env.process(setup(env,Factory,workers_number, collect_rate, forward_rate, back_rate))\n",
    "    # Execute!\n",
    "    env.run(until=Factory.finish_all)\n",
    "    return Factory.time_to_finish"
   ]
  },
  {
   "cell_type": "code",
<<<<<<< HEAD
   "execution_count": 150,
   "metadata": {},
   "outputs": [
    {
     "data": {
      "text/plain": [
       "57.99055573225569"
      ]
     },
     "execution_count": 150,
     "metadata": {},
     "output_type": "execute_result"
=======
   "execution_count": null,
   "metadata": {},
   "outputs": [
    {
     "name": "stdout",
     "output_type": "stream",
     "text": [
      "{1: 6, 2: 2, 3: 9, 4: 10, 5: 1} <__main__.worker object at 0x000002748C7C4198>\n",
      "{1: 1, 2: 11, 3: 5, 5: 5} <__main__.worker object at 0x000002748C7C47B8>\n",
      "{2: 3, 3: 10, 4: 10} <__main__.worker object at 0x000002748C7C4B00>\n",
      "worker 3 has finished\n",
      "worker 3 has finished\n"
     ]
>>>>>>> bcb6b0a2c8bb56478eb403505956de75c55e8adc
    }
   ],
   "source": [
    "items_number = 5  # Number of items\n",
    "workers_number = 3  # Number of workers\n",
    "collect_rate = [(1.4,0.2),(1,0.2),(1.2,0.2)]\n",
    "forward_rate = [(1,0.2),(1,0.2),(1,0.1)]\n",
    "back_rate = [(0.5,0.1),(0.5,0.1),(0.7,0.1)]\n",
    "batches = [{1:6,2:2,3:9,4:10,5:1},{1:1,2:11,3:5,5:5},{2:3,3:10,4:10}]\n",
    "\n",
    "main_sim(items_number, workers_number, collect_rate, forward_rate, back_rate, batches)"
   ]
  },
  {
<<<<<<< HEAD
=======
   "cell_type": "code",
   "execution_count": 14,
   "metadata": {},
   "outputs": [
    {
     "name": "stdout",
     "output_type": "stream",
     "text": [
      "{1: 10, 2: 14, 3: 10, 4: 4, 5: 6, 6: 12} <__main__.worker object at 0x000002748C79E128>\n",
      "{1: 12, 2: 14, 3: 4, 4: 10, 5: 8, 6: 11} <__main__.worker object at 0x000002748C79E0B8>\n"
     ]
    },
    {
     "ename": "KeyboardInterrupt",
     "evalue": "",
     "output_type": "error",
     "traceback": [
      "\u001b[1;31m---------------------------------------------------------------------------\u001b[0m",
      "\u001b[1;31mKeyboardInterrupt\u001b[0m                         Traceback (most recent call last)",
      "\u001b[1;32m<ipython-input-14-8d7fb712ed52>\u001b[0m in \u001b[0;36m<module>\u001b[1;34m()\u001b[0m\n\u001b[0;32m      5\u001b[0m \u001b[0mback_rate\u001b[0m \u001b[1;33m=\u001b[0m \u001b[1;33m[\u001b[0m\u001b[1;33m(\u001b[0m\u001b[1;36m0.5\u001b[0m\u001b[1;33m,\u001b[0m \u001b[1;36m0.1\u001b[0m\u001b[1;33m)\u001b[0m\u001b[1;33m,\u001b[0m \u001b[1;33m(\u001b[0m\u001b[1;36m0.5\u001b[0m\u001b[1;33m,\u001b[0m \u001b[1;36m0.1\u001b[0m\u001b[1;33m)\u001b[0m\u001b[1;33m]\u001b[0m\u001b[1;33m\u001b[0m\u001b[0m\n\u001b[0;32m      6\u001b[0m \u001b[0mbatches\u001b[0m \u001b[1;33m=\u001b[0m \u001b[1;33m[\u001b[0m\u001b[1;33m{\u001b[0m\u001b[1;36m1\u001b[0m\u001b[1;33m:\u001b[0m \u001b[1;36m10\u001b[0m\u001b[1;33m,\u001b[0m \u001b[1;36m2\u001b[0m\u001b[1;33m:\u001b[0m \u001b[1;36m14\u001b[0m\u001b[1;33m,\u001b[0m \u001b[1;36m3\u001b[0m\u001b[1;33m:\u001b[0m \u001b[1;36m10\u001b[0m\u001b[1;33m,\u001b[0m \u001b[1;36m4\u001b[0m\u001b[1;33m:\u001b[0m \u001b[1;36m4\u001b[0m\u001b[1;33m,\u001b[0m \u001b[1;36m5\u001b[0m\u001b[1;33m:\u001b[0m \u001b[1;36m6\u001b[0m\u001b[1;33m,\u001b[0m \u001b[1;36m6\u001b[0m\u001b[1;33m:\u001b[0m \u001b[1;36m12\u001b[0m\u001b[1;33m}\u001b[0m\u001b[1;33m,\u001b[0m \u001b[1;33m{\u001b[0m\u001b[1;36m1\u001b[0m\u001b[1;33m:\u001b[0m \u001b[1;36m12\u001b[0m\u001b[1;33m,\u001b[0m \u001b[1;36m2\u001b[0m\u001b[1;33m:\u001b[0m \u001b[1;36m14\u001b[0m\u001b[1;33m,\u001b[0m \u001b[1;36m3\u001b[0m\u001b[1;33m:\u001b[0m \u001b[1;36m4\u001b[0m\u001b[1;33m,\u001b[0m \u001b[1;36m4\u001b[0m\u001b[1;33m:\u001b[0m \u001b[1;36m10\u001b[0m\u001b[1;33m,\u001b[0m \u001b[1;36m5\u001b[0m\u001b[1;33m:\u001b[0m \u001b[1;36m8\u001b[0m\u001b[1;33m,\u001b[0m \u001b[1;36m6\u001b[0m\u001b[1;33m:\u001b[0m \u001b[1;36m11\u001b[0m\u001b[1;33m}\u001b[0m\u001b[1;33m,\u001b[0m \u001b[1;33m{\u001b[0m\u001b[1;36m1\u001b[0m\u001b[1;33m:\u001b[0m \u001b[1;36m7\u001b[0m\u001b[1;33m,\u001b[0m \u001b[1;36m2\u001b[0m\u001b[1;33m:\u001b[0m \u001b[1;36m15\u001b[0m\u001b[1;33m,\u001b[0m \u001b[1;36m3\u001b[0m\u001b[1;33m:\u001b[0m \u001b[1;36m9\u001b[0m\u001b[1;33m,\u001b[0m \u001b[1;36m4\u001b[0m\u001b[1;33m:\u001b[0m \u001b[1;36m6\u001b[0m\u001b[1;33m,\u001b[0m \u001b[1;36m5\u001b[0m\u001b[1;33m:\u001b[0m \u001b[1;36m8\u001b[0m\u001b[1;33m,\u001b[0m \u001b[1;36m6\u001b[0m\u001b[1;33m:\u001b[0m \u001b[1;36m13\u001b[0m\u001b[1;33m}\u001b[0m\u001b[1;33m,\u001b[0m \u001b[1;33m{\u001b[0m\u001b[1;36m1\u001b[0m\u001b[1;33m:\u001b[0m \u001b[1;36m13\u001b[0m\u001b[1;33m,\u001b[0m \u001b[1;36m2\u001b[0m\u001b[1;33m:\u001b[0m \u001b[1;36m7\u001b[0m\u001b[1;33m,\u001b[0m \u001b[1;36m3\u001b[0m\u001b[1;33m:\u001b[0m \u001b[1;36m8\u001b[0m\u001b[1;33m,\u001b[0m \u001b[1;36m4\u001b[0m\u001b[1;33m:\u001b[0m \u001b[1;36m15\u001b[0m\u001b[1;33m,\u001b[0m \u001b[1;36m5\u001b[0m\u001b[1;33m:\u001b[0m \u001b[1;36m7\u001b[0m\u001b[1;33m,\u001b[0m \u001b[1;36m6\u001b[0m\u001b[1;33m:\u001b[0m \u001b[1;36m8\u001b[0m\u001b[1;33m}\u001b[0m\u001b[1;33m,\u001b[0m \u001b[1;33m{\u001b[0m\u001b[1;36m1\u001b[0m\u001b[1;33m:\u001b[0m \u001b[1;36m1\u001b[0m\u001b[1;33m,\u001b[0m \u001b[1;36m2\u001b[0m\u001b[1;33m:\u001b[0m \u001b[1;36m12\u001b[0m\u001b[1;33m,\u001b[0m \u001b[1;36m3\u001b[0m\u001b[1;33m:\u001b[0m \u001b[1;36m16\u001b[0m\u001b[1;33m,\u001b[0m \u001b[1;36m4\u001b[0m\u001b[1;33m:\u001b[0m \u001b[1;36m11\u001b[0m\u001b[1;33m,\u001b[0m \u001b[1;36m5\u001b[0m\u001b[1;33m:\u001b[0m \u001b[1;36m4\u001b[0m\u001b[1;33m,\u001b[0m \u001b[1;36m6\u001b[0m\u001b[1;33m:\u001b[0m \u001b[1;36m16\u001b[0m\u001b[1;33m}\u001b[0m\u001b[1;33m,\u001b[0m \u001b[1;33m{\u001b[0m\u001b[1;36m1\u001b[0m\u001b[1;33m:\u001b[0m \u001b[1;36m6\u001b[0m\u001b[1;33m,\u001b[0m \u001b[1;36m2\u001b[0m\u001b[1;33m:\u001b[0m \u001b[1;36m12\u001b[0m\u001b[1;33m,\u001b[0m \u001b[1;36m3\u001b[0m\u001b[1;33m:\u001b[0m \u001b[1;36m2\u001b[0m\u001b[1;33m,\u001b[0m \u001b[1;36m4\u001b[0m\u001b[1;33m:\u001b[0m \u001b[1;36m4\u001b[0m\u001b[1;33m,\u001b[0m \u001b[1;36m5\u001b[0m\u001b[1;33m:\u001b[0m \u001b[1;36m4\u001b[0m\u001b[1;33m,\u001b[0m \u001b[1;36m6\u001b[0m\u001b[1;33m:\u001b[0m \u001b[1;36m11\u001b[0m\u001b[1;33m}\u001b[0m\u001b[1;33m,\u001b[0m \u001b[1;33m{\u001b[0m\u001b[1;36m1\u001b[0m\u001b[1;33m:\u001b[0m \u001b[1;36m8\u001b[0m\u001b[1;33m,\u001b[0m \u001b[1;36m2\u001b[0m\u001b[1;33m:\u001b[0m \u001b[1;36m2\u001b[0m\u001b[1;33m,\u001b[0m \u001b[1;36m3\u001b[0m\u001b[1;33m:\u001b[0m \u001b[1;36m4\u001b[0m\u001b[1;33m,\u001b[0m \u001b[1;36m5\u001b[0m\u001b[1;33m:\u001b[0m \u001b[1;36m7\u001b[0m\u001b[1;33m,\u001b[0m \u001b[1;36m6\u001b[0m\u001b[1;33m:\u001b[0m \u001b[1;36m5\u001b[0m\u001b[1;33m}\u001b[0m\u001b[1;33m]\u001b[0m\u001b[1;33m\u001b[0m\u001b[0m\n\u001b[1;32m----> 7\u001b[1;33m \u001b[0mmain_sim\u001b[0m\u001b[1;33m(\u001b[0m\u001b[0mitems_number\u001b[0m\u001b[1;33m,\u001b[0m \u001b[0mworkers_number\u001b[0m\u001b[1;33m,\u001b[0m \u001b[0mcollect_rate\u001b[0m\u001b[1;33m,\u001b[0m \u001b[0mforward_rate\u001b[0m\u001b[1;33m,\u001b[0m \u001b[0mback_rate\u001b[0m\u001b[1;33m,\u001b[0m \u001b[0mbatches\u001b[0m\u001b[1;33m)\u001b[0m\u001b[1;33m\u001b[0m\u001b[0m\n\u001b[0m",
      "\u001b[1;32m<ipython-input-9-709581eb0fe1>\u001b[0m in \u001b[0;36mmain_sim\u001b[1;34m(items_number, workers_number, collect_rate, forward_rate, back_rate, batches)\u001b[0m\n\u001b[0;32m     14\u001b[0m     \u001b[0menv\u001b[0m\u001b[1;33m.\u001b[0m\u001b[0mprocess\u001b[0m\u001b[1;33m(\u001b[0m\u001b[0msetup\u001b[0m\u001b[1;33m(\u001b[0m\u001b[0menv\u001b[0m\u001b[1;33m,\u001b[0m\u001b[0mFactory\u001b[0m\u001b[1;33m,\u001b[0m\u001b[0mworkers_number\u001b[0m\u001b[1;33m,\u001b[0m \u001b[0mcollect_rate\u001b[0m\u001b[1;33m,\u001b[0m \u001b[0mforward_rate\u001b[0m\u001b[1;33m,\u001b[0m \u001b[0mback_rate\u001b[0m\u001b[1;33m)\u001b[0m\u001b[1;33m)\u001b[0m\u001b[1;33m\u001b[0m\u001b[0m\n\u001b[0;32m     15\u001b[0m     \u001b[1;31m# Execute!\u001b[0m\u001b[1;33m\u001b[0m\u001b[1;33m\u001b[0m\u001b[0m\n\u001b[1;32m---> 16\u001b[1;33m     \u001b[0menv\u001b[0m\u001b[1;33m.\u001b[0m\u001b[0mrun\u001b[0m\u001b[1;33m(\u001b[0m\u001b[0muntil\u001b[0m\u001b[1;33m=\u001b[0m\u001b[0mFactory\u001b[0m\u001b[1;33m.\u001b[0m\u001b[0mfinish_all\u001b[0m\u001b[1;33m)\u001b[0m\u001b[1;33m\u001b[0m\u001b[0m\n\u001b[0m\u001b[0;32m     17\u001b[0m     \u001b[1;32mreturn\u001b[0m \u001b[0mFactory\u001b[0m\u001b[1;33m.\u001b[0m\u001b[0mtime_to_finish\u001b[0m\u001b[1;33m\u001b[0m\u001b[0m\n",
      "\u001b[1;32m~\\Anaconda3\\lib\\site-packages\\simpy\\core.py\u001b[0m in \u001b[0;36mrun\u001b[1;34m(self, until)\u001b[0m\n\u001b[0;32m    135\u001b[0m         \u001b[1;32mtry\u001b[0m\u001b[1;33m:\u001b[0m\u001b[1;33m\u001b[0m\u001b[0m\n\u001b[0;32m    136\u001b[0m             \u001b[1;32mwhile\u001b[0m \u001b[1;32mTrue\u001b[0m\u001b[1;33m:\u001b[0m\u001b[1;33m\u001b[0m\u001b[0m\n\u001b[1;32m--> 137\u001b[1;33m                 \u001b[0mself\u001b[0m\u001b[1;33m.\u001b[0m\u001b[0mstep\u001b[0m\u001b[1;33m(\u001b[0m\u001b[1;33m)\u001b[0m\u001b[1;33m\u001b[0m\u001b[0m\n\u001b[0m\u001b[0;32m    138\u001b[0m         \u001b[1;32mexcept\u001b[0m \u001b[0mStopSimulation\u001b[0m \u001b[1;32mas\u001b[0m \u001b[0mexc\u001b[0m\u001b[1;33m:\u001b[0m\u001b[1;33m\u001b[0m\u001b[0m\n\u001b[0;32m    139\u001b[0m             \u001b[1;32mreturn\u001b[0m \u001b[0mexc\u001b[0m\u001b[1;33m.\u001b[0m\u001b[0margs\u001b[0m\u001b[1;33m[\u001b[0m\u001b[1;36m0\u001b[0m\u001b[1;33m]\u001b[0m  \u001b[1;31m# == until.value\u001b[0m\u001b[1;33m\u001b[0m\u001b[0m\n",
      "\u001b[1;32m~\\Anaconda3\\lib\\site-packages\\simpy\\core.py\u001b[0m in \u001b[0;36mstep\u001b[1;34m(self)\u001b[0m\n\u001b[0;32m    217\u001b[0m         \u001b[1;31m# Process callbacks of the event. Set the events callbacks to None\u001b[0m\u001b[1;33m\u001b[0m\u001b[1;33m\u001b[0m\u001b[0m\n\u001b[0;32m    218\u001b[0m         \u001b[1;31m# immediately to prevent concurrent modifications.\u001b[0m\u001b[1;33m\u001b[0m\u001b[1;33m\u001b[0m\u001b[0m\n\u001b[1;32m--> 219\u001b[1;33m         \u001b[0mcallbacks\u001b[0m\u001b[1;33m,\u001b[0m \u001b[0mevent\u001b[0m\u001b[1;33m.\u001b[0m\u001b[0mcallbacks\u001b[0m \u001b[1;33m=\u001b[0m \u001b[0mevent\u001b[0m\u001b[1;33m.\u001b[0m\u001b[0mcallbacks\u001b[0m\u001b[1;33m,\u001b[0m \u001b[1;32mNone\u001b[0m\u001b[1;33m\u001b[0m\u001b[0m\n\u001b[0m\u001b[0;32m    220\u001b[0m         \u001b[1;32mfor\u001b[0m \u001b[0mcallback\u001b[0m \u001b[1;32min\u001b[0m \u001b[0mcallbacks\u001b[0m\u001b[1;33m:\u001b[0m\u001b[1;33m\u001b[0m\u001b[0m\n\u001b[0;32m    221\u001b[0m             \u001b[0mcallback\u001b[0m\u001b[1;33m(\u001b[0m\u001b[0mevent\u001b[0m\u001b[1;33m)\u001b[0m\u001b[1;33m\u001b[0m\u001b[0m\n",
      "\u001b[1;31mKeyboardInterrupt\u001b[0m: "
     ]
    }
   ],
   "source": [
    "items_number = 6 \n",
    "workers_number = 2\n",
    "collect_rate = [(1.4, 0.2), (1, 0.2)] \n",
    "forward_rate = [(1, 0.2), (1, 0.2)] \n",
    "back_rate = [(0.5, 0.1), (0.5, 0.1)] \n",
    "batches = [{1: 10, 2: 14, 3: 10, 4: 4, 5: 6, 6: 12}, {1: 12, 2: 14, 3: 4, 4: 10, 5: 8, 6: 11}, {1: 7, 2: 15, 3: 9, 4: 6, 5: 8, 6: 13}, {1: 13, 2: 7, 3: 8, 4: 15, 5: 7, 6: 8}, {1: 1, 2: 12, 3: 16, 4: 11, 5: 4, 6: 16}, {1: 6, 2: 12, 3: 2, 4: 4, 5: 4, 6: 11}, {1: 8, 2: 2, 3: 4, 5: 7, 6: 5}]\n",
    "main_sim(items_number, workers_number, collect_rate, forward_rate, back_rate, batches)"
   ]
  },
  {
>>>>>>> bcb6b0a2c8bb56478eb403505956de75c55e8adc
   "cell_type": "markdown",
   "metadata": {},
   "source": [
    "## Simulation Parameter - Read Excel File"
   ]
  },
  {
   "cell_type": "code",
<<<<<<< HEAD
   "execution_count": 151,
=======
   "execution_count": 11,
>>>>>>> bcb6b0a2c8bb56478eb403505956de75c55e8adc
   "metadata": {
    "collapsed": true
   },
   "outputs": [],
   "source": [
    "def getParameters_fromExcel(filename, sheetname, capacity = 1):\n",
    "    '''\n",
    "    :param: filename, sheetname: the name of the excel file and the relvant sheet for the given simulation.\n",
    "    :param: capacity: can be 1 or 2 (each sheet has 2 capacity options)\n",
    "    :return: the orders DataFrame, and the capacity integer \n",
    "    '''\n",
    "    data = pd.read_excel(filename, sheetname)\n",
    "    orders = data.drop(['capacity1', 'capacity2'], axis=1)\n",
    "    capacity = data['capacity'+ str(capacity)][0]\n",
    "    sum_products = orders.apply(sum, axis=1) #create vector with the total amount of products in each order\n",
    "    return orders, capacity"
   ]
  },
  {
   "cell_type": "markdown",
   "metadata": {},
   "source": [
    "------------\n"
   ]
  },
  {
   "cell_type": "markdown",
   "metadata": {},
   "source": [
    "# Part 3 - The Genetic Algorithm"
   ]
  },
  {
   "cell_type": "markdown",
   "metadata": {},
   "source": [
    "## Chromozom to Buckets (\"Batches\") and their orders"
   ]
  },
  {
   "cell_type": "code",
<<<<<<< HEAD
   "execution_count": 152,
   "metadata": {},
   "outputs": [
    {
=======
   "execution_count": 12,
   "metadata": {},
   "outputs": [
    {
     "name": "stdout",
     "output_type": "stream",
     "text": [
      "    0  1  2  3  4  5\n",
      "0   4  0  6  7  0  6\n",
      "1   2  2  3  3  1  6\n",
      "2   0  5  3  0  1  4\n",
      "3   1  6  2  0  4  6\n",
      "4   2  7  1  1  3  0\n",
      "5   4  8  6  1  7  7\n",
      "6   0  0  8  1  3  5\n",
      "7   0  5  4  0  0  2\n",
      "8   8  7  1  2  0  7\n",
      "9   8  2  4  0  7  5\n",
      "10  1  1  0  5  0  1\n",
      "11  0  0  0  1  5  1\n",
      "12  5  5  0  7  0  6\n",
      "13  1  5  0  2  0  0\n",
      "14  1  2  7  6  2  0\n",
      "15  0  1  3  5  1  7\n",
      "16  8  6  2  3  7  1\n",
      "17  7  4  1  2  2  0\n",
      "18  5  6  0  4  0  5\n",
      "19  0  4  2  0  1  7\n"
     ]
    },
    {
>>>>>>> bcb6b0a2c8bb56478eb403505956de75c55e8adc
     "data": {
      "text/plain": [
       "[{1: 29, 2: 42, 3: 38, 4: 15, 5: 26, 6: 48},\n",
       " {1: 28, 2: 34, 3: 15, 4: 35, 5: 18, 6: 28}]"
      ]
     },
<<<<<<< HEAD
     "execution_count": 152,
=======
     "execution_count": 12,
>>>>>>> bcb6b0a2c8bb56478eb403505956de75c55e8adc
     "metadata": {},
     "output_type": "execute_result"
    }
   ],
   "source": [
    "def chromozom_to_batches(chromozom, data):\n",
    "    # deal with empty buckets\n",
    "    uniqueSortedChrom = list(np.unique(chromozom)) \n",
    "    for gene in range(len(chromozom)):\n",
    "        chromozom[gene] = uniqueSortedChrom.index(chromozom[gene])        \n",
    "    \n",
    "    # the number of batches is similar to the maximum number in the buckets (+1, because we star with zero)\n",
    "    batches = [{item:0 for item in range(1, data.shape[1]+1, 1)} for d in range(max(chromozom)+1)]  # batches is a list of dictionaries. [{itemType : quantity}, {} ...]. The last dictionary represents the first bucket to be done.\n",
    "    #print (batches)\n",
    "    #print (data)\n",
    "    \n",
    "    for j in range(len(chromozom)):\n",
    "        for i in range(data.shape[1]):\n",
    "            batches[chromozom[j]][i+1] += data[i][j] \n",
    "    \n",
    "    # delete items with zero value in all dictionaries    \n",
    "    for bucket in range(len(batches)):\n",
    "        for item in range(1, data.shape[1], 1):\n",
    "            if batches[bucket][item] == 0:\n",
    "                del batches[bucket][item]\n",
<<<<<<< HEAD
    "        \n",
=======
>>>>>>> bcb6b0a2c8bb56478eb403505956de75c55e8adc
    "    return batches\n",
    "\n",
    "# TEST ONLY !\n",
    "data, capacity = getParameters_fromExcel('input.xlsx', '20 orders new format', 1)\n",
<<<<<<< HEAD
=======
    "print (data)\n",
>>>>>>> bcb6b0a2c8bb56478eb403505956de75c55e8adc
    "chromozom_to_batches([1,1,1,1,1,1,1,1,1,1,2,2,2,2,2,2,2,2,2,2], data)"
   ]
  },
  {
   "cell_type": "markdown",
   "metadata": {},
   "source": [
    "# Genetic algorithem"
   ]
  },
  {
   "cell_type": "code",
<<<<<<< HEAD
   "execution_count": 153,
   "metadata": {
    "scrolled": true
=======
   "execution_count": 13,
   "metadata": {
    "collapsed": true
>>>>>>> bcb6b0a2c8bb56478eb403505956de75c55e8adc
   },
   "outputs": [],
   "source": [
    "def f(chromozom, parameters):\n",
    "    # returns the avarage time from the simulations, due to inputs x\n",
<<<<<<< HEAD
    "    return main_sim(items_number = parameters['orders'].shape[1],\n",
    "                    workers_number = parameters['pickersNum'],\n",
    "                    collect_rate = parameters['pickersPref']['pickersNum']['tp'],\n",
    "                    forward_rate = parameters['pickersPref']['pickersNum']['tf'],\n",
    "                    back_rate = parameters['pickersPref']['pickersNum']['tb'],\n",
    "                    batches = chromozom_to_batches(chromozom, parameters['orders']))\n",
    "\n",
=======
    "    batches = chromozom_to_batches(chromozom, parameters['orders'])\n",
    "    print (\"Batches for simulation :\", batches)\n",
    "    \n",
    "    print (\"\\nParameters for simulation: \")\n",
    "    print (\"items_number =\", parameters['orders'].shape[1],\n",
    "            \"\\nworkers_number =\",  parameters['pickersNum'],\n",
    "            \"collect_rate =\", parameters['pickersPerf']['tp'], \"\\nforward_rate =\", parameters['pickersPerf']['tf'],\n",
    "            \"\\nback_rate =\", parameters['pickersPerf']['tb'],\n",
    "            \"\\nbatches =\", batches)\n",
    "    \n",
    "    sim = main_sim(items_number = parameters['orders'].shape[1],\n",
    "                    workers_number = parameters['pickersNum'],\n",
    "                    collect_rate = parameters['pickersPerf']['tp'],\n",
    "                    forward_rate = parameters['pickersPerf']['tf'],\n",
    "                    back_rate = parameters['pickersPerf']['tb'],\n",
    "                    batches = batches)\n",
    "    print (\"Simulation Result = \", sim)\n",
    "    return sim\n"
   ]
  },
  {
   "cell_type": "code",
   "execution_count": 14,
   "metadata": {
    "collapsed": true,
    "scrolled": true
   },
   "outputs": [],
   "source": [
>>>>>>> bcb6b0a2c8bb56478eb403505956de75c55e8adc
    "########################################################################################\n",
    "# Convert simulation arrangement inputs to a chromozom\n",
    "def x_to_chromozom(x):\n",
    "    # The returned chromozom is an array, that represents the arrangement.\n",
    "    # Position j in the array represent order j, and the number in this position represent the number of the box for this order.\n",
    "    chromozom = []\n",
    "    return chromozom\n",
    "########################################################################################\n",
    "\n",
    "\n",
    "\n",
    "# Generate a random chromozom\n",
    "def random_chromozom(ordersLen):\n",
    "    '''\n",
    "    :param ordersLen: the length of the orders array.\n",
    "    :return: a random chromozom.\n",
    "    '''\n",
    "    J = ordersLen # get the number of orders\n",
    "    for i in range(J):\n",
    "        temp[i]= random.randint(0, J)\n",
    "    return x_to_chromozom(temp)\n",
    "\n",
    "\n",
    "# Check if the chromozom is valid\n",
<<<<<<< HEAD
    "def validate_chromozom(chromozom, capacity):\n",
    "    buckets = chromozom_to_batches(chromozom)\n",
=======
    "def validate_chromozom(chromozom, parameters):\n",
    "    buckets = chromozom_to_batches(chromozom, parameters['orders'])\n",
>>>>>>> bcb6b0a2c8bb56478eb403505956de75c55e8adc
    "    for bucket in buckets:\n",
    "        totalItemsNum = 0\n",
    "        for item in bucket.keys():\n",
    "            totalItemsNum += bucket[item]\n",
<<<<<<< HEAD
    "        if totalItemsNum > capacity:\n",
=======
    "        if totalItemsNum > parameters['capacity']:\n",
>>>>>>> bcb6b0a2c8bb56478eb403505956de75c55e8adc
    "            return False\n",
    "    return True\n",
    "\n",
    "\n",
    "#Create the initial Population\n",
    "def init_pop(num_of_population, parameters):\n",
    "    list_of_chromozoms = []\n",
    "#     for i in range(int(num_of_population * 0.5)):\n",
    "#         list_of_chromozoms.append(random_chromozom())\n",
    "    for i in range(int(num_of_population * 1.0)):\n",
    "        #print (parameters['sheetName'], parameters['capacityOption'])\n",
    "        list_of_chromozoms.append(create_naive_solution(filename = parameters['excelFile'],sheetname=parameters['sheetName'], capacity=parameters['capacityOption']))\n",
<<<<<<< HEAD
    "    list_of_chromozoms.append(lp_Heuristic(parametersSheet))  # Add the LP solution to the population\n",
=======
    "    list_of_chromozoms.append(lp_Heuristic(filename = parameters['excelFile'],sheetname = parameters['sheetName'], capacity_num=parameters['capacityOption']))  # Add the LP solution to the population\n",
>>>>>>> bcb6b0a2c8bb56478eb403505956de75c55e8adc
    "    return list_of_chromozoms\n",
    "\n",
    "\n",
    "# Calculate the Fit Function for all the given population\n",
    "# returns the probability to choose each chromozom from the population\n",
    "def calc_fit(pop, parameters):\n",
    "    # pop - The Population. An array of all the chromozoms to calculate.\n",
<<<<<<< HEAD
    "    pop_values = []  # the values of the chromozoms in the population (according to the simulations)\n",
    "    for i in range(len(pop)):\n",
    "        # if the chromozom is not valid, give it a very low fit\n",
    "        if not validate_chromozom(pop[i]):\n",
=======
    "    print (\"calculating fit value for population : \", pop)\n",
    "    pop_values = []  # the values of the chromozoms in the population (according to the simulations)\n",
    "    for i in range(len(pop)):\n",
    "        # if the chromozom is not valid, give it a very low fit\n",
    "        if not validate_chromozom(pop[i], parameters):\n",
    "            print (pop[i], \"is not valid.\")\n",
>>>>>>> bcb6b0a2c8bb56478eb403505956de75c55e8adc
    "            pop_values.append(0.001)\n",
    "        else:\n",
    "            pop_values.append(f(pop[i], parameters))  # add to the population values list the value of the current chromozom   \n",
    "    p_list = []  # A list of the probabilities to choose chromozom i from the population\n",
    "    for i in range(len(pop_values)):\n",
    "        p_list.append(1 - (pop_values[i] / sum(pop_values)))  # We want to give higher probability to lower solution, thus the (1 - value / sum_of_values)\n",
    "    return p_list\n",
    "    \n",
    "    \n",
    "def mutate(chromozom):\n",
    "    for i in range(len(chromozom)):\n",
    "        temp_random = random.randint(0, J-1)  # every gene in the chromozom has a 1/J probability to be mutated\n",
    "        if temp_random == 1:\n",
    "            chromozom[i] += 1\n",
    "            if chromozom[i] == J:  # if the order is now in box J+1 (there are only J boxes). Notice - written in Python, boxes are from 0 to J-1\n",
    "                chromozom[i] = 0\n",
    "    return chromozom\n",
    "\n",
    "\n",
<<<<<<< HEAD
    "def select_parents(pop):\n",
    "    list_of_parents = []\n",
    "    i = 0\n",
    "    while i < (len(pop) / 2):\n",
    "        first_parent = pop[int(np.random.choice(len(pop), 1, replace=False, p = calc_fit(pop)))]  # the first parent is chosen accourding to the Fit Function Probability\n",
=======
    "def select_parents(pop, parameters):\n",
    "    list_of_parents = []\n",
    "    i = 0\n",
    "    while i < (len(pop) / 2):\n",
    "        first_parent = pop[int(np.random.choice(len(pop), 1, replace=False, p = calc_fit(pop, parameters)))]  # the first parent is chosen accourding to the Fit Function Probability\n",
>>>>>>> bcb6b0a2c8bb56478eb403505956de75c55e8adc
    "        second_parent = pop[int(np.random.choice(len(pop), 1, replace=False))]  # the second parent is chosen randomly.\n",
    "        if np.any(first_parent != second_parent):  # if the same chromozom was chosen twice, select again.\n",
    "            i += 1\n",
    "            list_of_parents.append([first_parent, second_parent])\n",
    "    return list_of_parents\n",
    "\n",
    "\n",
    "def crossover(chromozom1, chromozom2):\n",
    "    crossPoint = np.random.randint(1, len(chromozom1))\n",
    "    baby_gene = np.zeros(len(chromozom1))\n",
    "    baby_gene[:crossPoint] = chromozom1[:crossPoint]\n",
    "    baby_gene[crossPoint:] = chromozom2[crossPoint:]\n",
    "    return baby_gene\n",
    "\n",
    "#############################################################\n",
    "def get_key(item): #function for the sort key\n",
    "    return f(chromozom_to_x(item))\n",
    "#############################################################\n",
    "\n",
    "def survival(pop, offspring):\n",
    "    new_generation=[]\n",
    "    num_survive=int(0.1*len(pop))  # NEED TO CHECK IF 10% IS GOOD\n",
    "    sorted_pop = sorted(pop, key = get_key)\n",
    "    sorted_offspring= sorted(offspring, key= get_key)\n",
    "    new_pop_2=sorted_offspring[num_survive:]\n",
    "    new_pop_1=sorted_pop[(len(pop)-num_survive):]\n",
    "    new_pop=new_pop_1+new_pop_2\n",
<<<<<<< HEAD
    "    return new_pop\n",
    "\n"
=======
    "    return new_pop"
>>>>>>> bcb6b0a2c8bb56478eb403505956de75c55e8adc
   ]
  },
  {
   "cell_type": "markdown",
   "metadata": {},
   "source": [
    "# Part 4 - The Main Code"
   ]
  },
  {
   "cell_type": "code",
<<<<<<< HEAD
   "execution_count": 154,
   "metadata": {},
   "outputs": [],
   "source": [
    "def MainGeneticAlgo(parameters):\n",
    "    pop = init_pop(10, parameters)\n",
    "    iter_num= 100 #number of generations\n",
    "    best_list=[]\n",
    "    for i in range(iter_num):\n",
    "        parents_pairs = select_parents(pop)\n",
=======
   "execution_count": 15,
   "metadata": {
    "collapsed": true
   },
   "outputs": [],
   "source": [
    "def MainGeneticAlgo(parameters):\n",
    "    print(\"\\nStarting Genetic Algorithm.\")\n",
    "    pop = init_pop(10, parameters)\n",
    "    iter_num= 3 #number of generations\n",
    "    print (\"Initial population :\", pop)\n",
    "    best_list=[]\n",
    "    for i in range(iter_num):\n",
    "        parents_pairs = select_parents(pop, parameters)\n",
>>>>>>> bcb6b0a2c8bb56478eb403505956de75c55e8adc
    "        new_offspring=[]\n",
    "        for i in range(len(parents_pairs)): #creates 2 child from each pair\n",
    "            for j in range(2):\n",
    "                new_offspring.append(mutate(crossover(parents_pairs[i][0], parents_pairs[i][1])))\n",
    "        pop=survival(pop,new_offspring)\n",
    "        best= np.argmax(map(lambda x: get_key(x), pop)) #save the best solution\n",
    "        best_list.append(get_key(pop[best]))\n",
    "        print ('the best solution is ' + str(chromozom_to_x(pop[best]))+ 'with' + str(get_key(pop[best])))\n",
    "#-----------------------------------------------------------------------------------------------------------------------\n",
    "#create graph\n",
    "\n",
    "\n",
    "# t = np.arange(0.0, float(iter_num), 1.0)\n",
    "# x= range(1,iter_num+1,1)\n",
    "# plt.plot(x, best_list, 'b')\n",
    "# plt.ylabel('Hppiness units')\n",
    "# plt.title('Gene project')\n",
    "# plt.xlabel('Generetion')\n",
    "# plt.grid(True)\n",
    "\n",
    "# plt.show()"
   ]
  },
  {
   "cell_type": "code",
<<<<<<< HEAD
   "execution_count": 156,
   "metadata": {},
=======
   "execution_count": 17,
   "metadata": {
    "scrolled": false
   },
>>>>>>> bcb6b0a2c8bb56478eb403505956de75c55e8adc
   "outputs": [
    {
     "name": "stdout",
     "output_type": "stream",
     "text": [
      "Number of Pickers : 2 \n",
      "Pickers Performance : {'tf': [(1, 0.2), (1, 0.2)], 'tb': [(0.5, 0.1), (0.5, 0.1)], 'tp': [(1.4, 0.2), (1, 0.2)]} \n",
      "Capacity : 60.0 \n",
      "Number of Item Types : 6 \n",
<<<<<<< HEAD
      "Number of orders : 20\n"
     ]
    },
    {
     "ename": "NameError",
     "evalue": "name 'LP_Solution' is not defined",
     "output_type": "error",
     "traceback": [
      "\u001b[1;31m---------------------------------------------------------------------------\u001b[0m",
      "\u001b[1;31mNameError\u001b[0m                                 Traceback (most recent call last)",
      "\u001b[1;32m<ipython-input-156-223ce59a49b5>\u001b[0m in \u001b[0;36m<module>\u001b[1;34m()\u001b[0m\n\u001b[0;32m     90\u001b[0m                        \u001b[1;34m'\\nNumber of Item Types :'\u001b[0m\u001b[1;33m,\u001b[0m \u001b[0morders\u001b[0m\u001b[1;33m.\u001b[0m\u001b[0mshape\u001b[0m\u001b[1;33m[\u001b[0m\u001b[1;36m1\u001b[0m\u001b[1;33m]\u001b[0m\u001b[1;33m,\u001b[0m\u001b[1;33m\u001b[0m\u001b[0m\n\u001b[0;32m     91\u001b[0m                        '\\nNumber of orders :', orders.shape[0])\n\u001b[1;32m---> 92\u001b[1;33m                 \u001b[0mMainGeneticAlgo\u001b[0m\u001b[1;33m(\u001b[0m\u001b[0mparameters\u001b[0m\u001b[1;33m)\u001b[0m\u001b[1;33m\u001b[0m\u001b[0m\n\u001b[0m\u001b[0;32m     93\u001b[0m \u001b[1;33m\u001b[0m\u001b[0m\n\u001b[0;32m     94\u001b[0m \u001b[1;33m\u001b[0m\u001b[0m\n",
      "\u001b[1;32m<ipython-input-154-e76f08a32a17>\u001b[0m in \u001b[0;36mMainGeneticAlgo\u001b[1;34m(parameters)\u001b[0m\n\u001b[0;32m      1\u001b[0m \u001b[1;32mdef\u001b[0m \u001b[0mMainGeneticAlgo\u001b[0m\u001b[1;33m(\u001b[0m\u001b[0mparameters\u001b[0m\u001b[1;33m)\u001b[0m\u001b[1;33m:\u001b[0m\u001b[1;33m\u001b[0m\u001b[0m\n\u001b[1;32m----> 2\u001b[1;33m     \u001b[0mpop\u001b[0m \u001b[1;33m=\u001b[0m \u001b[0minit_pop\u001b[0m\u001b[1;33m(\u001b[0m\u001b[1;36m10\u001b[0m\u001b[1;33m,\u001b[0m \u001b[0mparameters\u001b[0m\u001b[1;33m)\u001b[0m\u001b[1;33m\u001b[0m\u001b[0m\n\u001b[0m\u001b[0;32m      3\u001b[0m     \u001b[0miter_num\u001b[0m\u001b[1;33m=\u001b[0m \u001b[1;36m100\u001b[0m \u001b[1;31m#number of generations\u001b[0m\u001b[1;33m\u001b[0m\u001b[0m\n\u001b[0;32m      4\u001b[0m     \u001b[0mbest_list\u001b[0m\u001b[1;33m=\u001b[0m\u001b[1;33m[\u001b[0m\u001b[1;33m]\u001b[0m\u001b[1;33m\u001b[0m\u001b[0m\n\u001b[0;32m      5\u001b[0m     \u001b[1;32mfor\u001b[0m \u001b[0mi\u001b[0m \u001b[1;32min\u001b[0m \u001b[0mrange\u001b[0m\u001b[1;33m(\u001b[0m\u001b[0miter_num\u001b[0m\u001b[1;33m)\u001b[0m\u001b[1;33m:\u001b[0m\u001b[1;33m\u001b[0m\u001b[0m\n",
      "\u001b[1;32m<ipython-input-153-07d210b225b5>\u001b[0m in \u001b[0;36minit_pop\u001b[1;34m(num_of_population, parameters)\u001b[0m\n\u001b[0;32m     51\u001b[0m         \u001b[1;31m#print (parameters['sheetName'], parameters['capacityOption'])\u001b[0m\u001b[1;33m\u001b[0m\u001b[1;33m\u001b[0m\u001b[0m\n\u001b[0;32m     52\u001b[0m         \u001b[0mlist_of_chromozoms\u001b[0m\u001b[1;33m.\u001b[0m\u001b[0mappend\u001b[0m\u001b[1;33m(\u001b[0m\u001b[0mcreate_naive_solution\u001b[0m\u001b[1;33m(\u001b[0m\u001b[0mfilename\u001b[0m \u001b[1;33m=\u001b[0m \u001b[0mparameters\u001b[0m\u001b[1;33m[\u001b[0m\u001b[1;34m'excelFile'\u001b[0m\u001b[1;33m]\u001b[0m\u001b[1;33m,\u001b[0m\u001b[0msheetname\u001b[0m\u001b[1;33m=\u001b[0m\u001b[0mparameters\u001b[0m\u001b[1;33m[\u001b[0m\u001b[1;34m'sheetName'\u001b[0m\u001b[1;33m]\u001b[0m\u001b[1;33m,\u001b[0m \u001b[0mcapacity\u001b[0m\u001b[1;33m=\u001b[0m\u001b[0mparameters\u001b[0m\u001b[1;33m[\u001b[0m\u001b[1;34m'capacityOption'\u001b[0m\u001b[1;33m]\u001b[0m\u001b[1;33m)\u001b[0m\u001b[1;33m)\u001b[0m\u001b[1;33m\u001b[0m\u001b[0m\n\u001b[1;32m---> 53\u001b[1;33m     \u001b[0mlist_of_chromozoms\u001b[0m\u001b[1;33m.\u001b[0m\u001b[0mappend\u001b[0m\u001b[1;33m(\u001b[0m\u001b[0mLP_Solution\u001b[0m\u001b[1;33m(\u001b[0m\u001b[0mparametersSheet\u001b[0m\u001b[1;33m)\u001b[0m\u001b[1;33m)\u001b[0m  \u001b[1;31m# Add the LP solution to the population\u001b[0m\u001b[1;33m\u001b[0m\u001b[0m\n\u001b[0m\u001b[0;32m     54\u001b[0m     \u001b[1;32mreturn\u001b[0m \u001b[0mlist_of_chromozoms\u001b[0m\u001b[1;33m\u001b[0m\u001b[0m\n\u001b[0;32m     55\u001b[0m \u001b[1;33m\u001b[0m\u001b[0m\n",
      "\u001b[1;31mNameError\u001b[0m: name 'LP_Solution' is not defined"
=======
      "Number of orders : 20 \n",
      "\n",
      "Orders:     0  1  2  3  4  5\n",
      "0   4  0  6  7  0  6\n",
      "1   2  2  3  3  1  6\n",
      "2   0  5  3  0  1  4\n",
      "3   1  6  2  0  4  6\n",
      "4   2  7  1  1  3  0\n",
      "5   4  8  6  1  7  7\n",
      "6   0  0  8  1  3  5\n",
      "7   0  5  4  0  0  2\n",
      "8   8  7  1  2  0  7\n",
      "9   8  2  4  0  7  5\n",
      "10  1  1  0  5  0  1\n",
      "11  0  0  0  1  5  1\n",
      "12  5  5  0  7  0  6\n",
      "13  1  5  0  2  0  0\n",
      "14  1  2  7  6  2  0\n",
      "15  0  1  3  5  1  7\n",
      "16  8  6  2  3  7  1\n",
      "17  7  4  1  2  2  0\n",
      "18  5  6  0  4  0  5\n",
      "19  0  4  2  0  1  7\n",
      "\n",
      "Starting Genetic Algorithm.\n",
      "Initial population : [[3, 2, 1, 5, 0, 2, 0, 4, 0, 6, 3, 1, 1, 2, 4, 4, 3, 1, 5, 4], [4, 4, 0, 0, 3, 1, 1, 4, 5, 3, 4, 0, 5, 1, 6, 2, 2, 2, 3, 0], [3, 5, 2, 3, 4, 5, 2, 1, 1, 4, 0, 0, 2, 1, 0, 3, 0, 1, 6, 4], [5, 3, 3, 4, 3, 2, 4, 5, 1, 2, 0, 1, 0, 0, 4, 5, 1, 3, 0, 6], [1, 2, 0, 3, 0, 4, 1, 3, 5, 4, 2, 3, 5, 0, 3, 1, 6, 2, 0, 2], [4, 2, 1, 0, 2, 5, 3, 2, 3, 1, 4, 2, 0, 2, 3, 1, 5, 0, 4, 6], [0, 3, 4, 0, 2, 5, 4, 4, 2, 1, 1, 2, 5, 1, 0, 1, 3, 3, 6, 2], [4, 2, 6, 3, 6, 1, 0, 3, 5, 0, 4, 1, 3, 2, 4, 1, 5, 0, 2, 2], [4, 0, 0, 4, 5, 2, 2, 5, 6, 0, 3, 2, 1, 3, 1, 3, 5, 4, 3, 1], [5, 3, 1, 5, 2, 0, 4, 1, 0, 3, 2, 4, 6, 4, 2, 2, 4, 1, 1, 3], [1, 18, 18, 18, 17, 7, 14, 3, 3, 17, 3, 18, 1, 14, 14, 14, 7, 3, 17, 1]]\n",
      "calculating fit value for population :  [[3, 2, 1, 5, 0, 2, 0, 4, 0, 6, 3, 1, 1, 2, 4, 4, 3, 1, 5, 4], [4, 4, 0, 0, 3, 1, 1, 4, 5, 3, 4, 0, 5, 1, 6, 2, 2, 2, 3, 0], [3, 5, 2, 3, 4, 5, 2, 1, 1, 4, 0, 0, 2, 1, 0, 3, 0, 1, 6, 4], [5, 3, 3, 4, 3, 2, 4, 5, 1, 2, 0, 1, 0, 0, 4, 5, 1, 3, 0, 6], [1, 2, 0, 3, 0, 4, 1, 3, 5, 4, 2, 3, 5, 0, 3, 1, 6, 2, 0, 2], [4, 2, 1, 0, 2, 5, 3, 2, 3, 1, 4, 2, 0, 2, 3, 1, 5, 0, 4, 6], [0, 3, 4, 0, 2, 5, 4, 4, 2, 1, 1, 2, 5, 1, 0, 1, 3, 3, 6, 2], [4, 2, 6, 3, 6, 1, 0, 3, 5, 0, 4, 1, 3, 2, 4, 1, 5, 0, 2, 2], [4, 0, 0, 4, 5, 2, 2, 5, 6, 0, 3, 2, 1, 3, 1, 3, 5, 4, 3, 1], [5, 3, 1, 5, 2, 0, 4, 1, 0, 3, 2, 4, 6, 4, 2, 2, 4, 1, 1, 3], [1, 18, 18, 18, 17, 7, 14, 3, 3, 17, 3, 18, 1, 14, 14, 14, 7, 3, 17, 1]]\n",
      "Batches for simulation : [{1: 10, 2: 14, 3: 10, 4: 4, 5: 6, 6: 12}, {1: 12, 2: 14, 3: 4, 4: 10, 5: 8, 6: 11}, {1: 7, 2: 15, 3: 9, 4: 6, 5: 8, 6: 13}, {1: 13, 2: 7, 3: 8, 4: 15, 5: 7, 6: 8}, {1: 1, 2: 12, 3: 16, 4: 11, 5: 4, 6: 16}, {1: 6, 2: 12, 3: 2, 4: 4, 5: 4, 6: 11}, {1: 8, 2: 2, 3: 4, 5: 7, 6: 5}]\n",
      "\n",
      "Parameters for simulation: \n",
      "items_number = 6 \n",
      "workers_number = 2 collect_rate = [(1.4, 0.2), (1, 0.2)] \n",
      "forward_rate = [(1, 0.2), (1, 0.2)] \n",
      "back_rate = [(0.5, 0.1), (0.5, 0.1)] \n",
      "batches = [{1: 10, 2: 14, 3: 10, 4: 4, 5: 6, 6: 12}, {1: 12, 2: 14, 3: 4, 4: 10, 5: 8, 6: 11}, {1: 7, 2: 15, 3: 9, 4: 6, 5: 8, 6: 13}, {1: 13, 2: 7, 3: 8, 4: 15, 5: 7, 6: 8}, {1: 1, 2: 12, 3: 16, 4: 11, 5: 4, 6: 16}, {1: 6, 2: 12, 3: 2, 4: 4, 5: 4, 6: 11}, {1: 8, 2: 2, 3: 4, 5: 7, 6: 5}]\n"
     ]
    },
    {
     "ename": "KeyboardInterrupt",
     "evalue": "",
     "output_type": "error",
     "traceback": [
      "\u001b[1;31m---------------------------------------------------------------------------\u001b[0m",
      "\u001b[1;31mKeyboardInterrupt\u001b[0m                         Traceback (most recent call last)",
      "\u001b[1;32m<ipython-input-7-eb867a8858e0>\u001b[0m in \u001b[0;36mchange_cheking\u001b[1;34m(env, factory, workers_number)\u001b[0m\n\u001b[0;32m      8\u001b[0m                 \u001b[0mfactory\u001b[0m\u001b[1;33m.\u001b[0m\u001b[0mworkers\u001b[0m\u001b[1;33m[\u001b[0m\u001b[0mw\u001b[0m\u001b[1;33m]\u001b[0m\u001b[1;33m.\u001b[0m\u001b[0mwith_box\u001b[0m\u001b[1;33m.\u001b[0m\u001b[0mchange\u001b[0m\u001b[1;33m[\u001b[0m\u001b[0mfactory\u001b[0m\u001b[1;33m.\u001b[0m\u001b[0mworkers\u001b[0m\u001b[1;33m[\u001b[0m\u001b[0mw\u001b[0m\u001b[1;33m]\u001b[0m\u001b[1;33m]\u001b[0m\u001b[1;33m.\u001b[0m\u001b[0msucceed\u001b[0m\u001b[1;33m(\u001b[0m\u001b[1;33m)\u001b[0m\u001b[1;33m\u001b[0m\u001b[0m\n\u001b[1;32m----> 9\u001b[1;33m         \u001b[1;32myield\u001b[0m \u001b[0menv\u001b[0m\u001b[1;33m.\u001b[0m\u001b[0mtimeout\u001b[0m\u001b[1;33m(\u001b[0m\u001b[1;36m0.01\u001b[0m\u001b[1;33m)\u001b[0m  \u001b[1;31m# Check every 10 seconds\u001b[0m\u001b[1;33m\u001b[0m\u001b[0m\n\u001b[0m",
      "\u001b[1;32m~\\Anaconda3\\lib\\site-packages\\simpy\\events.py\u001b[0m in \u001b[0;36m__init__\u001b[1;34m(self, env, delay, value)\u001b[0m\n\u001b[0;32m    209\u001b[0m         \u001b[0mself\u001b[0m\u001b[1;33m.\u001b[0m\u001b[0m_ok\u001b[0m \u001b[1;33m=\u001b[0m \u001b[1;32mTrue\u001b[0m\u001b[1;33m\u001b[0m\u001b[0m\n\u001b[1;32m--> 210\u001b[1;33m         \u001b[0menv\u001b[0m\u001b[1;33m.\u001b[0m\u001b[0mschedule\u001b[0m\u001b[1;33m(\u001b[0m\u001b[0mself\u001b[0m\u001b[1;33m,\u001b[0m \u001b[0mNORMAL\u001b[0m\u001b[1;33m,\u001b[0m \u001b[0mdelay\u001b[0m\u001b[1;33m)\u001b[0m\u001b[1;33m\u001b[0m\u001b[0m\n\u001b[0m\u001b[0;32m    211\u001b[0m \u001b[1;33m\u001b[0m\u001b[0m\n",
      "\u001b[1;32m~\\Anaconda3\\lib\\site-packages\\simpy\\core.py\u001b[0m in \u001b[0;36mschedule\u001b[1;34m(self, event, priority, delay)\u001b[0m\n\u001b[0;32m    195\u001b[0m         heappush(self._queue,\n\u001b[1;32m--> 196\u001b[1;33m                  (self._now + delay, priority, next(self._eid), event))\n\u001b[0m\u001b[0;32m    197\u001b[0m \u001b[1;33m\u001b[0m\u001b[0m\n",
      "\u001b[1;31mKeyboardInterrupt\u001b[0m: ",
      "\nThe above exception was the direct cause of the following exception:\n",
      "\u001b[1;31mKeyboardInterrupt\u001b[0m                         Traceback (most recent call last)",
      "\u001b[1;32m<ipython-input-17-60cb6599f62c>\u001b[0m in \u001b[0;36m<module>\u001b[1;34m()\u001b[0m\n\u001b[0;32m     91\u001b[0m                        \u001b[1;34m'\\nNumber of orders :'\u001b[0m\u001b[1;33m,\u001b[0m \u001b[0morders\u001b[0m\u001b[1;33m.\u001b[0m\u001b[0mshape\u001b[0m\u001b[1;33m[\u001b[0m\u001b[1;36m0\u001b[0m\u001b[1;33m]\u001b[0m\u001b[1;33m,\u001b[0m\u001b[1;33m\u001b[0m\u001b[0m\n\u001b[0;32m     92\u001b[0m                       '\\n\\nOrders:', parameters['orders'])\n\u001b[1;32m---> 93\u001b[1;33m                 \u001b[0mMainGeneticAlgo\u001b[0m\u001b[1;33m(\u001b[0m\u001b[0mparameters\u001b[0m\u001b[1;33m)\u001b[0m\u001b[1;33m\u001b[0m\u001b[0m\n\u001b[0m\u001b[0;32m     94\u001b[0m \u001b[1;33m\u001b[0m\u001b[0m\n\u001b[0;32m     95\u001b[0m \u001b[1;33m\u001b[0m\u001b[0m\n",
      "\u001b[1;32m<ipython-input-15-33f68f62c7df>\u001b[0m in \u001b[0;36mMainGeneticAlgo\u001b[1;34m(parameters)\u001b[0m\n\u001b[0;32m      6\u001b[0m     \u001b[0mbest_list\u001b[0m\u001b[1;33m=\u001b[0m\u001b[1;33m[\u001b[0m\u001b[1;33m]\u001b[0m\u001b[1;33m\u001b[0m\u001b[0m\n\u001b[0;32m      7\u001b[0m     \u001b[1;32mfor\u001b[0m \u001b[0mi\u001b[0m \u001b[1;32min\u001b[0m \u001b[0mrange\u001b[0m\u001b[1;33m(\u001b[0m\u001b[0miter_num\u001b[0m\u001b[1;33m)\u001b[0m\u001b[1;33m:\u001b[0m\u001b[1;33m\u001b[0m\u001b[0m\n\u001b[1;32m----> 8\u001b[1;33m         \u001b[0mparents_pairs\u001b[0m \u001b[1;33m=\u001b[0m \u001b[0mselect_parents\u001b[0m\u001b[1;33m(\u001b[0m\u001b[0mpop\u001b[0m\u001b[1;33m,\u001b[0m \u001b[0mparameters\u001b[0m\u001b[1;33m)\u001b[0m\u001b[1;33m\u001b[0m\u001b[0m\n\u001b[0m\u001b[0;32m      9\u001b[0m         \u001b[0mnew_offspring\u001b[0m\u001b[1;33m=\u001b[0m\u001b[1;33m[\u001b[0m\u001b[1;33m]\u001b[0m\u001b[1;33m\u001b[0m\u001b[0m\n\u001b[0;32m     10\u001b[0m         \u001b[1;32mfor\u001b[0m \u001b[0mi\u001b[0m \u001b[1;32min\u001b[0m \u001b[0mrange\u001b[0m\u001b[1;33m(\u001b[0m\u001b[0mlen\u001b[0m\u001b[1;33m(\u001b[0m\u001b[0mparents_pairs\u001b[0m\u001b[1;33m)\u001b[0m\u001b[1;33m)\u001b[0m\u001b[1;33m:\u001b[0m \u001b[1;31m#creates 2 child from each pair\u001b[0m\u001b[1;33m\u001b[0m\u001b[0m\n",
      "\u001b[1;32m<ipython-input-14-948eec16545c>\u001b[0m in \u001b[0;36mselect_parents\u001b[1;34m(pop, parameters)\u001b[0m\n\u001b[0;32m     79\u001b[0m     \u001b[0mi\u001b[0m \u001b[1;33m=\u001b[0m \u001b[1;36m0\u001b[0m\u001b[1;33m\u001b[0m\u001b[0m\n\u001b[0;32m     80\u001b[0m     \u001b[1;32mwhile\u001b[0m \u001b[0mi\u001b[0m \u001b[1;33m<\u001b[0m \u001b[1;33m(\u001b[0m\u001b[0mlen\u001b[0m\u001b[1;33m(\u001b[0m\u001b[0mpop\u001b[0m\u001b[1;33m)\u001b[0m \u001b[1;33m/\u001b[0m \u001b[1;36m2\u001b[0m\u001b[1;33m)\u001b[0m\u001b[1;33m:\u001b[0m\u001b[1;33m\u001b[0m\u001b[0m\n\u001b[1;32m---> 81\u001b[1;33m         \u001b[0mfirst_parent\u001b[0m \u001b[1;33m=\u001b[0m \u001b[0mpop\u001b[0m\u001b[1;33m[\u001b[0m\u001b[0mint\u001b[0m\u001b[1;33m(\u001b[0m\u001b[0mnp\u001b[0m\u001b[1;33m.\u001b[0m\u001b[0mrandom\u001b[0m\u001b[1;33m.\u001b[0m\u001b[0mchoice\u001b[0m\u001b[1;33m(\u001b[0m\u001b[0mlen\u001b[0m\u001b[1;33m(\u001b[0m\u001b[0mpop\u001b[0m\u001b[1;33m)\u001b[0m\u001b[1;33m,\u001b[0m \u001b[1;36m1\u001b[0m\u001b[1;33m,\u001b[0m \u001b[0mreplace\u001b[0m\u001b[1;33m=\u001b[0m\u001b[1;32mFalse\u001b[0m\u001b[1;33m,\u001b[0m \u001b[0mp\u001b[0m \u001b[1;33m=\u001b[0m \u001b[0mcalc_fit\u001b[0m\u001b[1;33m(\u001b[0m\u001b[0mpop\u001b[0m\u001b[1;33m,\u001b[0m \u001b[0mparameters\u001b[0m\u001b[1;33m)\u001b[0m\u001b[1;33m)\u001b[0m\u001b[1;33m)\u001b[0m\u001b[1;33m]\u001b[0m  \u001b[1;31m# the first parent is chosen accourding to the Fit Function Probability\u001b[0m\u001b[1;33m\u001b[0m\u001b[0m\n\u001b[0m\u001b[0;32m     82\u001b[0m         \u001b[0msecond_parent\u001b[0m \u001b[1;33m=\u001b[0m \u001b[0mpop\u001b[0m\u001b[1;33m[\u001b[0m\u001b[0mint\u001b[0m\u001b[1;33m(\u001b[0m\u001b[0mnp\u001b[0m\u001b[1;33m.\u001b[0m\u001b[0mrandom\u001b[0m\u001b[1;33m.\u001b[0m\u001b[0mchoice\u001b[0m\u001b[1;33m(\u001b[0m\u001b[0mlen\u001b[0m\u001b[1;33m(\u001b[0m\u001b[0mpop\u001b[0m\u001b[1;33m)\u001b[0m\u001b[1;33m,\u001b[0m \u001b[1;36m1\u001b[0m\u001b[1;33m,\u001b[0m \u001b[0mreplace\u001b[0m\u001b[1;33m=\u001b[0m\u001b[1;32mFalse\u001b[0m\u001b[1;33m)\u001b[0m\u001b[1;33m)\u001b[0m\u001b[1;33m]\u001b[0m  \u001b[1;31m# the second parent is chosen randomly.\u001b[0m\u001b[1;33m\u001b[0m\u001b[0m\n\u001b[0;32m     83\u001b[0m         \u001b[1;32mif\u001b[0m \u001b[0mnp\u001b[0m\u001b[1;33m.\u001b[0m\u001b[0many\u001b[0m\u001b[1;33m(\u001b[0m\u001b[0mfirst_parent\u001b[0m \u001b[1;33m!=\u001b[0m \u001b[0msecond_parent\u001b[0m\u001b[1;33m)\u001b[0m\u001b[1;33m:\u001b[0m  \u001b[1;31m# if the same chromozom was chosen twice, select again.\u001b[0m\u001b[1;33m\u001b[0m\u001b[0m\n",
      "\u001b[1;32m<ipython-input-14-948eec16545c>\u001b[0m in \u001b[0;36mcalc_fit\u001b[1;34m(pop, parameters)\u001b[0m\n\u001b[0;32m     58\u001b[0m             \u001b[0mpop_values\u001b[0m\u001b[1;33m.\u001b[0m\u001b[0mappend\u001b[0m\u001b[1;33m(\u001b[0m\u001b[1;36m0.001\u001b[0m\u001b[1;33m)\u001b[0m\u001b[1;33m\u001b[0m\u001b[0m\n\u001b[0;32m     59\u001b[0m         \u001b[1;32melse\u001b[0m\u001b[1;33m:\u001b[0m\u001b[1;33m\u001b[0m\u001b[0m\n\u001b[1;32m---> 60\u001b[1;33m             \u001b[0mpop_values\u001b[0m\u001b[1;33m.\u001b[0m\u001b[0mappend\u001b[0m\u001b[1;33m(\u001b[0m\u001b[0mf\u001b[0m\u001b[1;33m(\u001b[0m\u001b[0mpop\u001b[0m\u001b[1;33m[\u001b[0m\u001b[0mi\u001b[0m\u001b[1;33m]\u001b[0m\u001b[1;33m,\u001b[0m \u001b[0mparameters\u001b[0m\u001b[1;33m)\u001b[0m\u001b[1;33m)\u001b[0m  \u001b[1;31m# add to the population values list the value of the current chromozom\u001b[0m\u001b[1;33m\u001b[0m\u001b[0m\n\u001b[0m\u001b[0;32m     61\u001b[0m     \u001b[0mp_list\u001b[0m \u001b[1;33m=\u001b[0m \u001b[1;33m[\u001b[0m\u001b[1;33m]\u001b[0m  \u001b[1;31m# A list of the probabilities to choose chromozom i from the population\u001b[0m\u001b[1;33m\u001b[0m\u001b[0m\n\u001b[0;32m     62\u001b[0m     \u001b[1;32mfor\u001b[0m \u001b[0mi\u001b[0m \u001b[1;32min\u001b[0m \u001b[0mrange\u001b[0m\u001b[1;33m(\u001b[0m\u001b[0mlen\u001b[0m\u001b[1;33m(\u001b[0m\u001b[0mpop_values\u001b[0m\u001b[1;33m)\u001b[0m\u001b[1;33m)\u001b[0m\u001b[1;33m:\u001b[0m\u001b[1;33m\u001b[0m\u001b[0m\n",
      "\u001b[1;32m<ipython-input-13-5b10a612ac77>\u001b[0m in \u001b[0;36mf\u001b[1;34m(chromozom, parameters)\u001b[0m\n\u001b[0;32m     16\u001b[0m                     \u001b[0mforward_rate\u001b[0m \u001b[1;33m=\u001b[0m \u001b[0mparameters\u001b[0m\u001b[1;33m[\u001b[0m\u001b[1;34m'pickersPerf'\u001b[0m\u001b[1;33m]\u001b[0m\u001b[1;33m[\u001b[0m\u001b[1;34m'tf'\u001b[0m\u001b[1;33m]\u001b[0m\u001b[1;33m,\u001b[0m\u001b[1;33m\u001b[0m\u001b[0m\n\u001b[0;32m     17\u001b[0m                     \u001b[0mback_rate\u001b[0m \u001b[1;33m=\u001b[0m \u001b[0mparameters\u001b[0m\u001b[1;33m[\u001b[0m\u001b[1;34m'pickersPerf'\u001b[0m\u001b[1;33m]\u001b[0m\u001b[1;33m[\u001b[0m\u001b[1;34m'tb'\u001b[0m\u001b[1;33m]\u001b[0m\u001b[1;33m,\u001b[0m\u001b[1;33m\u001b[0m\u001b[0m\n\u001b[1;32m---> 18\u001b[1;33m                     batches = batches)\n\u001b[0m\u001b[0;32m     19\u001b[0m     \u001b[0mprint\u001b[0m \u001b[1;33m(\u001b[0m\u001b[1;34m\"Simulation Result = \"\u001b[0m\u001b[1;33m,\u001b[0m \u001b[0msim\u001b[0m\u001b[1;33m)\u001b[0m\u001b[1;33m\u001b[0m\u001b[0m\n\u001b[0;32m     20\u001b[0m     \u001b[1;32mreturn\u001b[0m \u001b[0msim\u001b[0m\u001b[1;33m\u001b[0m\u001b[0m\n",
      "\u001b[1;32m<ipython-input-9-709581eb0fe1>\u001b[0m in \u001b[0;36mmain_sim\u001b[1;34m(items_number, workers_number, collect_rate, forward_rate, back_rate, batches)\u001b[0m\n\u001b[0;32m     14\u001b[0m     \u001b[0menv\u001b[0m\u001b[1;33m.\u001b[0m\u001b[0mprocess\u001b[0m\u001b[1;33m(\u001b[0m\u001b[0msetup\u001b[0m\u001b[1;33m(\u001b[0m\u001b[0menv\u001b[0m\u001b[1;33m,\u001b[0m\u001b[0mFactory\u001b[0m\u001b[1;33m,\u001b[0m\u001b[0mworkers_number\u001b[0m\u001b[1;33m,\u001b[0m \u001b[0mcollect_rate\u001b[0m\u001b[1;33m,\u001b[0m \u001b[0mforward_rate\u001b[0m\u001b[1;33m,\u001b[0m \u001b[0mback_rate\u001b[0m\u001b[1;33m)\u001b[0m\u001b[1;33m)\u001b[0m\u001b[1;33m\u001b[0m\u001b[0m\n\u001b[0;32m     15\u001b[0m     \u001b[1;31m# Execute!\u001b[0m\u001b[1;33m\u001b[0m\u001b[1;33m\u001b[0m\u001b[0m\n\u001b[1;32m---> 16\u001b[1;33m     \u001b[0menv\u001b[0m\u001b[1;33m.\u001b[0m\u001b[0mrun\u001b[0m\u001b[1;33m(\u001b[0m\u001b[0muntil\u001b[0m\u001b[1;33m=\u001b[0m\u001b[0mFactory\u001b[0m\u001b[1;33m.\u001b[0m\u001b[0mfinish_all\u001b[0m\u001b[1;33m)\u001b[0m\u001b[1;33m\u001b[0m\u001b[0m\n\u001b[0m\u001b[0;32m     17\u001b[0m     \u001b[1;32mreturn\u001b[0m \u001b[0mFactory\u001b[0m\u001b[1;33m.\u001b[0m\u001b[0mtime_to_finish\u001b[0m\u001b[1;33m\u001b[0m\u001b[0m\n",
      "\u001b[1;32m~\\Anaconda3\\lib\\site-packages\\simpy\\core.py\u001b[0m in \u001b[0;36mrun\u001b[1;34m(self, until)\u001b[0m\n\u001b[0;32m    135\u001b[0m         \u001b[1;32mtry\u001b[0m\u001b[1;33m:\u001b[0m\u001b[1;33m\u001b[0m\u001b[0m\n\u001b[0;32m    136\u001b[0m             \u001b[1;32mwhile\u001b[0m \u001b[1;32mTrue\u001b[0m\u001b[1;33m:\u001b[0m\u001b[1;33m\u001b[0m\u001b[0m\n\u001b[1;32m--> 137\u001b[1;33m                 \u001b[0mself\u001b[0m\u001b[1;33m.\u001b[0m\u001b[0mstep\u001b[0m\u001b[1;33m(\u001b[0m\u001b[1;33m)\u001b[0m\u001b[1;33m\u001b[0m\u001b[0m\n\u001b[0m\u001b[0;32m    138\u001b[0m         \u001b[1;32mexcept\u001b[0m \u001b[0mStopSimulation\u001b[0m \u001b[1;32mas\u001b[0m \u001b[0mexc\u001b[0m\u001b[1;33m:\u001b[0m\u001b[1;33m\u001b[0m\u001b[0m\n\u001b[0;32m    139\u001b[0m             \u001b[1;32mreturn\u001b[0m \u001b[0mexc\u001b[0m\u001b[1;33m.\u001b[0m\u001b[0margs\u001b[0m\u001b[1;33m[\u001b[0m\u001b[1;36m0\u001b[0m\u001b[1;33m]\u001b[0m  \u001b[1;31m# == until.value\u001b[0m\u001b[1;33m\u001b[0m\u001b[0m\n",
      "\u001b[1;32m~\\Anaconda3\\lib\\site-packages\\simpy\\core.py\u001b[0m in \u001b[0;36mstep\u001b[1;34m(self)\u001b[0m\n\u001b[0;32m    227\u001b[0m             \u001b[0mexc\u001b[0m \u001b[1;33m=\u001b[0m \u001b[0mtype\u001b[0m\u001b[1;33m(\u001b[0m\u001b[0mevent\u001b[0m\u001b[1;33m.\u001b[0m\u001b[0m_value\u001b[0m\u001b[1;33m)\u001b[0m\u001b[1;33m(\u001b[0m\u001b[1;33m*\u001b[0m\u001b[0mevent\u001b[0m\u001b[1;33m.\u001b[0m\u001b[0m_value\u001b[0m\u001b[1;33m.\u001b[0m\u001b[0margs\u001b[0m\u001b[1;33m)\u001b[0m\u001b[1;33m\u001b[0m\u001b[0m\n\u001b[0;32m    228\u001b[0m             \u001b[0mexc\u001b[0m\u001b[1;33m.\u001b[0m\u001b[0m__cause__\u001b[0m \u001b[1;33m=\u001b[0m \u001b[0mevent\u001b[0m\u001b[1;33m.\u001b[0m\u001b[0m_value\u001b[0m\u001b[1;33m\u001b[0m\u001b[0m\n\u001b[1;32m--> 229\u001b[1;33m             \u001b[1;32mraise\u001b[0m \u001b[0mexc\u001b[0m\u001b[1;33m\u001b[0m\u001b[0m\n\u001b[0m",
      "\u001b[1;31mKeyboardInterrupt\u001b[0m: "
>>>>>>> bcb6b0a2c8bb56478eb403505956de75c55e8adc
     ]
    }
   ],
   "source": [
    "data = {\n",
    "    'data1' :\n",
    "        {\n",
    "            2:\n",
    "            {\n",
    "                'tf' : [(1, 0.2), (1,0.2)],\n",
    "                'tb': [(0.5, 0.1), (0.5, 0.1)],\n",
    "                'tp' : [(1.4, 0.2), (1, 0.2)]\n",
    "            },\n",
    "            3:\n",
    "            {\n",
    "                'tf' : [(1, 0.2), (1,0.2), (1,0.2)],\n",
    "                'tb': [(0.5, 0.1), (0.5, 0.1), (0.5,0.1)],\n",
    "                'tp' : [(1.5, 0.2), (1.2, 0.2), (0.9,0.2)]\n",
    "            },\n",
    "            4:\n",
    "            {\n",
    "                'tf' : [(1, 0.2), (1,0.2), (1,0.2), (1, 0.2)],\n",
    "                'tb': [(0.5, 0.1), (0.5, 0.1), (0.5,0.1), (0.5, 0.1)],\n",
    "                'tp' : [(1.9, 0.2), (1.6, 0.2), (1.3,0.2), (0.9,0.2)]\n",
    "            }\n",
    "        },\n",
    "\n",
    "    'data2' :\n",
    "        {\n",
    "            2:\n",
    "            {\n",
    "               'tf' : [(1, 0.2), (1,0.2)],\n",
    "                'tb': [(0.5, 0.1), (0.5, 0.1)],\n",
    "                'tp' : [(1.1, 0.2), (1, 0.2)]\n",
    "            },\n",
    "            3:\n",
    "            {\n",
    "            'tf' : [(1, 0.2), (1,0.2), (1, 0.2)],\n",
    "            'tb': [(0.5, 0.1), (0.5, 0.1), (0.5,0.1)],\n",
    "            'tp' : [(1.2, 0.2), (1.2, 0.2), (1.1,0.2)]\n",
    "            },\n",
    "            4:\n",
    "            {\n",
    "                'tf' : [(1, 0.2), (1,0.2), (1,0.2), (1, 0.2)],\n",
    "                'tb': [(0.5, 0.1), (0.5, 0.1), (0.5,0.1), (0.5, 0.1)],\n",
    "                'tp' : [(1.2, 0.2), (1.1, 0.2), (1,0.2), (1,0.2)]\n",
    "            }\n",
    "        }\n",
    "    }\n",
    "\n",
    "\n",
    "sheetParameters = {'20 orders new format': {\n",
    "                                            'Number of pickers': [2],\n",
    "                                            'Picker performance':['data1','data2'],                   \n",
    "                                            'Total capacity' : [1,2]\n",
    "                                            },\n",
    "                   '50 orders new format': {\n",
    "                                            'Number of pickers': [2, 3],\n",
    "                                            'Picker performance': ['data1','data2'],                   \n",
    "                                            'Total capacity' : [1,2]\n",
    "                                            },\n",
    "                   '100 orders new format': {\n",
    "                                            'Number of pickers': [3, 4],\n",
    "                                            'Picker performance': ['data1','data2'],\n",
    "                                            'Total capacity' : [1,2]\n",
    "                                            }\n",
    "                  }\n",
    "\n",
    "\n",
    "\n",
    "orders, capacity = getParameters_fromExcel('input.xlsx', '20 orders new format', 1)\n",
    "\n",
    "\n",
    "\n",
    "# The algorithm\n",
    "for sheet in sheetParameters.keys():\n",
    "    for pickersNum in sheetParameters[sheet]['Number of pickers']:\n",
    "        for pickersPerf in sheetParameters[sheet]['Picker performance']:\n",
    "            for capacityOption in sheetParameters[sheet]['Total capacity']:\n",
    "                orders, capacity = getParameters_fromExcel('input.xlsx', sheet, capacityOption)\n",
    "                parameters = {\n",
    "                    'excelFile' : 'input.xlsx',\n",
    "                    'sheetName' : sheet,\n",
    "                    'pickersNum' : pickersNum,\n",
    "                    'pickersPerf' : data[pickersPerf][pickersNum],\n",
    "                    'capacityOption' : capacityOption,\n",
    "                    'capacity' : capacity,\n",
    "                    'orders' : orders\n",
    "                            }\n",
    "\n",
    "                print ('Number of Pickers :', parameters['pickersNum'],\n",
    "                      '\\nPickers Performance :', parameters['pickersPerf'],\n",
    "                       '\\nCapacity :', parameters['capacity'],\n",
    "                       '\\nNumber of Item Types :', orders.shape[1],\n",
<<<<<<< HEAD
    "                       '\\nNumber of orders :', orders.shape[0])\n",
=======
    "                       '\\nNumber of orders :', orders.shape[0],\n",
    "                      '\\n\\nOrders:', parameters['orders'])\n",
>>>>>>> bcb6b0a2c8bb56478eb403505956de75c55e8adc
    "                MainGeneticAlgo(parameters)\n",
    "\n",
    "\n",
    "\n",
    "# optionDict = {\n",
    "#                 items_number = 5  # Number of items\n",
    "#                 workers_number = 3  # Number of workers\n",
    "#                 collect_rate = [(1.4,0.2),(1,0.2),(1.2,0.2)]\n",
    "#                 forward_rate = [(1,0.2),(1,0.2),(1,0.1)]\n",
    "#                 back_rate = [(0.5,0.1),(0.5,0.1),(0.7,0.1)]\n",
    "#                 batches = [{1:6,2:2,3:9,4:10,5:1},{1:1,2:11,3:5,5:5},{2:3,3:10,4:10}]\n",
    "\n",
    "#             }\n",
    "\n",
    "# MainGeneticAlgo(\n",
    "\n",
    "# )"
   ]
<<<<<<< HEAD
=======
  },
  {
   "cell_type": "code",
   "execution_count": null,
   "metadata": {
    "collapsed": true
   },
   "outputs": [],
   "source": [
    "items_number = 5  # Number of items\n",
    "workers_number = 3  # Number of workers\n",
    "collect_rate = [(1.4,0.2),(1,0.2),(1.2,0.2)]\n",
    "forward_rate = [(1,0.2),(1,0.2),(1,0.1)]\n",
    "back_rate = [(0.5,0.1),(0.5,0.1),(0.7,0.1)]\n",
    "batches = [{1:6,2:2,3:9,4:10,5:1},{1:1,2:11,3:5,5:5},{2:3,3:10,4:10}]"
   ]
>>>>>>> bcb6b0a2c8bb56478eb403505956de75c55e8adc
  }
 ],
 "metadata": {
  "kernelspec": {
   "display_name": "Python 3",
   "language": "python",
   "name": "python3"
  },
  "language_info": {
   "codemirror_mode": {
    "name": "ipython",
    "version": 3
   },
   "file_extension": ".py",
   "mimetype": "text/x-python",
   "name": "python",
   "nbconvert_exporter": "python",
   "pygments_lexer": "ipython3",
   "version": "3.6.3"
  }
 },
 "nbformat": 4,
 "nbformat_minor": 2
}
