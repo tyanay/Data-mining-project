{
 "cells": [
  {
   "cell_type": "code",
   "execution_count": 45,
   "metadata": {},
   "outputs": [],
   "source": [
    "import pulp\n",
    "import time\n",
    "import numpy as np\n",
    "import pandas as pd"
   ]
  },
  {
   "cell_type": "code",
   "execution_count": 46,
   "metadata": {},
   "outputs": [
    {
     "data": {
      "text/plain": [
       "[8, 14, 6, 8, 0, 0, 14, 8, 6, 6, 6, 0, 14, 0, 14, 8, 0, 6, 8, 14]"
      ]
     },
     "execution_count": 46,
     "metadata": {},
     "output_type": "execute_result"
    }
   ],
   "source": [
    "def lp_Heuristic(filename,sheetname,capacity_num):\n",
    "\n",
    "#load the data\n",
    "    data = pd.read_excel(filename, sheetname)\n",
    "    orders = data[[0,1,2,3,4,5]]\n",
    "    sum_products = orders.apply(sum, axis=1)\n",
    "    if capacity_num == 1:\n",
    "        capacity = data['capacity1'][0]\n",
    "    else:\n",
    "        capacity = data['capacity2'][0]\n",
    "    i_orders = list(orders.index.values)\n",
    "    i_batch = list(orders.index.values)\n",
    "    i_order_batch = []\n",
    "    for order in i_orders:\n",
    "        for batch in i_batch:\n",
    "            i_order_batch.append((batch, order))\n",
    "            \n",
    "#initialise the model\n",
    "    model = pulp.LpProblem('The orders to batches problem', pulp.LpMinimize)\n",
    "\n",
    "\n",
    "# initialise the variables\n",
    "    x = pulp.LpVariable.dict('x', i_batch, lowBound =0, upBound = 1, cat = pulp.LpInteger) #x_1 = 1 if we use bin 1, 0 else\n",
    "    y = pulp.LpVariable.dicts('y', i_order_batch ,lowBound = 0, upBound = 1, cat = pulp.LpInteger) #y_(1,1)- 1 if order 1 in batch 1, 0 else \n",
    "\n",
    "# create the objective\n",
    "    model += pulp.lpSum( [x[batch] for batch in i_batch])\n",
    "\n",
    "# First constraint: For every item, the sum of bins in which it appears must be 1\n",
    "    for order in i_orders:\n",
    "        model += pulp.lpSum([y[(batch, order)] for batch in i_batch]) == 1\n",
    "\n",
    "# Second constraint: desicion variables connection\n",
    "    for order in i_orders:\n",
    "        for batch in i_batch:\n",
    "            model += x[batch] >= y[(batch, order)] \n",
    "\n",
    "# third constraint: capacity\n",
    "    for batch in i_batch:\n",
    "        model += sum([sum_products[order]*y[(batch, order)] for order in i_orders]) <= capacity2\n",
    "    \n",
    "# Solve the optimization.\n",
    "    start_time = time.time()\n",
    "    model.solve()\n",
    "\n",
    "# return results as chromozom\n",
    "    results = {}\n",
    "    for key in y.keys():\n",
    "        if y[key].value()==1:\n",
    "            results[key[1]]=key[0]\n",
    "    lst = [None]*20\n",
    "    for key in results.keys():\n",
    "        lst[key] = results[key]\n",
    "    return lst\n",
    "\n",
    "lp_Heuristic('input.xlsx', '20 orders new format', 1)"
   ]
  },
  {
   "cell_type": "code",
   "execution_count": null,
   "metadata": {
    "collapsed": true
   },
   "outputs": [],
   "source": []
  }
 ],
 "metadata": {
  "kernelspec": {
   "display_name": "Python 3",
   "language": "python",
   "name": "python3"
  },
  "language_info": {
   "codemirror_mode": {
    "name": "ipython",
    "version": 3
   },
   "file_extension": ".py",
   "mimetype": "text/x-python",
   "name": "python",
   "nbconvert_exporter": "python",
   "pygments_lexer": "ipython3",
   "version": "3.6.2"
  }
 },
 "nbformat": 4,
 "nbformat_minor": 2
}
