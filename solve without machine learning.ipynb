{
 "cells": [
  {
   "cell_type": "markdown",
   "metadata": {},
   "source": [
    "# Solve without machine learning"
   ]
  },
  {
   "cell_type": "markdown",
   "metadata": {},
   "source": [
    "we were asked in the project instructions to compare our solutions results with trivial solution that not based on machine learning. <br>\n",
    "we decided to write a rule based algorithem that calculate the mean of each feature within the different classes <br>\n",
    "and classify the row according to the distance from the means.\n"
   ]
  },
  {
   "cell_type": "code",
   "execution_count": null,
   "metadata": {},
   "outputs": [],
   "source": [
    "# we will try to classify the data based on statistics rules\n",
    "# we will create 10 rules, based on the features mean\n",
    "\n",
    "# load the data\n",
    "class_2_df = df[df['target'] == 'Class_2']\n",
    "class_6_df = df[df['target'] != 'Class_2']\n",
    "\n",
    "# calculate the mean for each feature\n",
    "class_2_mean = class_2_df.mean() #Vector of class2 means\n",
    "class_6_mean = class_6_df.mean() #Vector of class6 means\n",
    "\n",
    "#algorithm to classify - \n",
    "def rule_based_classifier(row):\n",
    "    points = 0 #Value between 0 to 10, 0 means that we sure the row belongs to class2, 10 means that we sure the row belongs to class6\n",
    "    for i in range(len(row)):\n",
    "        if abs(row[i]-class_2_mean[i]) > abs(row[i]-class_6_mean[i]): #if the distance to the mean of class6 shorter then the distance to the mean of class2\n",
    "            points +=1 \n",
    "    if points > 5: #In case of tide (points = 5) we choose class2 because it is a larger part of the data (53.07%)\n",
    "        return \"Class_6\"\n",
    "    return \"Class_2\" \n",
    "            \n",
    "            \n",
    "# using the algorithm to predict the classes of the train data\n",
    "predicts = df[df.columns[:-1]].apply(rule_based_classifier, axis = 1)"
   ]
  },
  {
   "cell_type": "code",
   "execution_count": null,
   "metadata": {},
   "outputs": [],
   "source": [
    "# print the algorithm accuracy (on train)\n",
    "print \"the accuracy of the rule based algorithm is: \", (predicts == df['target']).sum() / float(df.shape[0])"
   ]
  },
  {
   "cell_type": "markdown",
   "metadata": {},
   "source": [
    "we can see the algorithm is not very successful. <br>\n",
    "the accuracy will be almost the same if we just classify all the rows to class2, <br>\n",
    "Without even checking their value "
   ]
  },
  {
   "cell_type": "code",
   "execution_count": null,
   "metadata": {},
   "outputs": [],
   "source": []
  }
 ],
 "metadata": {
  "kernelspec": {
   "display_name": "Python 2",
   "language": "python",
   "name": "python2"
  },
  "language_info": {
   "codemirror_mode": {
    "name": "ipython",
    "version": 2
   },
   "file_extension": ".py",
   "mimetype": "text/x-python",
   "name": "python",
   "nbconvert_exporter": "python",
   "pygments_lexer": "ipython2",
   "version": "2.7.14"
  }
 },
 "nbformat": 4,
 "nbformat_minor": 2
}
